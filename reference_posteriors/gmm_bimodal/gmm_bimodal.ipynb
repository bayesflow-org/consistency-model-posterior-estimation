{
 "cells": [
  {
   "cell_type": "code",
   "execution_count": 2,
   "metadata": {},
   "outputs": [
    {
     "name": "stderr",
     "output_type": "stream",
     "text": [
      "/Users/marvin/miniforge3/envs/cmpe/lib/python3.10/site-packages/bayesflow/trainers.py:27: TqdmWarning: IProgress not found. Please update jupyter and ipywidgets. See https://ipywidgets.readthedocs.io/en/stable/user_install.html\n",
      "  from tqdm.autonotebook import tqdm\n"
     ]
    }
   ],
   "source": [
    "import logging\n",
    "import os\n",
    "import pickle\n",
    "\n",
    "import bayesflow as bf\n",
    "import matplotlib.pyplot as plt\n",
    "import numpy as np\n",
    "import pandas as pd\n",
    "import seaborn as sns\n",
    "import tensorflow as tf\n",
    "import tensorflow_probability as tfp\n",
    "from cmdstanpy import CmdStanModel\n",
    "from matplotlib import cm\n",
    "from scipy import stats\n",
    "from tqdm.autonotebook import tqdm\n",
    "\n",
    "cmap = plt.get_cmap(\"viridis\", 6)"
   ]
  },
  {
   "cell_type": "code",
   "execution_count": 3,
   "metadata": {},
   "outputs": [],
   "source": [
    "class GMM(tfp.distributions.MixtureSameFamily):\n",
    "    def __init__(self, theta):\n",
    "        logging.getLogger().setLevel(logging.ERROR)\n",
    "        mixture_weights_dist = tfp.distributions.Categorical(probs=[0.5, 0.5])\n",
    "        components_dist = tfp.distributions.MultivariateNormalDiag(\n",
    "            loc=tf.stack([theta, -1.0 * theta], axis=1), scale_diag=[[0.5, 0.5]]\n",
    "        )\n",
    "\n",
    "        super().__init__(mixture_distribution=mixture_weights_dist, components_distribution=components_dist)\n",
    "\n",
    "\n",
    "class GMMPrior:\n",
    "    def __init__(self, prior_location=[0, 0], prior_scale_diag=[1, 1]):\n",
    "        self.dist = tfp.distributions.MultivariateNormalDiag(loc=prior_location, scale_diag=prior_scale_diag)\n",
    "\n",
    "    def __call__(self, batch_size=None):\n",
    "        theta = self.dist.sample([batch_size]) if batch_size else self.dist.sample()\n",
    "        return theta\n",
    "\n",
    "\n",
    "class GMMSimulator:\n",
    "    def __init__(self, dist, n_obs=10):\n",
    "        self.dist = dist\n",
    "        self.n_obs = n_obs\n",
    "\n",
    "    def __call__(self, theta, n_obs=None):\n",
    "        if n_obs is None:\n",
    "            n_obs = self.n_obs\n",
    "        x = self.dist(theta).sample([n_obs])\n",
    "        x = tf.transpose(x, perm=[1, 0, 2])\n",
    "        return x"
   ]
  },
  {
   "cell_type": "code",
   "execution_count": 4,
   "metadata": {},
   "outputs": [
    {
     "name": "stderr",
     "output_type": "stream",
     "text": [
      "INFO:root:Performing 2 pilot runs with the anonymous model...\n",
      "INFO:root:Shape of parameter batch after 2 pilot simulations: (batch_size = 2, 2)\n",
      "INFO:root:Shape of simulation batch after 2 pilot simulations: (batch_size = 2, 10, 2)\n",
      "INFO:root:No optional prior non-batchable context provided.\n",
      "INFO:root:No optional prior batchable context provided.\n",
      "INFO:root:No optional simulation non-batchable context provided.\n",
      "INFO:root:No optional simulation batchable context provided.\n"
     ]
    }
   ],
   "source": [
    "prior = GMMPrior(prior_location=[0, 0])\n",
    "simulator = GMMSimulator(GMM)\n",
    "\n",
    "generative_model = bf.simulation.GenerativeModel(\n",
    "    prior=prior, simulator=simulator, prior_is_batched=True, simulator_is_batched=True\n",
    ")"
   ]
  },
  {
   "cell_type": "code",
   "execution_count": 5,
   "metadata": {},
   "outputs": [],
   "source": [
    "simulations = generative_model(2000)\n",
    "theta = simulations[\"prior_draws\"]\n",
    "y = simulations[\"sim_data\"]"
   ]
  },
  {
   "cell_type": "code",
   "execution_count": 6,
   "metadata": {},
   "outputs": [
    {
     "name": "stdout",
     "output_type": "stream",
     "text": [
      "theta shape: (2000, 2)\n",
      "y shape: (2000, 10, 2)\n"
     ]
    }
   ],
   "source": [
    "print(\"theta shape:\", theta.shape)\n",
    "print(\"y shape:\", y.shape)"
   ]
  },
  {
   "cell_type": "code",
   "execution_count": null,
   "metadata": {},
   "outputs": [],
   "source": [
    "for i in range(5):\n",
    "    plt.plot(y[i, :, 0], y[i, :, 1], \"o\")\n",
    "\n",
    "    # plot theta^* and circle with +-1SD for reference\n",
    "    plt.plot(theta[i, 0], theta[i, 1], \"*\", markersize=10, color=\"gray\")\n",
    "    plt.gca().add_patch(plt.Circle((theta[i, 0], theta[i, 1]), radius=1, color=\"gray\", fill=False))\n",
    "\n",
    "    # add another circle at the 2nd mode\n",
    "    plt.gca().add_patch(\n",
    "        plt.Circle((-theta[i, 0], -theta[i, 1]), radius=1, color=\"gray\", linestyle=\"dotted\", fill=False)\n",
    "    )\n",
    "\n",
    "    plt.axis(\"equal\")\n",
    "    plt.show()"
   ]
  },
  {
   "cell_type": "code",
   "execution_count": null,
   "metadata": {},
   "outputs": [],
   "source": [
    "SIMULATION_BUDGET = 1024\n",
    "filename = \"gmm_train_data.pkl\"\n",
    "\n",
    "\n",
    "if os.path.exists(filename):\n",
    "    with open(filename, \"rb\") as f:\n",
    "        train_data = pickle.load(f)\n",
    "    print(\"loaded train data from file\")\n",
    "\n",
    "else:\n",
    "    logging.getLogger().setLevel(logging.ERROR)\n",
    "    print(\"generating new train data and saving it\")\n",
    "    train_data = generative_model(SIMULATION_BUDGET)\n",
    "    with open(filename, \"wb\") as f:\n",
    "        pickle.dump(train_data, f)\n",
    "\n",
    "num_params = train_data[\"prior_draws\"].shape[1]"
   ]
  },
  {
   "cell_type": "code",
   "execution_count": null,
   "metadata": {},
   "outputs": [],
   "source": [
    "NUM_TEST = 1000\n",
    "filename = \"gmm_test_data.pkl\"\n",
    "\n",
    "\n",
    "if os.path.exists(filename):\n",
    "    with open(filename, \"rb\") as f:\n",
    "        test_data = pickle.load(f)\n",
    "    print(\"loaded test data from file\")\n",
    "\n",
    "else:\n",
    "    logging.getLogger().setLevel(logging.ERROR)\n",
    "    print(\"generating new test data and saving it\")\n",
    "    test_data = generative_model(NUM_TEST)\n",
    "    with open(filename, \"wb\") as f:\n",
    "        pickle.dump(test_data, f)"
   ]
  },
  {
   "cell_type": "markdown",
   "metadata": {},
   "source": [
    "## Generate reference posterior on test data"
   ]
  },
  {
   "cell_type": "code",
   "execution_count": 34,
   "metadata": {},
   "outputs": [
    {
     "name": "stderr",
     "output_type": "stream",
     "text": [
      "HMC running ...: 100%|██████████| 1/1 [00:00<00:00,  2.63it/s]\n"
     ]
    }
   ],
   "source": [
    "test_data = generative_model(1)\n",
    "\n",
    "logger = logging.getLogger(\"cmdstanpy\")\n",
    "logger.addHandler(logging.NullHandler())\n",
    "logger.propagate = False\n",
    "logger.setLevel(logging.CRITICAL)\n",
    "\n",
    "num_posterior_samples = 5000\n",
    "iter_warmup = 2000\n",
    "\n",
    "y = test_data[\"sim_data\"].numpy()\n",
    "theta_true = test_data[\"prior_draws\"]\n",
    "n_sim, n_obs, data_dim = y.shape\n",
    "_, param_dim = theta_true.shape\n",
    "\n",
    "iter_sampling = num_posterior_samples // 2\n",
    "\n",
    "posterior_samples = np.zeros((n_sim, num_posterior_samples, param_dim))\n",
    "trace_plots = []\n",
    "\n",
    "for i in tqdm(range(n_sim), desc=\"HMC running ...\"):\n",
    "    stan_data = {\"n_obs\": n_obs, \"data_dim\": data_dim, \"x\": y[i]}\n",
    "    model = CmdStanModel(stan_file=\"gmm.stan\")\n",
    "    fit = model.sample(\n",
    "        data=stan_data,\n",
    "        iter_warmup=iter_warmup,\n",
    "        iter_sampling=iter_sampling,\n",
    "        chains=1,\n",
    "        inits={\"theta\": theta_true[i].tolist()},\n",
    "        show_progress=False\n",
    "    )\n",
    "    posterior_samples_chain = fit.stan_variable(\"theta\")\n",
    "    posterior_samples[i] = np.concatenate([posterior_samples_chain, -1.0 * posterior_samples_chain], axis=0)"
   ]
  },
  {
   "cell_type": "code",
   "execution_count": 35,
   "metadata": {},
   "outputs": [
    {
     "data": {
      "image/png": "[encoded data removed]",
      "text/plain": [
       "<Figure size 300x300 with 1 Axes>"
      ]
     },
     "metadata": {},
     "output_type": "display_data"
    }
   ],
   "source": [
    "# visualize\n",
    "f, ax = plt.subplots(1, 1, figsize=(3, 3), subplot_kw=dict(box_aspect=1))\n",
    "ax.scatter(posterior_samples[0, :, 0], posterior_samples[0, :, 1], alpha=0.2, s=1)\n",
    "ax.set_aspect(\"equal\")"
   ]
  },
  {
   "cell_type": "code",
   "execution_count": null,
   "metadata": {},
   "outputs": [],
   "source": [
    "np.save(\"test.npy\", posterior_samples.astype(np.float32))"
   ]
  },
  {
   "cell_type": "markdown",
   "metadata": {},
   "source": [
    "## BayesFlow trainer"
   ]
  },
  {
   "cell_type": "code",
   "execution_count": null,
   "metadata": {},
   "outputs": [],
   "source": [
    "trainer_npe = bf.trainers.Trainer(\n",
    "    amortizer=bf.amortizers.AmortizedPosterior(\n",
    "        inference_net=bf.networks.InvertibleNetwork(\n",
    "            num_params=2, num_coupling_layers=4, coupling_design=\"spline\", permutation=\"learnable\"\n",
    "        ),\n",
    "        summary_net=bf.networks.DeepSet(summary_dim=2 * 2),\n",
    "    ),\n",
    "    generative_model=generative_model,\n",
    "    default_lr=1e-3,\n",
    "    memory=False,\n",
    "    checkpoint_path=f\"checkpoints/gmm_npe\",\n",
    "    max_to_keep=1,\n",
    ")"
   ]
  },
  {
   "cell_type": "code",
   "execution_count": null,
   "metadata": {},
   "outputs": [],
   "source": [
    "_ = trainer_npe.train_offline(train_data, epochs=30, batch_size=32)"
   ]
  },
  {
   "cell_type": "markdown",
   "metadata": {},
   "source": [
    "# Evaluation"
   ]
  },
  {
   "cell_type": "code",
   "execution_count": null,
   "metadata": {},
   "outputs": [],
   "source": [
    "# add your models here\n",
    "\n",
    "trainers = (trainer_npe,)\n",
    "names = (\"NPE\",)"
   ]
  },
  {
   "cell_type": "markdown",
   "metadata": {},
   "source": [
    "## Evaluation on a single data set (pretty plots)"
   ]
  },
  {
   "cell_type": "code",
   "execution_count": null,
   "metadata": {},
   "outputs": [],
   "source": [
    "theta = np.array([[-1.8, -1.0]])\n",
    "x = simulator(theta)\n",
    "test_sims = {\"summary_conditions\": x, \"parameters\": theta}"
   ]
  },
  {
   "cell_type": "code",
   "execution_count": null,
   "metadata": {},
   "outputs": [],
   "source": [
    "# HMC\n",
    "logger = logging.getLogger(\"cmdstanpy\")\n",
    "logger.addHandler(logging.NullHandler())\n",
    "logger.propagate = False\n",
    "logger.setLevel(logging.CRITICAL)\n",
    "\n",
    "n_sim, n_obs, data_dim = x.shape\n",
    "_, param_dim = theta.shape\n",
    "\n",
    "stan_data = {\"n_obs\": n_obs, \"data_dim\": data_dim, \"x\": x[0].numpy()}\n",
    "model = CmdStanModel(stan_file=\"gmm.stan\")\n",
    "fit = model.sample(data=stan_data, iter_warmup=2000, iter_sampling=5000, chains=1, show_progress=False)\n",
    "posterior_samples_chain = fit.stan_variable(\"theta\")\n",
    "posterior_samples = np.concatenate([posterior_samples_chain, -1.0 * posterior_samples_chain], axis=0)\n",
    "\n",
    "side = np.linspace(-3.0, 3.0, 200)\n",
    "xx, yy = np.meshgrid(side, side)\n",
    "obs_data_rep = np.concatenate([x] * 40000, axis=0)\n",
    "params = np.c_[xx.flatten(), yy.flatten()]\n",
    "\n",
    "f, axes = plt.subplots(1, 5, figsize=(10, 2))\n",
    "hmc_kde = stats.gaussian_kde(posterior_samples.T, bw_method=0.05)\n",
    "hmc_pdf = hmc_kde(np.vstack([xx.ravel(), yy.ravel()]))\n",
    "\n",
    "axes[0].pcolormesh(xx, yy, hmc_pdf.reshape(xx.shape), cmap=cm.viridis, rasterized=True)\n",
    "axes[0].scatter(theta[:, 0], theta[:, 1], color=\"magenta\", s=50, marker=\"*\")\n",
    "axes[0].set_aspect(\"equal\")\n",
    "axes[0].set_title(\"True\", fontsize=24)\n",
    "axes[0].set_xlim(-3, 3)\n",
    "axes[0].set_ylim(-3, 3)\n",
    "\n",
    "for i, (trainer, name) in enumerate(zip(trainers, names), 1):\n",
    "    # Compute log density on relevant posterior range\n",
    "    lpdf = trainer.amortizer.log_posterior({\"parameters\": params, \"summary_conditions\": obs_data_rep})\n",
    "\n",
    "    # Plot the density map using nearest-neighbor interpolation\n",
    "    axes[i].pcolormesh(xx, yy, np.exp(lpdf).reshape(200, 200), cmap=cm.viridis, rasterized=True)\n",
    "    axes[i].scatter(theta[:, 0], theta[:, 1], color=\"magenta\", s=50, marker=\"*\")\n",
    "    axes[i].set_title(name, fontsize=24)\n",
    "    axes[i].set_aspect(\"equal\")\n",
    "    axes[i].set_xlim(-3, 3)\n",
    "    axes[i].set_ylim(-3, 3)\n",
    "\n",
    "plt.savefig(\"gmm_density.pdf\", bbox_inches=\"tight\")\n",
    "\n",
    "f, axes = plt.subplots(1, 5, figsize=(10, 2))\n",
    "\n",
    "axes[0].scatter(posterior_samples[:, 0], posterior_samples[:, 1], alpha=0.1, color=cmap(4), s=1, rasterized=True)\n",
    "axes[0].scatter(theta[:, 0], theta[:, 1], color=\"magenta\", s=150, marker=\"*\")\n",
    "axes[0].set_aspect(\"equal\")\n",
    "axes[0].set_title(\"True\", fontsize=24)\n",
    "axes[0].set_xlim(-3, 3)\n",
    "axes[0].set_ylim(-3, 3)\n",
    "\n",
    "for i, (trainer, name) in enumerate(zip(trainers, names), 1):\n",
    "    samples = trainer.amortizer.sample(test_sims, n_samples=2000)\n",
    "\n",
    "    # Compute log density on relevant posterior range\n",
    "    # axes[i].scatter(posterior_samples[:, 0], posterior_samples[:, 1], alpha=0.1, color=cmap(i-1), s=1, rasterized=True)\n",
    "    axes[i].scatter(samples[:, 0], samples[:, 1], alpha=0.5, color=cmap(i - 1), s=1, label=name, rasterized=True)\n",
    "\n",
    "    # Plot the density map using nearest-neighbor interpolation\n",
    "    axes[i].scatter(theta[:, 0], theta[:, 1], color=\"magenta\", s=150, marker=\"*\")\n",
    "    axes[i].set_title(name, fontsize=24)\n",
    "    axes[i].set_aspect(\"equal\")\n",
    "    axes[i].set_xlim(-3, 3)\n",
    "    axes[i].set_ylim(-3, 3)\n",
    "\n",
    "plt.savefig(\"gmm_samples.pdf\", bbox_inches=\"tight\")"
   ]
  },
  {
   "cell_type": "markdown",
   "metadata": {},
   "source": [
    "## Evaluation across the prior space"
   ]
  },
  {
   "cell_type": "code",
   "execution_count": null,
   "metadata": {},
   "outputs": [],
   "source": [
    "logger = logging.getLogger(\"cmdstanpy\")\n",
    "logger.addHandler(logging.NullHandler())\n",
    "logger.propagate = False\n",
    "logger.setLevel(logging.CRITICAL)"
   ]
  },
  {
   "cell_type": "code",
   "execution_count": null,
   "metadata": {},
   "outputs": [],
   "source": [
    "def sample_hmc(test_sims, iter_warmup=2000, iter_sampling=2000, **kwargs):\n",
    "    x = test_sims[\"summary_conditions\"]\n",
    "    theta_true = test_sims[\"parameters\"]\n",
    "    n_sim, n_obs, data_dim = x.shape\n",
    "    _, param_dim = theta_true.shape\n",
    "\n",
    "    num_posterior_samples = iter_sampling * 2\n",
    "\n",
    "    posterior_samples = np.zeros((n_sim, num_posterior_samples, param_dim))\n",
    "    trace_plots = []\n",
    "\n",
    "    for i in tqdm(range(n_sim), desc=\"HMC running ...\"):\n",
    "        stan_data = {\"n_obs\": n_obs, \"data_dim\": data_dim, \"x\": x[i]}\n",
    "        model = CmdStanModel(stan_file=\"gmm.stan\")\n",
    "        fit = model.sample(\n",
    "            data=stan_data,\n",
    "            iter_warmup=iter_warmup,\n",
    "            iter_sampling=iter_sampling,\n",
    "            chains=1,\n",
    "            show_progress=False,\n",
    "            **kwargs,\n",
    "        )\n",
    "        posterior_samples_chain = fit.stan_variable(\"theta\")\n",
    "        posterior_samples[i] = np.concatenate([posterior_samples_chain, -1.0 * posterior_samples_chain], axis=0)\n",
    "        dat = az.InferenceData(posterior=fit.draws_xr())\n",
    "\n",
    "        trace_plot = az.plot_trace(dat, var_names=\"theta\", compact=False, show=False)\n",
    "        trace_plots.extend(trace_plot)\n",
    "        plt.close()\n",
    "\n",
    "    return posterior_samples, trace_plots"
   ]
  },
  {
   "cell_type": "code",
   "execution_count": null,
   "metadata": {},
   "outputs": [],
   "source": [
    "NUM_TEST = 10"
   ]
  },
  {
   "cell_type": "code",
   "execution_count": null,
   "metadata": {},
   "outputs": [],
   "source": [
    "test_sims = trainer_npe.configurator(generative_model(NUM_TEST))\n",
    "y = test_sims[\"summary_conditions\"]\n",
    "theta_true = test_sims[\"parameters\"]"
   ]
  },
  {
   "cell_type": "code",
   "execution_count": null,
   "metadata": {},
   "outputs": [],
   "source": [
    "hmc_posterior_samples, traces = sample_hmc(test_sims)"
   ]
  },
  {
   "cell_type": "code",
   "execution_count": null,
   "metadata": {},
   "outputs": [],
   "source": [
    "npe_posterior_samples = trainer_npe.amortizer.sample(test_sims, n_samples=4000)"
   ]
  },
  {
   "cell_type": "code",
   "execution_count": null,
   "metadata": {},
   "outputs": [],
   "source": []
  }
 ],
 "metadata": {
  "kernelspec": {
   "display_name": "cmpe",
   "language": "python",
   "name": "python3"
  },
  "language_info": {
   "codemirror_mode": {
    "name": "ipython",
    "version": 3
   },
   "file_extension": ".py",
   "mimetype": "text/x-python",
   "name": "python",
   "nbconvert_exporter": "python",
   "pygments_lexer": "ipython3",
   "version": "3.10.13"
  }
 },
 "nbformat": 4,
 "nbformat_minor": 4
}
