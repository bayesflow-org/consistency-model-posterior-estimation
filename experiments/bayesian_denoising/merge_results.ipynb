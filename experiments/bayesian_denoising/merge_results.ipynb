{
 "cells": [
  {
   "cell_type": "code",
   "execution_count": 1,
   "id": "focal-bible",
   "metadata": {},
   "outputs": [],
   "source": [
    "import os\n",
    "\n",
    "import numpy as np\n",
    "import pandas as pd"
   ]
  },
  {
   "cell_type": "markdown",
   "id": "bd691a9b-b07e-41ca-a4dd-043b2ad42f7c",
   "metadata": {},
   "source": [
    "Collect results from RMSE and MMD calculation and output for use in LaTex table."
   ]
  },
  {
   "cell_type": "code",
   "execution_count": 2,
   "id": "6288e1c5-87de-4ba1-aa78-af796dc2a883",
   "metadata": {},
   "outputs": [],
   "source": [
    "def to_id(method, architecture, num_train):\n",
    "    return f\"{method}-{architecture}-{num_train}\""
   ]
  },
  {
   "cell_type": "code",
   "execution_count": 3,
   "id": "1814c37a-3578-427d-956a-4dbbb0cbd5b3",
   "metadata": {},
   "outputs": [],
   "source": [
    "method_names = {\n",
    "    \"fmpe\": \"FMPE\",\n",
    "    \"cmpe\": \"CMPE\",\n",
    "}\n",
    "\n",
    "arch_names = {\n",
    "    \"naive\": 'na\\\\\"ive',\n",
    "    \"unet\": \"U-Net\",\n",
    "}"
   ]
  },
  {
   "cell_type": "code",
   "execution_count": 4,
   "id": "acf13a5d-1f4a-49c0-a696-3c583ace7f17",
   "metadata": {},
   "outputs": [
    {
     "name": "stdout",
     "output_type": "stream",
     "text": [
      "FMPE na\\\"ive & 0.836 & 0.597 & $171.53 \\pm 1.61$ & $95.26 \\pm 1.21$ & 15.35 \\\\\n",
      "CMPE na\\\"ive (ours) & 0.388 & 0.293 & $102.09 \\pm 3.24$ & $57.90 \\pm 1.59$ & 0.30 \\\\\n",
      "FMPE U-Net & 0.278 & 0.217 & $17.38 \\pm 0.10$ & $14.50 \\pm 0.05$ & 565.77 \\\\\n",
      "CMPE U-Net (ours) & 0.311 & 0.238 & $18.49 \\pm 0.12$ & $16.08 \\pm 0.05$ & 0.50 \\\\\n"
     ]
    }
   ],
   "source": [
    "for arch in [\"naive\", \"unet\"]:\n",
    "    for method in [\"fmpe\", \"cmpe\"]:\n",
    "        try:\n",
    "            dat_2000 = pd.read_csv(os.path.join(\"evaluation\", to_id(method, arch, 2000), \"rmse.csv\"))\n",
    "            duration_2000 = float(dat_2000.duration.iloc[0])\n",
    "            rmse_2000 = float(dat_2000.rmse.iloc[0])\n",
    "            mmd_2000 = np.load(os.path.join(\"evaluation\", to_id(method, arch, 2000), \"mmds.npy\"))\n",
    "            dat_60000 = pd.read_csv(os.path.join(\"evaluation\", to_id(method, arch, 60000), \"rmse.csv\"))\n",
    "            duration_60000 = float(dat_60000.duration.iloc[0])\n",
    "            rmse_60000 = float(dat_60000.rmse.iloc[0])\n",
    "            mmd_60000 = np.load(os.path.join(\"evaluation\", to_id(method, arch, 60000), \"mmds.npy\"))\n",
    "            duration = (duration_2000 + duration_60000) / 2 / 10000 * 1000\n",
    "            ours_str = \" (ours)\" if method == \"cmpe\" else \"\"\n",
    "            print(\n",
    "                f\"{method_names[method]} {arch_names[arch]}{ours_str} & {rmse_2000:.3f} & {rmse_60000:.3f} & ${mmd_2000.mean()*1e3:.2f} \\\\pm {mmd_2000.std()*1e3:.2f}$ & ${mmd_60000.mean()*1e3:.2f} \\\\pm {mmd_60000.std()*1e3:.2f}$ & {duration:.2f} \\\\\\\\\"\n",
    "            )\n",
    "        except Exception as e:\n",
    "            print(e)\n",
    "            continue"
   ]
  }
 ],
 "metadata": {
  "environment": {
   "kernel": "python3",
   "name": "tf2-gpu.2-11.m108",
   "type": "gcloud",
   "uri": "gcr.io/deeplearning-platform-release/tf2-gpu.2-11:m108"
  },
  "kernelspec": {
   "display_name": "cons-mod",
   "language": "python",
   "name": "cons-mod"
  },
  "language_info": {
   "codemirror_mode": {
    "name": "ipython",
    "version": 3
   },
   "file_extension": ".py",
   "mimetype": "text/x-python",
   "name": "python",
   "nbconvert_exporter": "python",
   "pygments_lexer": "ipython3",
   "version": "3.9.18"
  },
  "toc": {
   "base_numbering": 1,
   "nav_menu": {},
   "number_sections": true,
   "sideBar": true,
   "skip_h1_title": false,
   "title_cell": "Table of Contents",
   "title_sidebar": "Contents",
   "toc_cell": false,
   "toc_position": {},
   "toc_section_display": true,
   "toc_window_display": true
  }
 },
 "nbformat": 4,
 "nbformat_minor": 5
}
