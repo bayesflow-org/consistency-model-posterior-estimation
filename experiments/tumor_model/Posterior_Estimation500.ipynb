{
 "cells": [
  {
   "cell_type": "code",
   "execution_count": 1,
   "id": "63e3adc1",
   "metadata": {},
   "outputs": [
    {
     "name": "stderr",
     "output_type": "stream",
     "text": [
      "2023-11-30 09:45:19.900302: I tensorflow/core/util/port.cc:110] oneDNN custom operations are on. You may see slightly different numerical results due to floating-point round-off errors from different computation orders. To turn them off, set the environment variable `TF_ENABLE_ONEDNN_OPTS=0`.\n",
      "2023-11-30 09:45:19.923330: I tensorflow/core/platform/cpu_feature_guard.cc:182] This TensorFlow binary is optimized to use available CPU instructions in performance-critical operations.\n",
      "To enable the following instructions: AVX2 AVX_VNNI FMA, in other operations, rebuild TensorFlow with the appropriate compiler flags.\n",
      "2023-11-30 09:45:20.248547: W tensorflow/compiler/tf2tensorrt/utils/py_utils.cc:38] TF-TRT Warning: Could not find TensorRT\n",
      "/home/radevs/anaconda3/envs/BayesFlowDev/lib/python3.10/site-packages/bayesflow/trainers.py:27: TqdmExperimentalWarning: Using `tqdm.autonotebook.tqdm` in notebook mode. Use `tqdm.tqdm` instead to force console mode (e.g. in jupyter console)\n",
      "  from tqdm.autonotebook import tqdm\n"
     ]
    }
   ],
   "source": [
    "import sys\n",
    "sys.path.append(\"../../\")\n",
    "\n",
    "import bayesflow as bf\n",
    "import tensorflow as tf\n",
    "import pandas as pd\n",
    "import numpy as np\n",
    "import matplotlib.pyplot as plt\n",
    "\n",
    "import tensorflow as tf\n",
    "\n",
    "from bayesflow.experimental.rectifiers import RectifiedDistribution\n",
    "from amortizers import ConsistencyAmortizer, ConfigurableMLP, DriftNetwork"
   ]
  },
  {
   "cell_type": "markdown",
   "id": "49bbdb1d",
   "metadata": {},
   "source": [
    "## Data Loading and Configuration"
   ]
  },
  {
   "cell_type": "code",
   "execution_count": 2,
   "id": "b5266977",
   "metadata": {},
   "outputs": [],
   "source": [
    "def read_offline_data(obs_path, param_path, validation_ratio: float = 0.02):\n",
    "    assert(len(obs_path) == len(param_path))\n",
    "    observables = []\n",
    "    params = []\n",
    "    for i in range(len(obs_path)):\n",
    "        observables.append(pd.read_pickle(obs_path[i]))\n",
    "        params.append(pd.read_pickle(param_path[i]))\n",
    "    obs = np.stack(pd.concat(observables).to_numpy())\n",
    "    tumor_size = np.stack(obs[:,0])[:, :, None].astype(np.float32)\n",
    "    radial_features = np.stack([np.stack(obs[:,1]),np.stack(obs[:,2])], axis=-1)[:,:300,:].astype(np.float32)\n",
    "    params = pd.concat(params).to_numpy().astype(np.float32)\n",
    "    split = int(validation_ratio * params.shape[0])\n",
    "    train = {\"prior_draws\": params[split:], \n",
    "             \"sim_data\": radial_features[split:], \n",
    "             'growth_curve': tumor_size[split:]}\n",
    "    validation = {\"prior_draws\": params[:split], \n",
    "                  \"sim_data\": radial_features[:split], \n",
    "                  'growth_curve': tumor_size[:split]}    \n",
    "    return train, validation"
   ]
  },
  {
   "cell_type": "code",
   "execution_count": 3,
   "id": "be11ebc9",
   "metadata": {},
   "outputs": [],
   "source": [
    "def configure_input(forward_dict):\n",
    "    \"\"\"Custom configurator.\"\"\"\n",
    "    \n",
    "    out_dict = {}\n",
    "    pp_ecmp = (forward_dict['sim_data'] - MEAN_SIM) / STD_SIM\n",
    "    pp_ecmp = np.c_[pp_ecmp, [POSITIONAL_EMBEDDINGS]*pp_ecmp.shape[0]]\n",
    "    growth =  (forward_dict['growth_curve'] - MEAN_GROWTH) / STD_GROWTH \n",
    "    params = forward_dict['prior_draws']\n",
    "    \n",
    "    out_dict = {\n",
    "        'summary_conditions': (pp_ecmp, growth),\n",
    "        'parameters': params\n",
    "    }    \n",
    "    return out_dict"
   ]
  },
  {
   "cell_type": "code",
   "execution_count": 4,
   "id": "e5daee16",
   "metadata": {},
   "outputs": [],
   "source": [
    "train_data, val_data = read_offline_data(\n",
    "    obs_path=['../../tumor_data/observables_10000_1.pkl', '../../tumor_data/observables_10000_2.pkl'],\n",
    "    param_path=['../../tumor_data/params_10000_1.pkl', '../../tumor_data/params_10000_2.pkl']\n",
    ")"
   ]
  },
  {
   "cell_type": "code",
   "execution_count": 5,
   "id": "e519880b",
   "metadata": {},
   "outputs": [],
   "source": [
    "MEAN_GROWTH = train_data['growth_curve'].mean((0, 1))\n",
    "STD_GROWTH = train_data['growth_curve'].std((0, 1))\n",
    "MEAN_SIM = train_data['sim_data'].mean((0, 1))\n",
    "STD_SIM = train_data['sim_data'].std((0, 1))"
   ]
  },
  {
   "cell_type": "markdown",
   "id": "a768c42a",
   "metadata": {},
   "source": [
    "## Networks"
   ]
  },
  {
   "cell_type": "code",
   "execution_count": 6,
   "id": "d7d9e2a8",
   "metadata": {},
   "outputs": [],
   "source": [
    "class CustomSummary(tf.keras.Model):\n",
    "    def __init__(self, num_summary=32, num_dense_concat=2):\n",
    "        super().__init__()    \n",
    "\n",
    "        self.lstm = tf.keras.layers.LSTM(num_summary // 2)\n",
    "        self.att_dict = {\n",
    "            'num_heads': 4,\n",
    "            'dropout': 0.1,\n",
    "            'key_dim': 64\n",
    "        }\n",
    "        self.dense_dict = {\n",
    "            'units': 128,\n",
    "            'activation': 'relu',\n",
    "            'kernel_regularizer': tf.keras.regularizers.L2(1e-4),\n",
    "            'bias_regularizer': tf.keras.regularizers.L2(1e-4)\n",
    "        }\n",
    "        self.transformer = bf.networks.TimeSeriesTransformer(\n",
    "            input_dim=3,\n",
    "            attention_settings=self.att_dict,\n",
    "            dense_settings=self.dense_dict,\n",
    "            template_dim=32,\n",
    "            summary_dim=num_summary\n",
    "        )  \n",
    "        dense_layers = []\n",
    "        for l in range(num_dense_concat):\n",
    "            dense_layers.append(\n",
    "                tf.keras.layers.Dense(\n",
    "                    units=256, \n",
    "                    activation='swish', \n",
    "                    kernel_regularizer=tf.keras.regularizers.L2(1e-4),\n",
    "                    bias_regularizer=tf.keras.regularizers.L2(1e-4)\n",
    "                )\n",
    "            )\n",
    "        self.fc = tf.keras.Sequential(dense_layers)\n",
    "        self.fc.add(tf.keras.layers.Dense(num_summary))\n",
    "\n",
    "    def call(self, summary_conditions, **kwargs):\n",
    "        pp_ecmp, growth = summary_conditions        \n",
    "        out1 = self.lstm(growth, **kwargs)\n",
    "        out2 = self.transformer(pp_ecmp, **kwargs)        \n",
    "        out = tf.concat([out1, out2], axis=-1)\n",
    "        out = self.fc(out, **kwargs)        \n",
    "        return out"
   ]
  },
  {
   "cell_type": "code",
   "execution_count": 7,
   "id": "696922d6",
   "metadata": {},
   "outputs": [],
   "source": [
    "BATCH_SIZE = 64\n",
    "EPOCHS = 500\n",
    "POSITIONAL_EMBEDDINGS = np.linspace(0, 1, train_data['sim_data'].shape[1], dtype=np.float32)[:, None]"
   ]
  },
  {
   "cell_type": "code",
   "execution_count": 8,
   "id": "2a3173ca",
   "metadata": {},
   "outputs": [],
   "source": [
    "ITERATIONS = int(np.ceil((train_data['sim_data'].shape[0] / BATCH_SIZE))*EPOCHS)"
   ]
  },
  {
   "cell_type": "code",
   "execution_count": 9,
   "id": "9e73d2c0",
   "metadata": {},
   "outputs": [
    {
     "name": "stderr",
     "output_type": "stream",
     "text": [
      "2023-11-30 09:45:21.998035: I tensorflow/compiler/xla/stream_executor/cuda/cuda_gpu_executor.cc:995] successful NUMA node read from SysFS had negative value (-1), but there must be at least one NUMA node, so returning NUMA node zero. See more at https://github.com/torvalds/linux/blob/v6.0/Documentation/ABI/testing/sysfs-bus-pci#L344-L355\n",
      "2023-11-30 09:45:22.012495: I tensorflow/compiler/xla/stream_executor/cuda/cuda_gpu_executor.cc:995] successful NUMA node read from SysFS had negative value (-1), but there must be at least one NUMA node, so returning NUMA node zero. See more at https://github.com/torvalds/linux/blob/v6.0/Documentation/ABI/testing/sysfs-bus-pci#L344-L355\n",
      "2023-11-30 09:45:22.012590: I tensorflow/compiler/xla/stream_executor/cuda/cuda_gpu_executor.cc:995] successful NUMA node read from SysFS had negative value (-1), but there must be at least one NUMA node, so returning NUMA node zero. See more at https://github.com/torvalds/linux/blob/v6.0/Documentation/ABI/testing/sysfs-bus-pci#L344-L355\n",
      "2023-11-30 09:45:22.013777: I tensorflow/compiler/xla/stream_executor/cuda/cuda_gpu_executor.cc:995] successful NUMA node read from SysFS had negative value (-1), but there must be at least one NUMA node, so returning NUMA node zero. See more at https://github.com/torvalds/linux/blob/v6.0/Documentation/ABI/testing/sysfs-bus-pci#L344-L355\n",
      "2023-11-30 09:45:22.013855: I tensorflow/compiler/xla/stream_executor/cuda/cuda_gpu_executor.cc:995] successful NUMA node read from SysFS had negative value (-1), but there must be at least one NUMA node, so returning NUMA node zero. See more at https://github.com/torvalds/linux/blob/v6.0/Documentation/ABI/testing/sysfs-bus-pci#L344-L355\n",
      "2023-11-30 09:45:22.013899: I tensorflow/compiler/xla/stream_executor/cuda/cuda_gpu_executor.cc:995] successful NUMA node read from SysFS had negative value (-1), but there must be at least one NUMA node, so returning NUMA node zero. See more at https://github.com/torvalds/linux/blob/v6.0/Documentation/ABI/testing/sysfs-bus-pci#L344-L355\n",
      "2023-11-30 09:45:22.046675: I tensorflow/compiler/xla/stream_executor/cuda/cuda_gpu_executor.cc:995] successful NUMA node read from SysFS had negative value (-1), but there must be at least one NUMA node, so returning NUMA node zero. See more at https://github.com/torvalds/linux/blob/v6.0/Documentation/ABI/testing/sysfs-bus-pci#L344-L355\n",
      "2023-11-30 09:45:22.046760: I tensorflow/compiler/xla/stream_executor/cuda/cuda_gpu_executor.cc:995] successful NUMA node read from SysFS had negative value (-1), but there must be at least one NUMA node, so returning NUMA node zero. See more at https://github.com/torvalds/linux/blob/v6.0/Documentation/ABI/testing/sysfs-bus-pci#L344-L355\n",
      "2023-11-30 09:45:22.046809: I tensorflow/compiler/xla/stream_executor/cuda/cuda_gpu_executor.cc:995] successful NUMA node read from SysFS had negative value (-1), but there must be at least one NUMA node, so returning NUMA node zero. See more at https://github.com/torvalds/linux/blob/v6.0/Documentation/ABI/testing/sysfs-bus-pci#L344-L355\n",
      "2023-11-30 09:45:22.046853: I tensorflow/core/common_runtime/gpu/gpu_device.cc:1639] Created device /job:localhost/replica:0/task:0/device:GPU:0 with 9278 MB memory:  -> device: 0, name: NVIDIA RTX A2000 12GB, pci bus id: 0000:01:00.0, compute capability: 8.6\n"
     ]
    }
   ],
   "source": [
    "summary_net = CustomSummary()\n",
    "\n",
    "inference_net = ConfigurableMLP(\n",
    "    input_dim=train_data['prior_draws'].shape[-1],\n",
    "    condition_dim=32,\n",
    "    hidden_dim=256,\n",
    "    num_hidden=4,\n",
    "    dropout_rate=0.2,\n",
    ")\n",
    "\n",
    "amortizer = ConsistencyAmortizer(\n",
    "    consistency_net=inference_net, \n",
    "    num_steps=ITERATIONS, \n",
    "    summary_net=summary_net,\n",
    "    sigma2=tf.math.reduce_variance(train_data['prior_draws'], axis=0, keepdims=True),\n",
    "    T_max=50\n",
    ")"
   ]
  },
  {
   "cell_type": "code",
   "execution_count": 10,
   "id": "f430327f",
   "metadata": {},
   "outputs": [],
   "source": [
    "schedule = tf.keras.optimizers.schedules.CosineDecay(1e-4, ITERATIONS, name=\"lr_decay\")\n",
    "optimizer = tf.keras.optimizers.Adam(schedule, clipnorm=1.0)"
   ]
  },
  {
   "cell_type": "markdown",
   "id": "82a0611f",
   "metadata": {},
   "source": [
    "## Consistency Trainer"
   ]
  },
  {
   "cell_type": "code",
   "execution_count": 11,
   "id": "e1a6fcb8",
   "metadata": {},
   "outputs": [
    {
     "name": "stderr",
     "output_type": "stream",
     "text": [
      "INFO:root:Trainer initialization: No generative model provided. Only offline learning mode is available!\n",
      "INFO:root:Initialized empty loss history.\n",
      "INFO:root:Initialized networks from scratch.\n"
     ]
    }
   ],
   "source": [
    "trainer = bf.trainers.Trainer(\n",
    "    amortizer=amortizer,\n",
    "    configurator=configure_input,\n",
    "    checkpoint_path='ckpt/cm',\n",
    ")"
   ]
  },
  {
   "cell_type": "code",
   "execution_count": 12,
   "id": "6432e01f",
   "metadata": {},
   "outputs": [
    {
     "data": {
      "application/vnd.jupyter.widget-view+json": {
       "model_id": "1e3305d41b3744a195f2fce8b1399fda",
       "version_major": 2,
       "version_minor": 0
      },
      "text/plain": [
       "Training epoch 1:   0%|          | 0/307 [00:00<?, ?it/s]"
      ]
     },
     "metadata": {},
     "output_type": "display_data"
    },
    {
     "name": "stderr",
     "output_type": "stream",
     "text": [
      "2023-11-30 09:45:27.854914: I tensorflow/compiler/xla/stream_executor/cuda/cuda_dnn.cc:432] Loaded cuDNN version 8600\n",
      "2023-11-30 09:45:27.858029: I tensorflow/compiler/xla/stream_executor/cuda/cuda_blas.cc:606] TensorFloat-32 will be used for the matrix multiplication. This will only be logged once.\n",
      "2023-11-30 09:45:27.958062: I tensorflow/compiler/xla/service/service.cc:168] XLA service 0x7fcd2c07d970 initialized for platform CUDA (this does not guarantee that XLA will be used). Devices:\n",
      "2023-11-30 09:45:27.958076: I tensorflow/compiler/xla/service/service.cc:176]   StreamExecutor device (0): NVIDIA RTX A2000 12GB, Compute Capability 8.6\n",
      "2023-11-30 09:45:27.960960: I tensorflow/compiler/mlir/tensorflow/utils/dump_mlir_util.cc:255] disabling MLIR crash reproducer, set env var `MLIR_CRASH_REPRODUCER_DIRECTORY` to enable.\n",
      "2023-11-30 09:45:28.025709: I ./tensorflow/compiler/jit/device_compiler.h:186] Compiled cluster using XLA!  This line is logged at most once for the lifetime of the process.\n",
      "INFO:root:Validation, Epoch: 1, Loss: 0.676\n"
     ]
    },
    {
     "data": {
      "application/vnd.jupyter.widget-view+json": {
       "model_id": "fd5a138f96954e68b4c8daa6b71e0baa",
       "version_major": 2,
       "version_minor": 0
      },
      "text/plain": [
       "Training epoch 2:   0%|          | 0/307 [00:00<?, ?it/s]"
      ]
     },
     "metadata": {},
     "output_type": "display_data"
    },
    {
     "name": "stderr",
     "output_type": "stream",
     "text": [
      "INFO:root:Validation, Epoch: 2, Loss: 0.595\n"
     ]
    },
    {
     "data": {
      "application/vnd.jupyter.widget-view+json": {
       "model_id": "5a62b9870f0a465bbbcbf6fa3eca0edf",
       "version_major": 2,
       "version_minor": 0
      },
      "text/plain": [
       "Training epoch 3:   0%|          | 0/307 [00:00<?, ?it/s]"
      ]
     },
     "metadata": {},
     "output_type": "display_data"
    },
    {
     "name": "stderr",
     "output_type": "stream",
     "text": [
      "INFO:root:Validation, Epoch: 3, Loss: 0.584\n"
     ]
    },
    {
     "data": {
      "application/vnd.jupyter.widget-view+json": {
       "model_id": "15e1bde5cc104dc5a2038322a70fe496",
       "version_major": 2,
       "version_minor": 0
      },
      "text/plain": [
       "Training epoch 4:   0%|          | 0/307 [00:00<?, ?it/s]"
      ]
     },
     "metadata": {},
     "output_type": "display_data"
    },
    {
     "name": "stderr",
     "output_type": "stream",
     "text": [
      "INFO:root:Validation, Epoch: 4, Loss: 0.570\n"
     ]
    },
    {
     "data": {
      "application/vnd.jupyter.widget-view+json": {
       "model_id": "6c0b456163334333b6cd4c9908da8774",
       "version_major": 2,
       "version_minor": 0
      },
      "text/plain": [
       "Training epoch 5:   0%|          | 0/307 [00:00<?, ?it/s]"
      ]
     },
     "metadata": {},
     "output_type": "display_data"
    },
    {
     "name": "stderr",
     "output_type": "stream",
     "text": [
      "INFO:root:Validation, Epoch: 5, Loss: 0.556\n"
     ]
    },
    {
     "data": {
      "application/vnd.jupyter.widget-view+json": {
       "model_id": "ae23196af254472389a5eb080cdfe598",
       "version_major": 2,
       "version_minor": 0
      },
      "text/plain": [
       "Training epoch 6:   0%|          | 0/307 [00:00<?, ?it/s]"
      ]
     },
     "metadata": {},
     "output_type": "display_data"
    },
    {
     "name": "stderr",
     "output_type": "stream",
     "text": [
      "INFO:root:Validation, Epoch: 6, Loss: 0.526\n"
     ]
    },
    {
     "data": {
      "application/vnd.jupyter.widget-view+json": {
       "model_id": "cea2835b15904b8aa1c4fc6b2590c302",
       "version_major": 2,
       "version_minor": 0
      },
      "text/plain": [
       "Training epoch 7:   0%|          | 0/307 [00:00<?, ?it/s]"
      ]
     },
     "metadata": {},
     "output_type": "display_data"
    },
    {
     "name": "stderr",
     "output_type": "stream",
     "text": [
      "INFO:root:Validation, Epoch: 7, Loss: 0.529\n"
     ]
    },
    {
     "data": {
      "application/vnd.jupyter.widget-view+json": {
       "model_id": "78c36ad34b514c72b7b040f4afb2af75",
       "version_major": 2,
       "version_minor": 0
      },
      "text/plain": [
       "Training epoch 8:   0%|          | 0/307 [00:00<?, ?it/s]"
      ]
     },
     "metadata": {},
     "output_type": "display_data"
    },
    {
     "name": "stderr",
     "output_type": "stream",
     "text": [
      "INFO:root:Validation, Epoch: 8, Loss: 0.522\n"
     ]
    },
    {
     "data": {
      "application/vnd.jupyter.widget-view+json": {
       "model_id": "747544b7b33542539f4dd6c9573d55d9",
       "version_major": 2,
       "version_minor": 0
      },
      "text/plain": [
       "Training epoch 9:   0%|          | 0/307 [00:00<?, ?it/s]"
      ]
     },
     "metadata": {},
     "output_type": "display_data"
    },
    {
     "name": "stderr",
     "output_type": "stream",
     "text": [
      "INFO:root:Validation, Epoch: 9, Loss: 0.513\n"
     ]
    },
    {
     "data": {
      "application/vnd.jupyter.widget-view+json": {
       "model_id": "9231517ad8cd4b0294216535ca5bb900",
       "version_major": 2,
       "version_minor": 0
      },
      "text/plain": [
       "Training epoch 10:   0%|          | 0/307 [00:00<?, ?it/s]"
      ]
     },
     "metadata": {},
     "output_type": "display_data"
    },
    {
     "name": "stderr",
     "output_type": "stream",
     "text": [
      "INFO:root:Validation, Epoch: 10, Loss: 0.523\n"
     ]
    },
    {
     "data": {
      "application/vnd.jupyter.widget-view+json": {
       "model_id": "f9bd1d695a80402a965f0c1786979939",
       "version_major": 2,
       "version_minor": 0
      },
      "text/plain": [
       "Training epoch 11:   0%|          | 0/307 [00:00<?, ?it/s]"
      ]
     },
     "metadata": {},
     "output_type": "display_data"
    },
    {
     "name": "stderr",
     "output_type": "stream",
     "text": [
      "INFO:root:Validation, Epoch: 11, Loss: 0.513\n"
     ]
    },
    {
     "data": {
      "application/vnd.jupyter.widget-view+json": {
       "model_id": "f9672fc464094a369ed7c7ee1178ed0f",
       "version_major": 2,
       "version_minor": 0
      },
      "text/plain": [
       "Training epoch 12:   0%|          | 0/307 [00:00<?, ?it/s]"
      ]
     },
     "metadata": {},
     "output_type": "display_data"
    },
    {
     "name": "stderr",
     "output_type": "stream",
     "text": [
      "INFO:root:Validation, Epoch: 12, Loss: 0.522\n"
     ]
    },
    {
     "data": {
      "application/vnd.jupyter.widget-view+json": {
       "model_id": "654c21781b12441f868ceee3fdf20f53",
       "version_major": 2,
       "version_minor": 0
      },
      "text/plain": [
       "Training epoch 13:   0%|          | 0/307 [00:00<?, ?it/s]"
      ]
     },
     "metadata": {},
     "output_type": "display_data"
    },
    {
     "name": "stderr",
     "output_type": "stream",
     "text": [
      "INFO:root:Validation, Epoch: 13, Loss: 0.533\n"
     ]
    },
    {
     "data": {
      "application/vnd.jupyter.widget-view+json": {
       "model_id": "d1cd484b96a448a08632fae36893a79e",
       "version_major": 2,
       "version_minor": 0
      },
      "text/plain": [
       "Training epoch 14:   0%|          | 0/307 [00:00<?, ?it/s]"
      ]
     },
     "metadata": {},
     "output_type": "display_data"
    },
    {
     "name": "stderr",
     "output_type": "stream",
     "text": [
      "INFO:root:Validation, Epoch: 14, Loss: 0.491\n"
     ]
    },
    {
     "data": {
      "application/vnd.jupyter.widget-view+json": {
       "model_id": "43f542f448184ca4bd3728f5d25b0fef",
       "version_major": 2,
       "version_minor": 0
      },
      "text/plain": [
       "Training epoch 15:   0%|          | 0/307 [00:00<?, ?it/s]"
      ]
     },
     "metadata": {},
     "output_type": "display_data"
    },
    {
     "name": "stderr",
     "output_type": "stream",
     "text": [
      "INFO:root:Validation, Epoch: 15, Loss: 0.504\n"
     ]
    },
    {
     "data": {
      "application/vnd.jupyter.widget-view+json": {
       "model_id": "b7fca3c923e047d7880f6dc19305b5c9",
       "version_major": 2,
       "version_minor": 0
      },
      "text/plain": [
       "Training epoch 16:   0%|          | 0/307 [00:00<?, ?it/s]"
      ]
     },
     "metadata": {},
     "output_type": "display_data"
    },
    {
     "name": "stderr",
     "output_type": "stream",
     "text": [
      "INFO:root:Validation, Epoch: 16, Loss: 0.474\n"
     ]
    },
    {
     "data": {
      "application/vnd.jupyter.widget-view+json": {
       "model_id": "756591e55af44a32b9e6a997530d3298",
       "version_major": 2,
       "version_minor": 0
      },
      "text/plain": [
       "Training epoch 17:   0%|          | 0/307 [00:00<?, ?it/s]"
      ]
     },
     "metadata": {},
     "output_type": "display_data"
    },
    {
     "name": "stderr",
     "output_type": "stream",
     "text": [
      "INFO:root:Validation, Epoch: 17, Loss: 0.498\n"
     ]
    },
    {
     "data": {
      "application/vnd.jupyter.widget-view+json": {
       "model_id": "41cd7734f2b84f3d8938caaccef15918",
       "version_major": 2,
       "version_minor": 0
      },
      "text/plain": [
       "Training epoch 18:   0%|          | 0/307 [00:00<?, ?it/s]"
      ]
     },
     "metadata": {},
     "output_type": "display_data"
    },
    {
     "name": "stderr",
     "output_type": "stream",
     "text": [
      "INFO:root:Validation, Epoch: 18, Loss: 0.514\n"
     ]
    },
    {
     "data": {
      "application/vnd.jupyter.widget-view+json": {
       "model_id": "178c4be87563410c9d7136a1908d71b1",
       "version_major": 2,
       "version_minor": 0
      },
      "text/plain": [
       "Training epoch 19:   0%|          | 0/307 [00:00<?, ?it/s]"
      ]
     },
     "metadata": {},
     "output_type": "display_data"
    },
    {
     "name": "stderr",
     "output_type": "stream",
     "text": [
      "INFO:root:Validation, Epoch: 19, Loss: 0.484\n"
     ]
    },
    {
     "data": {
      "application/vnd.jupyter.widget-view+json": {
       "model_id": "377aaaa094dc4432a42b6bcbab58fc23",
       "version_major": 2,
       "version_minor": 0
      },
      "text/plain": [
       "Training epoch 20:   0%|          | 0/307 [00:00<?, ?it/s]"
      ]
     },
     "metadata": {},
     "output_type": "display_data"
    },
    {
     "name": "stderr",
     "output_type": "stream",
     "text": [
      "INFO:root:Validation, Epoch: 20, Loss: 0.510\n"
     ]
    },
    {
     "data": {
      "application/vnd.jupyter.widget-view+json": {
       "model_id": "414b4af6005b45ffa3d96b5e285f18c2",
       "version_major": 2,
       "version_minor": 0
      },
      "text/plain": [
       "Training epoch 21:   0%|          | 0/307 [00:00<?, ?it/s]"
      ]
     },
     "metadata": {},
     "output_type": "display_data"
    },
    {
     "name": "stderr",
     "output_type": "stream",
     "text": [
      "INFO:root:Validation, Epoch: 21, Loss: 0.497\n"
     ]
    },
    {
     "data": {
      "application/vnd.jupyter.widget-view+json": {
       "model_id": "32bc5a05ce80461bbc03f891156217ce",
       "version_major": 2,
       "version_minor": 0
      },
      "text/plain": [
       "Training epoch 22:   0%|          | 0/307 [00:00<?, ?it/s]"
      ]
     },
     "metadata": {},
     "output_type": "display_data"
    },
    {
     "name": "stderr",
     "output_type": "stream",
     "text": [
      "INFO:root:Validation, Epoch: 22, Loss: 0.472\n"
     ]
    },
    {
     "data": {
      "application/vnd.jupyter.widget-view+json": {
       "model_id": "02b5a52051fd46c0b4c6faf2e6cd5b7a",
       "version_major": 2,
       "version_minor": 0
      },
      "text/plain": [
       "Training epoch 23:   0%|          | 0/307 [00:00<?, ?it/s]"
      ]
     },
     "metadata": {},
     "output_type": "display_data"
    },
    {
     "name": "stderr",
     "output_type": "stream",
     "text": [
      "INFO:root:Validation, Epoch: 23, Loss: 0.462\n"
     ]
    },
    {
     "data": {
      "application/vnd.jupyter.widget-view+json": {
       "model_id": "7894f15c360a4d689cc7e5e460e2afc4",
       "version_major": 2,
       "version_minor": 0
      },
      "text/plain": [
       "Training epoch 24:   0%|          | 0/307 [00:00<?, ?it/s]"
      ]
     },
     "metadata": {},
     "output_type": "display_data"
    },
    {
     "name": "stderr",
     "output_type": "stream",
     "text": [
      "INFO:root:Validation, Epoch: 24, Loss: 0.490\n"
     ]
    },
    {
     "data": {
      "application/vnd.jupyter.widget-view+json": {
       "model_id": "a4164d8c202f48a491793d38764503e6",
       "version_major": 2,
       "version_minor": 0
      },
      "text/plain": [
       "Training epoch 25:   0%|          | 0/307 [00:00<?, ?it/s]"
      ]
     },
     "metadata": {},
     "output_type": "display_data"
    },
    {
     "name": "stderr",
     "output_type": "stream",
     "text": [
      "INFO:root:Validation, Epoch: 25, Loss: 0.478\n"
     ]
    },
    {
     "data": {
      "application/vnd.jupyter.widget-view+json": {
       "model_id": "97d86ac4274c46b690d8103bd15ea149",
       "version_major": 2,
       "version_minor": 0
      },
      "text/plain": [
       "Training epoch 26:   0%|          | 0/307 [00:00<?, ?it/s]"
      ]
     },
     "metadata": {},
     "output_type": "display_data"
    },
    {
     "name": "stderr",
     "output_type": "stream",
     "text": [
      "INFO:root:Validation, Epoch: 26, Loss: 0.497\n"
     ]
    },
    {
     "data": {
      "application/vnd.jupyter.widget-view+json": {
       "model_id": "11c3d94f6047473f8a70122f39f120ed",
       "version_major": 2,
       "version_minor": 0
      },
      "text/plain": [
       "Training epoch 27:   0%|          | 0/307 [00:00<?, ?it/s]"
      ]
     },
     "metadata": {},
     "output_type": "display_data"
    },
    {
     "name": "stderr",
     "output_type": "stream",
     "text": [
      "INFO:root:Validation, Epoch: 27, Loss: 0.484\n"
     ]
    },
    {
     "data": {
      "application/vnd.jupyter.widget-view+json": {
       "model_id": "7af3f2773ffa43d9ba9abca25ce52ed5",
       "version_major": 2,
       "version_minor": 0
      },
      "text/plain": [
       "Training epoch 28:   0%|          | 0/307 [00:00<?, ?it/s]"
      ]
     },
     "metadata": {},
     "output_type": "display_data"
    },
    {
     "name": "stderr",
     "output_type": "stream",
     "text": [
      "INFO:root:Validation, Epoch: 28, Loss: 0.449\n"
     ]
    },
    {
     "data": {
      "application/vnd.jupyter.widget-view+json": {
       "model_id": "5b73abd6afcc48c6a66c7aa61a23e583",
       "version_major": 2,
       "version_minor": 0
      },
      "text/plain": [
       "Training epoch 29:   0%|          | 0/307 [00:00<?, ?it/s]"
      ]
     },
     "metadata": {},
     "output_type": "display_data"
    },
    {
     "name": "stderr",
     "output_type": "stream",
     "text": [
      "INFO:root:Validation, Epoch: 29, Loss: 0.483\n"
     ]
    },
    {
     "data": {
      "application/vnd.jupyter.widget-view+json": {
       "model_id": "29e60b757bcd4d17a3bb65186494a3dd",
       "version_major": 2,
       "version_minor": 0
      },
      "text/plain": [
       "Training epoch 30:   0%|          | 0/307 [00:00<?, ?it/s]"
      ]
     },
     "metadata": {},
     "output_type": "display_data"
    },
    {
     "name": "stderr",
     "output_type": "stream",
     "text": [
      "INFO:root:Validation, Epoch: 30, Loss: 0.466\n"
     ]
    },
    {
     "data": {
      "application/vnd.jupyter.widget-view+json": {
       "model_id": "fb8d85fd51b24177addc9b5e757a8e18",
       "version_major": 2,
       "version_minor": 0
      },
      "text/plain": [
       "Training epoch 31:   0%|          | 0/307 [00:00<?, ?it/s]"
      ]
     },
     "metadata": {},
     "output_type": "display_data"
    },
    {
     "name": "stderr",
     "output_type": "stream",
     "text": [
      "INFO:root:Validation, Epoch: 31, Loss: 0.454\n"
     ]
    },
    {
     "data": {
      "application/vnd.jupyter.widget-view+json": {
       "model_id": "073b566f24694c5e83ccfda481784e58",
       "version_major": 2,
       "version_minor": 0
      },
      "text/plain": [
       "Training epoch 32:   0%|          | 0/307 [00:00<?, ?it/s]"
      ]
     },
     "metadata": {},
     "output_type": "display_data"
    },
    {
     "name": "stderr",
     "output_type": "stream",
     "text": [
      "INFO:root:Validation, Epoch: 32, Loss: 0.480\n"
     ]
    },
    {
     "data": {
      "application/vnd.jupyter.widget-view+json": {
       "model_id": "f207eaba59bb40efa502578bae0a7766",
       "version_major": 2,
       "version_minor": 0
      },
      "text/plain": [
       "Training epoch 33:   0%|          | 0/307 [00:00<?, ?it/s]"
      ]
     },
     "metadata": {},
     "output_type": "display_data"
    },
    {
     "name": "stderr",
     "output_type": "stream",
     "text": [
      "INFO:root:Validation, Epoch: 33, Loss: 0.478\n"
     ]
    },
    {
     "data": {
      "application/vnd.jupyter.widget-view+json": {
       "model_id": "4cfa8c385b144830a77775f2cf7838cb",
       "version_major": 2,
       "version_minor": 0
      },
      "text/plain": [
       "Training epoch 34:   0%|          | 0/307 [00:00<?, ?it/s]"
      ]
     },
     "metadata": {},
     "output_type": "display_data"
    },
    {
     "name": "stderr",
     "output_type": "stream",
     "text": [
      "INFO:root:Validation, Epoch: 34, Loss: 0.472\n"
     ]
    },
    {
     "data": {
      "application/vnd.jupyter.widget-view+json": {
       "model_id": "9fc68ad71316420591cb858f52347fb2",
       "version_major": 2,
       "version_minor": 0
      },
      "text/plain": [
       "Training epoch 35:   0%|          | 0/307 [00:00<?, ?it/s]"
      ]
     },
     "metadata": {},
     "output_type": "display_data"
    },
    {
     "name": "stderr",
     "output_type": "stream",
     "text": [
      "INFO:root:Validation, Epoch: 35, Loss: 0.452\n"
     ]
    },
    {
     "data": {
      "application/vnd.jupyter.widget-view+json": {
       "model_id": "af84164609af4512be1042f791d4f2ff",
       "version_major": 2,
       "version_minor": 0
      },
      "text/plain": [
       "Training epoch 36:   0%|          | 0/307 [00:00<?, ?it/s]"
      ]
     },
     "metadata": {},
     "output_type": "display_data"
    },
    {
     "name": "stderr",
     "output_type": "stream",
     "text": [
      "INFO:root:Validation, Epoch: 36, Loss: 0.450\n"
     ]
    },
    {
     "data": {
      "application/vnd.jupyter.widget-view+json": {
       "model_id": "e2130911b3724521a863e72857db47b3",
       "version_major": 2,
       "version_minor": 0
      },
      "text/plain": [
       "Training epoch 37:   0%|          | 0/307 [00:00<?, ?it/s]"
      ]
     },
     "metadata": {},
     "output_type": "display_data"
    },
    {
     "name": "stderr",
     "output_type": "stream",
     "text": [
      "INFO:root:Validation, Epoch: 37, Loss: 0.453\n"
     ]
    },
    {
     "data": {
      "application/vnd.jupyter.widget-view+json": {
       "model_id": "1273754036194508bf3da62ead54610d",
       "version_major": 2,
       "version_minor": 0
      },
      "text/plain": [
       "Training epoch 38:   0%|          | 0/307 [00:00<?, ?it/s]"
      ]
     },
     "metadata": {},
     "output_type": "display_data"
    },
    {
     "name": "stderr",
     "output_type": "stream",
     "text": [
      "INFO:root:Validation, Epoch: 38, Loss: 0.437\n"
     ]
    },
    {
     "data": {
      "application/vnd.jupyter.widget-view+json": {
       "model_id": "b5d13c9aafb842b2aeb0b61e3c87c636",
       "version_major": 2,
       "version_minor": 0
      },
      "text/plain": [
       "Training epoch 39:   0%|          | 0/307 [00:00<?, ?it/s]"
      ]
     },
     "metadata": {},
     "output_type": "display_data"
    },
    {
     "name": "stderr",
     "output_type": "stream",
     "text": [
      "INFO:root:Validation, Epoch: 39, Loss: 0.451\n"
     ]
    },
    {
     "data": {
      "application/vnd.jupyter.widget-view+json": {
       "model_id": "5fa2f20ca55b4f61b5a480a8be3a8573",
       "version_major": 2,
       "version_minor": 0
      },
      "text/plain": [
       "Training epoch 40:   0%|          | 0/307 [00:00<?, ?it/s]"
      ]
     },
     "metadata": {},
     "output_type": "display_data"
    },
    {
     "name": "stderr",
     "output_type": "stream",
     "text": [
      "INFO:root:Validation, Epoch: 40, Loss: 0.448\n"
     ]
    },
    {
     "data": {
      "application/vnd.jupyter.widget-view+json": {
       "model_id": "1e997cccf6c94c04aaac8d7dfe30b759",
       "version_major": 2,
       "version_minor": 0
      },
      "text/plain": [
       "Training epoch 41:   0%|          | 0/307 [00:00<?, ?it/s]"
      ]
     },
     "metadata": {},
     "output_type": "display_data"
    },
    {
     "name": "stderr",
     "output_type": "stream",
     "text": [
      "INFO:root:Validation, Epoch: 41, Loss: 0.444\n"
     ]
    },
    {
     "data": {
      "application/vnd.jupyter.widget-view+json": {
       "model_id": "6d78717fcd5944719ecd55f0d9c8fa82",
       "version_major": 2,
       "version_minor": 0
      },
      "text/plain": [
       "Training epoch 42:   0%|          | 0/307 [00:00<?, ?it/s]"
      ]
     },
     "metadata": {},
     "output_type": "display_data"
    },
    {
     "name": "stderr",
     "output_type": "stream",
     "text": [
      "INFO:root:Validation, Epoch: 42, Loss: 0.468\n"
     ]
    },
    {
     "data": {
      "application/vnd.jupyter.widget-view+json": {
       "model_id": "d506d534c2954f83bfee98562822e694",
       "version_major": 2,
       "version_minor": 0
      },
      "text/plain": [
       "Training epoch 43:   0%|          | 0/307 [00:00<?, ?it/s]"
      ]
     },
     "metadata": {},
     "output_type": "display_data"
    },
    {
     "name": "stderr",
     "output_type": "stream",
     "text": [
      "INFO:root:Validation, Epoch: 43, Loss: 0.455\n"
     ]
    },
    {
     "data": {
      "application/vnd.jupyter.widget-view+json": {
       "model_id": "1b4e861ae0de49688fefe444450fbdef",
       "version_major": 2,
       "version_minor": 0
      },
      "text/plain": [
       "Training epoch 44:   0%|          | 0/307 [00:00<?, ?it/s]"
      ]
     },
     "metadata": {},
     "output_type": "display_data"
    },
    {
     "name": "stderr",
     "output_type": "stream",
     "text": [
      "INFO:root:Validation, Epoch: 44, Loss: 0.447\n"
     ]
    },
    {
     "data": {
      "application/vnd.jupyter.widget-view+json": {
       "model_id": "b4fb8bc12e6544f9a9e7fed7a263f62f",
       "version_major": 2,
       "version_minor": 0
      },
      "text/plain": [
       "Training epoch 45:   0%|          | 0/307 [00:00<?, ?it/s]"
      ]
     },
     "metadata": {},
     "output_type": "display_data"
    },
    {
     "name": "stderr",
     "output_type": "stream",
     "text": [
      "INFO:root:Validation, Epoch: 45, Loss: 0.442\n"
     ]
    },
    {
     "data": {
      "application/vnd.jupyter.widget-view+json": {
       "model_id": "23fcb26572bb4f03a13d891543302702",
       "version_major": 2,
       "version_minor": 0
      },
      "text/plain": [
       "Training epoch 46:   0%|          | 0/307 [00:00<?, ?it/s]"
      ]
     },
     "metadata": {},
     "output_type": "display_data"
    },
    {
     "name": "stderr",
     "output_type": "stream",
     "text": [
      "INFO:root:Validation, Epoch: 46, Loss: 0.471\n"
     ]
    },
    {
     "data": {
      "application/vnd.jupyter.widget-view+json": {
       "model_id": "23c81c6cebc54b8eb9638376021be839",
       "version_major": 2,
       "version_minor": 0
      },
      "text/plain": [
       "Training epoch 47:   0%|          | 0/307 [00:00<?, ?it/s]"
      ]
     },
     "metadata": {},
     "output_type": "display_data"
    },
    {
     "name": "stderr",
     "output_type": "stream",
     "text": [
      "INFO:root:Validation, Epoch: 47, Loss: 0.449\n"
     ]
    },
    {
     "data": {
      "application/vnd.jupyter.widget-view+json": {
       "model_id": "1956684c4d5f4ae3abf7f4f25ed99593",
       "version_major": 2,
       "version_minor": 0
      },
      "text/plain": [
       "Training epoch 48:   0%|          | 0/307 [00:00<?, ?it/s]"
      ]
     },
     "metadata": {},
     "output_type": "display_data"
    },
    {
     "name": "stderr",
     "output_type": "stream",
     "text": [
      "INFO:root:Validation, Epoch: 48, Loss: 0.452\n"
     ]
    },
    {
     "data": {
      "application/vnd.jupyter.widget-view+json": {
       "model_id": "48ccf70597b246a89f2e49498032f932",
       "version_major": 2,
       "version_minor": 0
      },
      "text/plain": [
       "Training epoch 49:   0%|          | 0/307 [00:00<?, ?it/s]"
      ]
     },
     "metadata": {},
     "output_type": "display_data"
    },
    {
     "name": "stderr",
     "output_type": "stream",
     "text": [
      "INFO:root:Validation, Epoch: 49, Loss: 0.459\n"
     ]
    },
    {
     "data": {
      "application/vnd.jupyter.widget-view+json": {
       "model_id": "6283786d246746b1b4d873b4e3e8ac2f",
       "version_major": 2,
       "version_minor": 0
      },
      "text/plain": [
       "Training epoch 50:   0%|          | 0/307 [00:00<?, ?it/s]"
      ]
     },
     "metadata": {},
     "output_type": "display_data"
    },
    {
     "name": "stderr",
     "output_type": "stream",
     "text": [
      "INFO:root:Validation, Epoch: 50, Loss: 0.438\n"
     ]
    },
    {
     "data": {
      "application/vnd.jupyter.widget-view+json": {
       "model_id": "41c3dadae1c84fc9ac75f889cb0cccc6",
       "version_major": 2,
       "version_minor": 0
      },
      "text/plain": [
       "Training epoch 51:   0%|          | 0/307 [00:00<?, ?it/s]"
      ]
     },
     "metadata": {},
     "output_type": "display_data"
    },
    {
     "name": "stderr",
     "output_type": "stream",
     "text": [
      "INFO:root:Validation, Epoch: 51, Loss: 0.443\n"
     ]
    },
    {
     "data": {
      "application/vnd.jupyter.widget-view+json": {
       "model_id": "7baa1ed2526643ad8a5269efcd1478eb",
       "version_major": 2,
       "version_minor": 0
      },
      "text/plain": [
       "Training epoch 52:   0%|          | 0/307 [00:00<?, ?it/s]"
      ]
     },
     "metadata": {},
     "output_type": "display_data"
    },
    {
     "name": "stderr",
     "output_type": "stream",
     "text": [
      "INFO:root:Validation, Epoch: 52, Loss: 0.415\n"
     ]
    },
    {
     "data": {
      "application/vnd.jupyter.widget-view+json": {
       "model_id": "a4e222cd9da44ce49ef90b8a2ba15f39",
       "version_major": 2,
       "version_minor": 0
      },
      "text/plain": [
       "Training epoch 53:   0%|          | 0/307 [00:00<?, ?it/s]"
      ]
     },
     "metadata": {},
     "output_type": "display_data"
    },
    {
     "name": "stderr",
     "output_type": "stream",
     "text": [
      "INFO:root:Validation, Epoch: 53, Loss: 0.431\n"
     ]
    },
    {
     "data": {
      "application/vnd.jupyter.widget-view+json": {
       "model_id": "ff5e9c6462204060ba7478b033b4d687",
       "version_major": 2,
       "version_minor": 0
      },
      "text/plain": [
       "Training epoch 54:   0%|          | 0/307 [00:00<?, ?it/s]"
      ]
     },
     "metadata": {},
     "output_type": "display_data"
    },
    {
     "name": "stderr",
     "output_type": "stream",
     "text": [
      "INFO:root:Validation, Epoch: 54, Loss: 0.445\n"
     ]
    },
    {
     "data": {
      "application/vnd.jupyter.widget-view+json": {
       "model_id": "73fd80d7154d46b2af8af0ee0cc867e9",
       "version_major": 2,
       "version_minor": 0
      },
      "text/plain": [
       "Training epoch 55:   0%|          | 0/307 [00:00<?, ?it/s]"
      ]
     },
     "metadata": {},
     "output_type": "display_data"
    },
    {
     "name": "stderr",
     "output_type": "stream",
     "text": [
      "INFO:root:Validation, Epoch: 55, Loss: 0.447\n"
     ]
    },
    {
     "data": {
      "application/vnd.jupyter.widget-view+json": {
       "model_id": "35b2ca02c52945bbb316da165a857d7d",
       "version_major": 2,
       "version_minor": 0
      },
      "text/plain": [
       "Training epoch 56:   0%|          | 0/307 [00:00<?, ?it/s]"
      ]
     },
     "metadata": {},
     "output_type": "display_data"
    },
    {
     "name": "stderr",
     "output_type": "stream",
     "text": [
      "INFO:root:Validation, Epoch: 56, Loss: 0.460\n"
     ]
    },
    {
     "data": {
      "application/vnd.jupyter.widget-view+json": {
       "model_id": "813b5c38048e4df0a6fe40e99f2bfe42",
       "version_major": 2,
       "version_minor": 0
      },
      "text/plain": [
       "Training epoch 57:   0%|          | 0/307 [00:00<?, ?it/s]"
      ]
     },
     "metadata": {},
     "output_type": "display_data"
    },
    {
     "name": "stderr",
     "output_type": "stream",
     "text": [
      "INFO:root:Validation, Epoch: 57, Loss: 0.467\n"
     ]
    },
    {
     "data": {
      "application/vnd.jupyter.widget-view+json": {
       "model_id": "2090026194d648f9bdd543c08adaa3a2",
       "version_major": 2,
       "version_minor": 0
      },
      "text/plain": [
       "Training epoch 58:   0%|          | 0/307 [00:00<?, ?it/s]"
      ]
     },
     "metadata": {},
     "output_type": "display_data"
    },
    {
     "name": "stderr",
     "output_type": "stream",
     "text": [
      "INFO:root:Validation, Epoch: 58, Loss: 0.425\n"
     ]
    },
    {
     "data": {
      "application/vnd.jupyter.widget-view+json": {
       "model_id": "3b33edba8db2444f9431bc1dac7d4702",
       "version_major": 2,
       "version_minor": 0
      },
      "text/plain": [
       "Training epoch 59:   0%|          | 0/307 [00:00<?, ?it/s]"
      ]
     },
     "metadata": {},
     "output_type": "display_data"
    },
    {
     "name": "stderr",
     "output_type": "stream",
     "text": [
      "INFO:root:Validation, Epoch: 59, Loss: 0.465\n"
     ]
    },
    {
     "data": {
      "application/vnd.jupyter.widget-view+json": {
       "model_id": "8f019184bd064355a76270aec36c25d0",
       "version_major": 2,
       "version_minor": 0
      },
      "text/plain": [
       "Training epoch 60:   0%|          | 0/307 [00:00<?, ?it/s]"
      ]
     },
     "metadata": {},
     "output_type": "display_data"
    },
    {
     "name": "stderr",
     "output_type": "stream",
     "text": [
      "INFO:root:Validation, Epoch: 60, Loss: 0.468\n"
     ]
    },
    {
     "data": {
      "application/vnd.jupyter.widget-view+json": {
       "model_id": "1ce65934cc614317918c15b8f2fe852e",
       "version_major": 2,
       "version_minor": 0
      },
      "text/plain": [
       "Training epoch 61:   0%|          | 0/307 [00:00<?, ?it/s]"
      ]
     },
     "metadata": {},
     "output_type": "display_data"
    },
    {
     "name": "stderr",
     "output_type": "stream",
     "text": [
      "INFO:root:Validation, Epoch: 61, Loss: 0.428\n"
     ]
    },
    {
     "data": {
      "application/vnd.jupyter.widget-view+json": {
       "model_id": "d2da1c243c6f463cbbe317b7a1cd30bc",
       "version_major": 2,
       "version_minor": 0
      },
      "text/plain": [
       "Training epoch 62:   0%|          | 0/307 [00:00<?, ?it/s]"
      ]
     },
     "metadata": {},
     "output_type": "display_data"
    },
    {
     "name": "stderr",
     "output_type": "stream",
     "text": [
      "INFO:root:Validation, Epoch: 62, Loss: 0.463\n"
     ]
    },
    {
     "data": {
      "application/vnd.jupyter.widget-view+json": {
       "model_id": "db7fba7de3c64ce2bd3a95e4a2c19081",
       "version_major": 2,
       "version_minor": 0
      },
      "text/plain": [
       "Training epoch 63:   0%|          | 0/307 [00:00<?, ?it/s]"
      ]
     },
     "metadata": {},
     "output_type": "display_data"
    },
    {
     "name": "stderr",
     "output_type": "stream",
     "text": [
      "INFO:root:Validation, Epoch: 63, Loss: 0.452\n"
     ]
    },
    {
     "data": {
      "application/vnd.jupyter.widget-view+json": {
       "model_id": "12fddb2e0c6a431ba5fea5aa1e261d00",
       "version_major": 2,
       "version_minor": 0
      },
      "text/plain": [
       "Training epoch 64:   0%|          | 0/307 [00:00<?, ?it/s]"
      ]
     },
     "metadata": {},
     "output_type": "display_data"
    },
    {
     "name": "stderr",
     "output_type": "stream",
     "text": [
      "INFO:root:Validation, Epoch: 64, Loss: 0.434\n"
     ]
    },
    {
     "data": {
      "application/vnd.jupyter.widget-view+json": {
       "model_id": "9161fe4a01d6480db81d7326d4cebd62",
       "version_major": 2,
       "version_minor": 0
      },
      "text/plain": [
       "Training epoch 65:   0%|          | 0/307 [00:00<?, ?it/s]"
      ]
     },
     "metadata": {},
     "output_type": "display_data"
    },
    {
     "name": "stderr",
     "output_type": "stream",
     "text": [
      "INFO:root:Validation, Epoch: 65, Loss: 0.451\n"
     ]
    },
    {
     "data": {
      "application/vnd.jupyter.widget-view+json": {
       "model_id": "dffb2e157c6e4ea481293f96afea9dd9",
       "version_major": 2,
       "version_minor": 0
      },
      "text/plain": [
       "Training epoch 66:   0%|          | 0/307 [00:00<?, ?it/s]"
      ]
     },
     "metadata": {},
     "output_type": "display_data"
    },
    {
     "name": "stderr",
     "output_type": "stream",
     "text": [
      "INFO:root:Validation, Epoch: 66, Loss: 0.439\n"
     ]
    },
    {
     "data": {
      "application/vnd.jupyter.widget-view+json": {
       "model_id": "6c94624634134f458be42fdc5d7f6d45",
       "version_major": 2,
       "version_minor": 0
      },
      "text/plain": [
       "Training epoch 67:   0%|          | 0/307 [00:00<?, ?it/s]"
      ]
     },
     "metadata": {},
     "output_type": "display_data"
    },
    {
     "name": "stderr",
     "output_type": "stream",
     "text": [
      "INFO:root:Validation, Epoch: 67, Loss: 0.412\n"
     ]
    },
    {
     "data": {
      "application/vnd.jupyter.widget-view+json": {
       "model_id": "5163200b573b49cc9ad3ea6415f67ae7",
       "version_major": 2,
       "version_minor": 0
      },
      "text/plain": [
       "Training epoch 68:   0%|          | 0/307 [00:00<?, ?it/s]"
      ]
     },
     "metadata": {},
     "output_type": "display_data"
    },
    {
     "name": "stderr",
     "output_type": "stream",
     "text": [
      "INFO:root:Validation, Epoch: 68, Loss: 0.439\n"
     ]
    },
    {
     "data": {
      "application/vnd.jupyter.widget-view+json": {
       "model_id": "6b99f854995e4e27989626218cb8f329",
       "version_major": 2,
       "version_minor": 0
      },
      "text/plain": [
       "Training epoch 69:   0%|          | 0/307 [00:00<?, ?it/s]"
      ]
     },
     "metadata": {},
     "output_type": "display_data"
    },
    {
     "name": "stderr",
     "output_type": "stream",
     "text": [
      "INFO:root:Validation, Epoch: 69, Loss: 0.442\n"
     ]
    },
    {
     "data": {
      "application/vnd.jupyter.widget-view+json": {
       "model_id": "5199d96daff248a190ac7fe223b8a2dd",
       "version_major": 2,
       "version_minor": 0
      },
      "text/plain": [
       "Training epoch 70:   0%|          | 0/307 [00:00<?, ?it/s]"
      ]
     },
     "metadata": {},
     "output_type": "display_data"
    },
    {
     "name": "stderr",
     "output_type": "stream",
     "text": [
      "INFO:root:Validation, Epoch: 70, Loss: 0.429\n"
     ]
    },
    {
     "data": {
      "application/vnd.jupyter.widget-view+json": {
       "model_id": "50a07fd735254a1690b2e9d987ab2ee0",
       "version_major": 2,
       "version_minor": 0
      },
      "text/plain": [
       "Training epoch 71:   0%|          | 0/307 [00:00<?, ?it/s]"
      ]
     },
     "metadata": {},
     "output_type": "display_data"
    },
    {
     "name": "stderr",
     "output_type": "stream",
     "text": [
      "INFO:root:Validation, Epoch: 71, Loss: 0.439\n"
     ]
    },
    {
     "data": {
      "application/vnd.jupyter.widget-view+json": {
       "model_id": "173138cc077346b39c85b84cb845c623",
       "version_major": 2,
       "version_minor": 0
      },
      "text/plain": [
       "Training epoch 72:   0%|          | 0/307 [00:00<?, ?it/s]"
      ]
     },
     "metadata": {},
     "output_type": "display_data"
    },
    {
     "name": "stderr",
     "output_type": "stream",
     "text": [
      "INFO:root:Validation, Epoch: 72, Loss: 0.456\n"
     ]
    },
    {
     "data": {
      "application/vnd.jupyter.widget-view+json": {
       "model_id": "40e6e287158b488d93e51d5d669e1968",
       "version_major": 2,
       "version_minor": 0
      },
      "text/plain": [
       "Training epoch 73:   0%|          | 0/307 [00:00<?, ?it/s]"
      ]
     },
     "metadata": {},
     "output_type": "display_data"
    },
    {
     "name": "stderr",
     "output_type": "stream",
     "text": [
      "INFO:root:Validation, Epoch: 73, Loss: 0.441\n"
     ]
    },
    {
     "data": {
      "application/vnd.jupyter.widget-view+json": {
       "model_id": "9e18f70f25224a9597a941bc07a75a9f",
       "version_major": 2,
       "version_minor": 0
      },
      "text/plain": [
       "Training epoch 74:   0%|          | 0/307 [00:00<?, ?it/s]"
      ]
     },
     "metadata": {},
     "output_type": "display_data"
    },
    {
     "name": "stderr",
     "output_type": "stream",
     "text": [
      "INFO:root:Validation, Epoch: 74, Loss: 0.441\n"
     ]
    },
    {
     "data": {
      "application/vnd.jupyter.widget-view+json": {
       "model_id": "4e29e4edec58400eb8adeb5c827f5822",
       "version_major": 2,
       "version_minor": 0
      },
      "text/plain": [
       "Training epoch 75:   0%|          | 0/307 [00:00<?, ?it/s]"
      ]
     },
     "metadata": {},
     "output_type": "display_data"
    },
    {
     "name": "stderr",
     "output_type": "stream",
     "text": [
      "INFO:root:Validation, Epoch: 75, Loss: 0.416\n"
     ]
    },
    {
     "data": {
      "application/vnd.jupyter.widget-view+json": {
       "model_id": "a9ffda2da38f481cbdd07c18cdb541ee",
       "version_major": 2,
       "version_minor": 0
      },
      "text/plain": [
       "Training epoch 76:   0%|          | 0/307 [00:00<?, ?it/s]"
      ]
     },
     "metadata": {},
     "output_type": "display_data"
    },
    {
     "name": "stderr",
     "output_type": "stream",
     "text": [
      "INFO:root:Validation, Epoch: 76, Loss: 0.452\n"
     ]
    },
    {
     "data": {
      "application/vnd.jupyter.widget-view+json": {
       "model_id": "86c2c4e55c324f799c8ec9e7acb7254f",
       "version_major": 2,
       "version_minor": 0
      },
      "text/plain": [
       "Training epoch 77:   0%|          | 0/307 [00:00<?, ?it/s]"
      ]
     },
     "metadata": {},
     "output_type": "display_data"
    },
    {
     "name": "stderr",
     "output_type": "stream",
     "text": [
      "INFO:root:Validation, Epoch: 77, Loss: 0.406\n"
     ]
    },
    {
     "data": {
      "application/vnd.jupyter.widget-view+json": {
       "model_id": "46f67875cddc4987aa690f2514b01c39",
       "version_major": 2,
       "version_minor": 0
      },
      "text/plain": [
       "Training epoch 78:   0%|          | 0/307 [00:00<?, ?it/s]"
      ]
     },
     "metadata": {},
     "output_type": "display_data"
    },
    {
     "name": "stderr",
     "output_type": "stream",
     "text": [
      "INFO:root:Validation, Epoch: 78, Loss: 0.425\n"
     ]
    },
    {
     "data": {
      "application/vnd.jupyter.widget-view+json": {
       "model_id": "f3832f2394b54f498715630a10537a03",
       "version_major": 2,
       "version_minor": 0
      },
      "text/plain": [
       "Training epoch 79:   0%|          | 0/307 [00:00<?, ?it/s]"
      ]
     },
     "metadata": {},
     "output_type": "display_data"
    },
    {
     "name": "stderr",
     "output_type": "stream",
     "text": [
      "INFO:root:Validation, Epoch: 79, Loss: 0.433\n"
     ]
    },
    {
     "data": {
      "application/vnd.jupyter.widget-view+json": {
       "model_id": "3411d112d53b4bb1ae235bb1e3a24ef8",
       "version_major": 2,
       "version_minor": 0
      },
      "text/plain": [
       "Training epoch 80:   0%|          | 0/307 [00:00<?, ?it/s]"
      ]
     },
     "metadata": {},
     "output_type": "display_data"
    },
    {
     "name": "stderr",
     "output_type": "stream",
     "text": [
      "INFO:root:Validation, Epoch: 80, Loss: 0.425\n"
     ]
    },
    {
     "data": {
      "application/vnd.jupyter.widget-view+json": {
       "model_id": "83f7e1815a694d1d82c785acdadae26b",
       "version_major": 2,
       "version_minor": 0
      },
      "text/plain": [
       "Training epoch 81:   0%|          | 0/307 [00:00<?, ?it/s]"
      ]
     },
     "metadata": {},
     "output_type": "display_data"
    },
    {
     "name": "stderr",
     "output_type": "stream",
     "text": [
      "INFO:root:Validation, Epoch: 81, Loss: 0.434\n"
     ]
    },
    {
     "data": {
      "application/vnd.jupyter.widget-view+json": {
       "model_id": "ae3fa56a7c114e6b92133663b29cb6cc",
       "version_major": 2,
       "version_minor": 0
      },
      "text/plain": [
       "Training epoch 82:   0%|          | 0/307 [00:00<?, ?it/s]"
      ]
     },
     "metadata": {},
     "output_type": "display_data"
    },
    {
     "name": "stderr",
     "output_type": "stream",
     "text": [
      "INFO:root:Validation, Epoch: 82, Loss: 0.436\n"
     ]
    },
    {
     "data": {
      "application/vnd.jupyter.widget-view+json": {
       "model_id": "407cc412038646f6bfa580e0201ff417",
       "version_major": 2,
       "version_minor": 0
      },
      "text/plain": [
       "Training epoch 83:   0%|          | 0/307 [00:00<?, ?it/s]"
      ]
     },
     "metadata": {},
     "output_type": "display_data"
    },
    {
     "name": "stderr",
     "output_type": "stream",
     "text": [
      "INFO:root:Validation, Epoch: 83, Loss: 0.420\n"
     ]
    },
    {
     "data": {
      "application/vnd.jupyter.widget-view+json": {
       "model_id": "76844a0b195f4306b76b6baa8d390398",
       "version_major": 2,
       "version_minor": 0
      },
      "text/plain": [
       "Training epoch 84:   0%|          | 0/307 [00:00<?, ?it/s]"
      ]
     },
     "metadata": {},
     "output_type": "display_data"
    },
    {
     "name": "stderr",
     "output_type": "stream",
     "text": [
      "INFO:root:Validation, Epoch: 84, Loss: 0.443\n"
     ]
    },
    {
     "data": {
      "application/vnd.jupyter.widget-view+json": {
       "model_id": "e514301366b4445facb81ab9783b8817",
       "version_major": 2,
       "version_minor": 0
      },
      "text/plain": [
       "Training epoch 85:   0%|          | 0/307 [00:00<?, ?it/s]"
      ]
     },
     "metadata": {},
     "output_type": "display_data"
    },
    {
     "name": "stderr",
     "output_type": "stream",
     "text": [
      "INFO:root:Validation, Epoch: 85, Loss: 0.441\n"
     ]
    },
    {
     "data": {
      "application/vnd.jupyter.widget-view+json": {
       "model_id": "b048ac4565664c3d8e96e65456331835",
       "version_major": 2,
       "version_minor": 0
      },
      "text/plain": [
       "Training epoch 86:   0%|          | 0/307 [00:00<?, ?it/s]"
      ]
     },
     "metadata": {},
     "output_type": "display_data"
    },
    {
     "name": "stderr",
     "output_type": "stream",
     "text": [
      "INFO:root:Validation, Epoch: 86, Loss: 0.460\n"
     ]
    },
    {
     "data": {
      "application/vnd.jupyter.widget-view+json": {
       "model_id": "315cd09831b649da9a1a8d0d94f9ed04",
       "version_major": 2,
       "version_minor": 0
      },
      "text/plain": [
       "Training epoch 87:   0%|          | 0/307 [00:00<?, ?it/s]"
      ]
     },
     "metadata": {},
     "output_type": "display_data"
    },
    {
     "name": "stderr",
     "output_type": "stream",
     "text": [
      "INFO:root:Validation, Epoch: 87, Loss: 0.452\n"
     ]
    },
    {
     "data": {
      "application/vnd.jupyter.widget-view+json": {
       "model_id": "e4da11c22bb54319acf95d8a857f565c",
       "version_major": 2,
       "version_minor": 0
      },
      "text/plain": [
       "Training epoch 88:   0%|          | 0/307 [00:00<?, ?it/s]"
      ]
     },
     "metadata": {},
     "output_type": "display_data"
    },
    {
     "name": "stderr",
     "output_type": "stream",
     "text": [
      "INFO:root:Validation, Epoch: 88, Loss: 0.435\n"
     ]
    },
    {
     "data": {
      "application/vnd.jupyter.widget-view+json": {
       "model_id": "dd67bb2ca99a4bbba1d37a115d3dc9a3",
       "version_major": 2,
       "version_minor": 0
      },
      "text/plain": [
       "Training epoch 89:   0%|          | 0/307 [00:00<?, ?it/s]"
      ]
     },
     "metadata": {},
     "output_type": "display_data"
    },
    {
     "name": "stderr",
     "output_type": "stream",
     "text": [
      "INFO:root:Validation, Epoch: 89, Loss: 0.438\n"
     ]
    },
    {
     "data": {
      "application/vnd.jupyter.widget-view+json": {
       "model_id": "3459359b70bc42949b5b0fc6ab845b4f",
       "version_major": 2,
       "version_minor": 0
      },
      "text/plain": [
       "Training epoch 90:   0%|          | 0/307 [00:00<?, ?it/s]"
      ]
     },
     "metadata": {},
     "output_type": "display_data"
    },
    {
     "name": "stderr",
     "output_type": "stream",
     "text": [
      "INFO:root:Validation, Epoch: 90, Loss: 0.434\n"
     ]
    },
    {
     "data": {
      "application/vnd.jupyter.widget-view+json": {
       "model_id": "f13db3cff366459ea27f71a8ec280408",
       "version_major": 2,
       "version_minor": 0
      },
      "text/plain": [
       "Training epoch 91:   0%|          | 0/307 [00:00<?, ?it/s]"
      ]
     },
     "metadata": {},
     "output_type": "display_data"
    },
    {
     "name": "stderr",
     "output_type": "stream",
     "text": [
      "INFO:root:Validation, Epoch: 91, Loss: 0.426\n"
     ]
    },
    {
     "data": {
      "application/vnd.jupyter.widget-view+json": {
       "model_id": "599f657821224afc8b50e6c75c10d067",
       "version_major": 2,
       "version_minor": 0
      },
      "text/plain": [
       "Training epoch 92:   0%|          | 0/307 [00:00<?, ?it/s]"
      ]
     },
     "metadata": {},
     "output_type": "display_data"
    },
    {
     "name": "stderr",
     "output_type": "stream",
     "text": [
      "INFO:root:Validation, Epoch: 92, Loss: 0.442\n"
     ]
    },
    {
     "data": {
      "application/vnd.jupyter.widget-view+json": {
       "model_id": "76aaf90c0a00429f8b7f423902c4fc2d",
       "version_major": 2,
       "version_minor": 0
      },
      "text/plain": [
       "Training epoch 93:   0%|          | 0/307 [00:00<?, ?it/s]"
      ]
     },
     "metadata": {},
     "output_type": "display_data"
    },
    {
     "name": "stderr",
     "output_type": "stream",
     "text": [
      "INFO:root:Validation, Epoch: 93, Loss: 0.451\n"
     ]
    },
    {
     "data": {
      "application/vnd.jupyter.widget-view+json": {
       "model_id": "1cc2bdabb6cf486cb8867f71242070b7",
       "version_major": 2,
       "version_minor": 0
      },
      "text/plain": [
       "Training epoch 94:   0%|          | 0/307 [00:00<?, ?it/s]"
      ]
     },
     "metadata": {},
     "output_type": "display_data"
    },
    {
     "name": "stderr",
     "output_type": "stream",
     "text": [
      "INFO:root:Validation, Epoch: 94, Loss: 0.446\n"
     ]
    },
    {
     "data": {
      "application/vnd.jupyter.widget-view+json": {
       "model_id": "514e19c5837048f9aaa2273069688cbd",
       "version_major": 2,
       "version_minor": 0
      },
      "text/plain": [
       "Training epoch 95:   0%|          | 0/307 [00:00<?, ?it/s]"
      ]
     },
     "metadata": {},
     "output_type": "display_data"
    },
    {
     "name": "stderr",
     "output_type": "stream",
     "text": [
      "INFO:root:Validation, Epoch: 95, Loss: 0.409\n"
     ]
    },
    {
     "data": {
      "application/vnd.jupyter.widget-view+json": {
       "model_id": "8f37c5eed2f649d0a674269f17b29fa3",
       "version_major": 2,
       "version_minor": 0
      },
      "text/plain": [
       "Training epoch 96:   0%|          | 0/307 [00:00<?, ?it/s]"
      ]
     },
     "metadata": {},
     "output_type": "display_data"
    },
    {
     "name": "stderr",
     "output_type": "stream",
     "text": [
      "INFO:root:Validation, Epoch: 96, Loss: 0.408\n"
     ]
    },
    {
     "data": {
      "application/vnd.jupyter.widget-view+json": {
       "model_id": "d285696a402549fba7caddc540218e96",
       "version_major": 2,
       "version_minor": 0
      },
      "text/plain": [
       "Training epoch 97:   0%|          | 0/307 [00:00<?, ?it/s]"
      ]
     },
     "metadata": {},
     "output_type": "display_data"
    },
    {
     "name": "stderr",
     "output_type": "stream",
     "text": [
      "INFO:root:Validation, Epoch: 97, Loss: 0.453\n"
     ]
    },
    {
     "data": {
      "application/vnd.jupyter.widget-view+json": {
       "model_id": "0f3dfc0d3b814833b0508c14e6ab924b",
       "version_major": 2,
       "version_minor": 0
      },
      "text/plain": [
       "Training epoch 98:   0%|          | 0/307 [00:00<?, ?it/s]"
      ]
     },
     "metadata": {},
     "output_type": "display_data"
    },
    {
     "name": "stderr",
     "output_type": "stream",
     "text": [
      "INFO:root:Validation, Epoch: 98, Loss: 0.433\n"
     ]
    },
    {
     "data": {
      "application/vnd.jupyter.widget-view+json": {
       "model_id": "4b9cdc211b9d472caaf6110018a254fd",
       "version_major": 2,
       "version_minor": 0
      },
      "text/plain": [
       "Training epoch 99:   0%|          | 0/307 [00:00<?, ?it/s]"
      ]
     },
     "metadata": {},
     "output_type": "display_data"
    },
    {
     "name": "stderr",
     "output_type": "stream",
     "text": [
      "INFO:root:Validation, Epoch: 99, Loss: 0.429\n"
     ]
    },
    {
     "data": {
      "application/vnd.jupyter.widget-view+json": {
       "model_id": "d7d3a1070c714024ac58ae404867efa2",
       "version_major": 2,
       "version_minor": 0
      },
      "text/plain": [
       "Training epoch 100:   0%|          | 0/307 [00:00<?, ?it/s]"
      ]
     },
     "metadata": {},
     "output_type": "display_data"
    },
    {
     "name": "stderr",
     "output_type": "stream",
     "text": [
      "INFO:root:Validation, Epoch: 100, Loss: 0.399\n"
     ]
    },
    {
     "data": {
      "application/vnd.jupyter.widget-view+json": {
       "model_id": "320f30c5740240dd806c8cc04c27c426",
       "version_major": 2,
       "version_minor": 0
      },
      "text/plain": [
       "Training epoch 101:   0%|          | 0/307 [00:00<?, ?it/s]"
      ]
     },
     "metadata": {},
     "output_type": "display_data"
    },
    {
     "name": "stderr",
     "output_type": "stream",
     "text": [
      "INFO:root:Validation, Epoch: 101, Loss: 0.448\n"
     ]
    },
    {
     "data": {
      "application/vnd.jupyter.widget-view+json": {
       "model_id": "75ec11a726624f309b7eb630f24d4a21",
       "version_major": 2,
       "version_minor": 0
      },
      "text/plain": [
       "Training epoch 102:   0%|          | 0/307 [00:00<?, ?it/s]"
      ]
     },
     "metadata": {},
     "output_type": "display_data"
    },
    {
     "name": "stderr",
     "output_type": "stream",
     "text": [
      "INFO:root:Validation, Epoch: 102, Loss: 0.428\n"
     ]
    },
    {
     "data": {
      "application/vnd.jupyter.widget-view+json": {
       "model_id": "8e36d48dcf2f458f99bb9c9655fa75d1",
       "version_major": 2,
       "version_minor": 0
      },
      "text/plain": [
       "Training epoch 103:   0%|          | 0/307 [00:00<?, ?it/s]"
      ]
     },
     "metadata": {},
     "output_type": "display_data"
    },
    {
     "name": "stderr",
     "output_type": "stream",
     "text": [
      "INFO:root:Validation, Epoch: 103, Loss: 0.424\n"
     ]
    },
    {
     "data": {
      "application/vnd.jupyter.widget-view+json": {
       "model_id": "ea26211174754c19bdffb1ac862d62d4",
       "version_major": 2,
       "version_minor": 0
      },
      "text/plain": [
       "Training epoch 104:   0%|          | 0/307 [00:00<?, ?it/s]"
      ]
     },
     "metadata": {},
     "output_type": "display_data"
    },
    {
     "name": "stderr",
     "output_type": "stream",
     "text": [
      "INFO:root:Validation, Epoch: 104, Loss: 0.426\n"
     ]
    },
    {
     "data": {
      "application/vnd.jupyter.widget-view+json": {
       "model_id": "d8b797fbbe194ef38ffc726bc48f68a0",
       "version_major": 2,
       "version_minor": 0
      },
      "text/plain": [
       "Training epoch 105:   0%|          | 0/307 [00:00<?, ?it/s]"
      ]
     },
     "metadata": {},
     "output_type": "display_data"
    },
    {
     "name": "stderr",
     "output_type": "stream",
     "text": [
      "INFO:root:Validation, Epoch: 105, Loss: 0.408\n"
     ]
    },
    {
     "data": {
      "application/vnd.jupyter.widget-view+json": {
       "model_id": "3ef0a4f484054dc496adb2550a062be7",
       "version_major": 2,
       "version_minor": 0
      },
      "text/plain": [
       "Training epoch 106:   0%|          | 0/307 [00:00<?, ?it/s]"
      ]
     },
     "metadata": {},
     "output_type": "display_data"
    },
    {
     "name": "stderr",
     "output_type": "stream",
     "text": [
      "INFO:root:Validation, Epoch: 106, Loss: 0.430\n"
     ]
    },
    {
     "data": {
      "application/vnd.jupyter.widget-view+json": {
       "model_id": "f48893718e19474193cb2b3c05752a17",
       "version_major": 2,
       "version_minor": 0
      },
      "text/plain": [
       "Training epoch 107:   0%|          | 0/307 [00:00<?, ?it/s]"
      ]
     },
     "metadata": {},
     "output_type": "display_data"
    },
    {
     "name": "stderr",
     "output_type": "stream",
     "text": [
      "INFO:root:Validation, Epoch: 107, Loss: 0.413\n"
     ]
    },
    {
     "data": {
      "application/vnd.jupyter.widget-view+json": {
       "model_id": "1a850624b88d4bacb8e68c3c8fdcd8d1",
       "version_major": 2,
       "version_minor": 0
      },
      "text/plain": [
       "Training epoch 108:   0%|          | 0/307 [00:00<?, ?it/s]"
      ]
     },
     "metadata": {},
     "output_type": "display_data"
    },
    {
     "name": "stderr",
     "output_type": "stream",
     "text": [
      "INFO:root:Validation, Epoch: 108, Loss: 0.433\n"
     ]
    },
    {
     "data": {
      "application/vnd.jupyter.widget-view+json": {
       "model_id": "596b276fbf5b473dabc789ad4097df95",
       "version_major": 2,
       "version_minor": 0
      },
      "text/plain": [
       "Training epoch 109:   0%|          | 0/307 [00:00<?, ?it/s]"
      ]
     },
     "metadata": {},
     "output_type": "display_data"
    },
    {
     "name": "stderr",
     "output_type": "stream",
     "text": [
      "INFO:root:Validation, Epoch: 109, Loss: 0.444\n"
     ]
    },
    {
     "data": {
      "application/vnd.jupyter.widget-view+json": {
       "model_id": "812f6440223347d7a68a1ee3bb9a3598",
       "version_major": 2,
       "version_minor": 0
      },
      "text/plain": [
       "Training epoch 110:   0%|          | 0/307 [00:00<?, ?it/s]"
      ]
     },
     "metadata": {},
     "output_type": "display_data"
    },
    {
     "name": "stderr",
     "output_type": "stream",
     "text": [
      "INFO:root:Validation, Epoch: 110, Loss: 0.421\n"
     ]
    },
    {
     "data": {
      "application/vnd.jupyter.widget-view+json": {
       "model_id": "0427b0ecd2e248f2bd9a3d21ccc7199c",
       "version_major": 2,
       "version_minor": 0
      },
      "text/plain": [
       "Training epoch 111:   0%|          | 0/307 [00:00<?, ?it/s]"
      ]
     },
     "metadata": {},
     "output_type": "display_data"
    },
    {
     "name": "stderr",
     "output_type": "stream",
     "text": [
      "INFO:root:Validation, Epoch: 111, Loss: 0.418\n"
     ]
    },
    {
     "data": {
      "application/vnd.jupyter.widget-view+json": {
       "model_id": "98a408a6cf83424bb0a7667e5c11a328",
       "version_major": 2,
       "version_minor": 0
      },
      "text/plain": [
       "Training epoch 112:   0%|          | 0/307 [00:00<?, ?it/s]"
      ]
     },
     "metadata": {},
     "output_type": "display_data"
    },
    {
     "name": "stderr",
     "output_type": "stream",
     "text": [
      "INFO:root:Validation, Epoch: 112, Loss: 0.429\n"
     ]
    },
    {
     "data": {
      "application/vnd.jupyter.widget-view+json": {
       "model_id": "f8e0bd3a3d2044d4aa015839ebaaed44",
       "version_major": 2,
       "version_minor": 0
      },
      "text/plain": [
       "Training epoch 113:   0%|          | 0/307 [00:00<?, ?it/s]"
      ]
     },
     "metadata": {},
     "output_type": "display_data"
    },
    {
     "name": "stderr",
     "output_type": "stream",
     "text": [
      "INFO:root:Validation, Epoch: 113, Loss: 0.410\n"
     ]
    },
    {
     "data": {
      "application/vnd.jupyter.widget-view+json": {
       "model_id": "500d1bc412564eb4b75ed45ee9eac492",
       "version_major": 2,
       "version_minor": 0
      },
      "text/plain": [
       "Training epoch 114:   0%|          | 0/307 [00:00<?, ?it/s]"
      ]
     },
     "metadata": {},
     "output_type": "display_data"
    },
    {
     "name": "stderr",
     "output_type": "stream",
     "text": [
      "INFO:root:Validation, Epoch: 114, Loss: 0.406\n"
     ]
    },
    {
     "data": {
      "application/vnd.jupyter.widget-view+json": {
       "model_id": "dc0c9a158a044b899bf9416b0fbd132c",
       "version_major": 2,
       "version_minor": 0
      },
      "text/plain": [
       "Training epoch 115:   0%|          | 0/307 [00:00<?, ?it/s]"
      ]
     },
     "metadata": {},
     "output_type": "display_data"
    },
    {
     "name": "stderr",
     "output_type": "stream",
     "text": [
      "INFO:root:Validation, Epoch: 115, Loss: 0.407\n"
     ]
    },
    {
     "data": {
      "application/vnd.jupyter.widget-view+json": {
       "model_id": "8e9e18e4d1754a809d0b11b9d5579e23",
       "version_major": 2,
       "version_minor": 0
      },
      "text/plain": [
       "Training epoch 116:   0%|          | 0/307 [00:00<?, ?it/s]"
      ]
     },
     "metadata": {},
     "output_type": "display_data"
    },
    {
     "name": "stderr",
     "output_type": "stream",
     "text": [
      "INFO:root:Validation, Epoch: 116, Loss: 0.426\n"
     ]
    },
    {
     "data": {
      "application/vnd.jupyter.widget-view+json": {
       "model_id": "4b60490ce04a4572be43a708c7fbd7b7",
       "version_major": 2,
       "version_minor": 0
      },
      "text/plain": [
       "Training epoch 117:   0%|          | 0/307 [00:00<?, ?it/s]"
      ]
     },
     "metadata": {},
     "output_type": "display_data"
    },
    {
     "name": "stderr",
     "output_type": "stream",
     "text": [
      "INFO:root:Validation, Epoch: 117, Loss: 0.416\n"
     ]
    },
    {
     "data": {
      "application/vnd.jupyter.widget-view+json": {
       "model_id": "df3a595b7599444b91c179d74fbfc5b4",
       "version_major": 2,
       "version_minor": 0
      },
      "text/plain": [
       "Training epoch 118:   0%|          | 0/307 [00:00<?, ?it/s]"
      ]
     },
     "metadata": {},
     "output_type": "display_data"
    },
    {
     "name": "stderr",
     "output_type": "stream",
     "text": [
      "INFO:root:Validation, Epoch: 118, Loss: 0.431\n"
     ]
    },
    {
     "data": {
      "application/vnd.jupyter.widget-view+json": {
       "model_id": "8a26e76605124ceb891a074d4b53e1b2",
       "version_major": 2,
       "version_minor": 0
      },
      "text/plain": [
       "Training epoch 119:   0%|          | 0/307 [00:00<?, ?it/s]"
      ]
     },
     "metadata": {},
     "output_type": "display_data"
    },
    {
     "name": "stderr",
     "output_type": "stream",
     "text": [
      "INFO:root:Validation, Epoch: 119, Loss: 0.402\n"
     ]
    },
    {
     "data": {
      "application/vnd.jupyter.widget-view+json": {
       "model_id": "ed5d5fefcff74fa3aef7d48bd43a9b38",
       "version_major": 2,
       "version_minor": 0
      },
      "text/plain": [
       "Training epoch 120:   0%|          | 0/307 [00:00<?, ?it/s]"
      ]
     },
     "metadata": {},
     "output_type": "display_data"
    },
    {
     "name": "stderr",
     "output_type": "stream",
     "text": [
      "INFO:root:Validation, Epoch: 120, Loss: 0.415\n"
     ]
    },
    {
     "data": {
      "application/vnd.jupyter.widget-view+json": {
       "model_id": "be1d28ab831a4e2b82ad0cd94b95194b",
       "version_major": 2,
       "version_minor": 0
      },
      "text/plain": [
       "Training epoch 121:   0%|          | 0/307 [00:00<?, ?it/s]"
      ]
     },
     "metadata": {},
     "output_type": "display_data"
    },
    {
     "name": "stderr",
     "output_type": "stream",
     "text": [
      "INFO:root:Validation, Epoch: 121, Loss: 0.411\n"
     ]
    },
    {
     "data": {
      "application/vnd.jupyter.widget-view+json": {
       "model_id": "19ea1768a8b04d498dca503f257e9aaa",
       "version_major": 2,
       "version_minor": 0
      },
      "text/plain": [
       "Training epoch 122:   0%|          | 0/307 [00:00<?, ?it/s]"
      ]
     },
     "metadata": {},
     "output_type": "display_data"
    },
    {
     "name": "stderr",
     "output_type": "stream",
     "text": [
      "INFO:root:Validation, Epoch: 122, Loss: 0.415\n"
     ]
    },
    {
     "data": {
      "application/vnd.jupyter.widget-view+json": {
       "model_id": "e73d93e8b5d347e3bb57905716a3c226",
       "version_major": 2,
       "version_minor": 0
      },
      "text/plain": [
       "Training epoch 123:   0%|          | 0/307 [00:00<?, ?it/s]"
      ]
     },
     "metadata": {},
     "output_type": "display_data"
    },
    {
     "name": "stderr",
     "output_type": "stream",
     "text": [
      "INFO:root:Validation, Epoch: 123, Loss: 0.418\n"
     ]
    },
    {
     "data": {
      "application/vnd.jupyter.widget-view+json": {
       "model_id": "0ee5d2d66edd4bc2b4d8a18b2be2c572",
       "version_major": 2,
       "version_minor": 0
      },
      "text/plain": [
       "Training epoch 124:   0%|          | 0/307 [00:00<?, ?it/s]"
      ]
     },
     "metadata": {},
     "output_type": "display_data"
    },
    {
     "name": "stderr",
     "output_type": "stream",
     "text": [
      "INFO:root:Validation, Epoch: 124, Loss: 0.423\n"
     ]
    },
    {
     "data": {
      "application/vnd.jupyter.widget-view+json": {
       "model_id": "965580ca941e45dba6014e625d540d79",
       "version_major": 2,
       "version_minor": 0
      },
      "text/plain": [
       "Training epoch 125:   0%|          | 0/307 [00:00<?, ?it/s]"
      ]
     },
     "metadata": {},
     "output_type": "display_data"
    },
    {
     "name": "stderr",
     "output_type": "stream",
     "text": [
      "INFO:root:Validation, Epoch: 125, Loss: 0.414\n"
     ]
    },
    {
     "data": {
      "application/vnd.jupyter.widget-view+json": {
       "model_id": "d601fdb159ab448a9d02bf09c6585386",
       "version_major": 2,
       "version_minor": 0
      },
      "text/plain": [
       "Training epoch 126:   0%|          | 0/307 [00:00<?, ?it/s]"
      ]
     },
     "metadata": {},
     "output_type": "display_data"
    },
    {
     "name": "stderr",
     "output_type": "stream",
     "text": [
      "INFO:root:Validation, Epoch: 126, Loss: 0.414\n"
     ]
    },
    {
     "data": {
      "application/vnd.jupyter.widget-view+json": {
       "model_id": "a5174a9f1ace467aa0e7cfca1a76478b",
       "version_major": 2,
       "version_minor": 0
      },
      "text/plain": [
       "Training epoch 127:   0%|          | 0/307 [00:00<?, ?it/s]"
      ]
     },
     "metadata": {},
     "output_type": "display_data"
    },
    {
     "name": "stderr",
     "output_type": "stream",
     "text": [
      "INFO:root:Validation, Epoch: 127, Loss: 0.401\n"
     ]
    },
    {
     "data": {
      "application/vnd.jupyter.widget-view+json": {
       "model_id": "20ada755f9e244558ddaca2a3a50f336",
       "version_major": 2,
       "version_minor": 0
      },
      "text/plain": [
       "Training epoch 128:   0%|          | 0/307 [00:00<?, ?it/s]"
      ]
     },
     "metadata": {},
     "output_type": "display_data"
    },
    {
     "name": "stderr",
     "output_type": "stream",
     "text": [
      "INFO:root:Validation, Epoch: 128, Loss: 0.435\n"
     ]
    },
    {
     "data": {
      "application/vnd.jupyter.widget-view+json": {
       "model_id": "6a1cb585944d4a61b0fb0285f271a0de",
       "version_major": 2,
       "version_minor": 0
      },
      "text/plain": [
       "Training epoch 129:   0%|          | 0/307 [00:00<?, ?it/s]"
      ]
     },
     "metadata": {},
     "output_type": "display_data"
    },
    {
     "name": "stderr",
     "output_type": "stream",
     "text": [
      "INFO:root:Validation, Epoch: 129, Loss: 0.427\n"
     ]
    },
    {
     "data": {
      "application/vnd.jupyter.widget-view+json": {
       "model_id": "1d7a5e9367cc4931a1b2cf236709c9cc",
       "version_major": 2,
       "version_minor": 0
      },
      "text/plain": [
       "Training epoch 130:   0%|          | 0/307 [00:00<?, ?it/s]"
      ]
     },
     "metadata": {},
     "output_type": "display_data"
    },
    {
     "name": "stderr",
     "output_type": "stream",
     "text": [
      "INFO:root:Validation, Epoch: 130, Loss: 0.403\n"
     ]
    },
    {
     "data": {
      "application/vnd.jupyter.widget-view+json": {
       "model_id": "8baea3824c0441778a6944f5134bcc48",
       "version_major": 2,
       "version_minor": 0
      },
      "text/plain": [
       "Training epoch 131:   0%|          | 0/307 [00:00<?, ?it/s]"
      ]
     },
     "metadata": {},
     "output_type": "display_data"
    },
    {
     "name": "stderr",
     "output_type": "stream",
     "text": [
      "INFO:root:Validation, Epoch: 131, Loss: 0.426\n"
     ]
    },
    {
     "data": {
      "application/vnd.jupyter.widget-view+json": {
       "model_id": "0f097f89dd3840b5845162a7513cc1e9",
       "version_major": 2,
       "version_minor": 0
      },
      "text/plain": [
       "Training epoch 132:   0%|          | 0/307 [00:00<?, ?it/s]"
      ]
     },
     "metadata": {},
     "output_type": "display_data"
    },
    {
     "name": "stderr",
     "output_type": "stream",
     "text": [
      "INFO:root:Validation, Epoch: 132, Loss: 0.432\n"
     ]
    },
    {
     "data": {
      "application/vnd.jupyter.widget-view+json": {
       "model_id": "e8cb2cc453ee46bd9dff1fe68292d9be",
       "version_major": 2,
       "version_minor": 0
      },
      "text/plain": [
       "Training epoch 133:   0%|          | 0/307 [00:00<?, ?it/s]"
      ]
     },
     "metadata": {},
     "output_type": "display_data"
    },
    {
     "name": "stderr",
     "output_type": "stream",
     "text": [
      "INFO:root:Validation, Epoch: 133, Loss: 0.398\n"
     ]
    },
    {
     "data": {
      "application/vnd.jupyter.widget-view+json": {
       "model_id": "1a509c9e42c44dc498c191db2f61b359",
       "version_major": 2,
       "version_minor": 0
      },
      "text/plain": [
       "Training epoch 134:   0%|          | 0/307 [00:00<?, ?it/s]"
      ]
     },
     "metadata": {},
     "output_type": "display_data"
    },
    {
     "name": "stderr",
     "output_type": "stream",
     "text": [
      "INFO:root:Validation, Epoch: 134, Loss: 0.435\n"
     ]
    },
    {
     "data": {
      "application/vnd.jupyter.widget-view+json": {
       "model_id": "45b8adbcd07f4c099478030cf957a730",
       "version_major": 2,
       "version_minor": 0
      },
      "text/plain": [
       "Training epoch 135:   0%|          | 0/307 [00:00<?, ?it/s]"
      ]
     },
     "metadata": {},
     "output_type": "display_data"
    },
    {
     "name": "stderr",
     "output_type": "stream",
     "text": [
      "INFO:root:Validation, Epoch: 135, Loss: 0.400\n"
     ]
    },
    {
     "data": {
      "application/vnd.jupyter.widget-view+json": {
       "model_id": "ced727fe32fe4799a8b84218bedb3ebc",
       "version_major": 2,
       "version_minor": 0
      },
      "text/plain": [
       "Training epoch 136:   0%|          | 0/307 [00:00<?, ?it/s]"
      ]
     },
     "metadata": {},
     "output_type": "display_data"
    },
    {
     "name": "stderr",
     "output_type": "stream",
     "text": [
      "INFO:root:Validation, Epoch: 136, Loss: 0.419\n"
     ]
    },
    {
     "data": {
      "application/vnd.jupyter.widget-view+json": {
       "model_id": "9c503fb7277c46d5ba161e874138aed8",
       "version_major": 2,
       "version_minor": 0
      },
      "text/plain": [
       "Training epoch 137:   0%|          | 0/307 [00:00<?, ?it/s]"
      ]
     },
     "metadata": {},
     "output_type": "display_data"
    },
    {
     "name": "stderr",
     "output_type": "stream",
     "text": [
      "INFO:root:Validation, Epoch: 137, Loss: 0.445\n"
     ]
    },
    {
     "data": {
      "application/vnd.jupyter.widget-view+json": {
       "model_id": "c3681ae01c5847f094946d578d281216",
       "version_major": 2,
       "version_minor": 0
      },
      "text/plain": [
       "Training epoch 138:   0%|          | 0/307 [00:00<?, ?it/s]"
      ]
     },
     "metadata": {},
     "output_type": "display_data"
    },
    {
     "name": "stderr",
     "output_type": "stream",
     "text": [
      "INFO:root:Validation, Epoch: 138, Loss: 0.425\n"
     ]
    },
    {
     "data": {
      "application/vnd.jupyter.widget-view+json": {
       "model_id": "91f16e7ea5fd41ed8480a8532e66fb56",
       "version_major": 2,
       "version_minor": 0
      },
      "text/plain": [
       "Training epoch 139:   0%|          | 0/307 [00:00<?, ?it/s]"
      ]
     },
     "metadata": {},
     "output_type": "display_data"
    },
    {
     "name": "stderr",
     "output_type": "stream",
     "text": [
      "INFO:root:Validation, Epoch: 139, Loss: 0.416\n"
     ]
    },
    {
     "data": {
      "application/vnd.jupyter.widget-view+json": {
       "model_id": "3f7c4b55f8c54dd2ac5f9261a0ca9d4f",
       "version_major": 2,
       "version_minor": 0
      },
      "text/plain": [
       "Training epoch 140:   0%|          | 0/307 [00:00<?, ?it/s]"
      ]
     },
     "metadata": {},
     "output_type": "display_data"
    },
    {
     "name": "stderr",
     "output_type": "stream",
     "text": [
      "INFO:root:Validation, Epoch: 140, Loss: 0.422\n"
     ]
    },
    {
     "data": {
      "application/vnd.jupyter.widget-view+json": {
       "model_id": "f804a9522893498dae305b4c0641b78e",
       "version_major": 2,
       "version_minor": 0
      },
      "text/plain": [
       "Training epoch 141:   0%|          | 0/307 [00:00<?, ?it/s]"
      ]
     },
     "metadata": {},
     "output_type": "display_data"
    },
    {
     "name": "stderr",
     "output_type": "stream",
     "text": [
      "INFO:root:Validation, Epoch: 141, Loss: 0.425\n"
     ]
    },
    {
     "data": {
      "application/vnd.jupyter.widget-view+json": {
       "model_id": "95be6a62f28a474286596570e301f77b",
       "version_major": 2,
       "version_minor": 0
      },
      "text/plain": [
       "Training epoch 142:   0%|          | 0/307 [00:00<?, ?it/s]"
      ]
     },
     "metadata": {},
     "output_type": "display_data"
    },
    {
     "name": "stderr",
     "output_type": "stream",
     "text": [
      "INFO:root:Validation, Epoch: 142, Loss: 0.420\n"
     ]
    },
    {
     "data": {
      "application/vnd.jupyter.widget-view+json": {
       "model_id": "b28ff5b4233140ff861b31af902aeb95",
       "version_major": 2,
       "version_minor": 0
      },
      "text/plain": [
       "Training epoch 143:   0%|          | 0/307 [00:00<?, ?it/s]"
      ]
     },
     "metadata": {},
     "output_type": "display_data"
    },
    {
     "name": "stderr",
     "output_type": "stream",
     "text": [
      "INFO:root:Validation, Epoch: 143, Loss: 0.395\n"
     ]
    },
    {
     "data": {
      "application/vnd.jupyter.widget-view+json": {
       "model_id": "e2421c74330a45e888cf5c46ed99681b",
       "version_major": 2,
       "version_minor": 0
      },
      "text/plain": [
       "Training epoch 144:   0%|          | 0/307 [00:00<?, ?it/s]"
      ]
     },
     "metadata": {},
     "output_type": "display_data"
    },
    {
     "name": "stderr",
     "output_type": "stream",
     "text": [
      "INFO:root:Validation, Epoch: 144, Loss: 0.420\n"
     ]
    },
    {
     "data": {
      "application/vnd.jupyter.widget-view+json": {
       "model_id": "c0fa7e7e21874c839f686fd84f19657e",
       "version_major": 2,
       "version_minor": 0
      },
      "text/plain": [
       "Training epoch 145:   0%|          | 0/307 [00:00<?, ?it/s]"
      ]
     },
     "metadata": {},
     "output_type": "display_data"
    },
    {
     "name": "stderr",
     "output_type": "stream",
     "text": [
      "INFO:root:Validation, Epoch: 145, Loss: 0.420\n"
     ]
    },
    {
     "data": {
      "application/vnd.jupyter.widget-view+json": {
       "model_id": "fce3f1e06e2b4d47969f3d1325830424",
       "version_major": 2,
       "version_minor": 0
      },
      "text/plain": [
       "Training epoch 146:   0%|          | 0/307 [00:00<?, ?it/s]"
      ]
     },
     "metadata": {},
     "output_type": "display_data"
    },
    {
     "name": "stderr",
     "output_type": "stream",
     "text": [
      "INFO:root:Validation, Epoch: 146, Loss: 0.424\n"
     ]
    },
    {
     "data": {
      "application/vnd.jupyter.widget-view+json": {
       "model_id": "c1f2a1d520cb4476916be5ecedf34d96",
       "version_major": 2,
       "version_minor": 0
      },
      "text/plain": [
       "Training epoch 147:   0%|          | 0/307 [00:00<?, ?it/s]"
      ]
     },
     "metadata": {},
     "output_type": "display_data"
    },
    {
     "name": "stderr",
     "output_type": "stream",
     "text": [
      "INFO:root:Validation, Epoch: 147, Loss: 0.404\n"
     ]
    },
    {
     "data": {
      "application/vnd.jupyter.widget-view+json": {
       "model_id": "f36ebc08885347adb8a6ff5c800bf744",
       "version_major": 2,
       "version_minor": 0
      },
      "text/plain": [
       "Training epoch 148:   0%|          | 0/307 [00:00<?, ?it/s]"
      ]
     },
     "metadata": {},
     "output_type": "display_data"
    },
    {
     "name": "stderr",
     "output_type": "stream",
     "text": [
      "INFO:root:Validation, Epoch: 148, Loss: 0.430\n"
     ]
    },
    {
     "data": {
      "application/vnd.jupyter.widget-view+json": {
       "model_id": "71412b7c9b034cd1b7311645bfdc2ccf",
       "version_major": 2,
       "version_minor": 0
      },
      "text/plain": [
       "Training epoch 149:   0%|          | 0/307 [00:00<?, ?it/s]"
      ]
     },
     "metadata": {},
     "output_type": "display_data"
    },
    {
     "name": "stderr",
     "output_type": "stream",
     "text": [
      "INFO:root:Validation, Epoch: 149, Loss: 0.416\n"
     ]
    },
    {
     "data": {
      "application/vnd.jupyter.widget-view+json": {
       "model_id": "39674c94b75145e9940bd7c0ae96405c",
       "version_major": 2,
       "version_minor": 0
      },
      "text/plain": [
       "Training epoch 150:   0%|          | 0/307 [00:00<?, ?it/s]"
      ]
     },
     "metadata": {},
     "output_type": "display_data"
    },
    {
     "name": "stderr",
     "output_type": "stream",
     "text": [
      "INFO:root:Validation, Epoch: 150, Loss: 0.420\n"
     ]
    },
    {
     "data": {
      "application/vnd.jupyter.widget-view+json": {
       "model_id": "074c633ffdb84f808373c224ed9e26e5",
       "version_major": 2,
       "version_minor": 0
      },
      "text/plain": [
       "Training epoch 151:   0%|          | 0/307 [00:00<?, ?it/s]"
      ]
     },
     "metadata": {},
     "output_type": "display_data"
    },
    {
     "name": "stderr",
     "output_type": "stream",
     "text": [
      "INFO:root:Validation, Epoch: 151, Loss: 0.443\n"
     ]
    },
    {
     "data": {
      "application/vnd.jupyter.widget-view+json": {
       "model_id": "4eba8ea46ec54d53bb9966e59a46373a",
       "version_major": 2,
       "version_minor": 0
      },
      "text/plain": [
       "Training epoch 152:   0%|          | 0/307 [00:00<?, ?it/s]"
      ]
     },
     "metadata": {},
     "output_type": "display_data"
    },
    {
     "name": "stderr",
     "output_type": "stream",
     "text": [
      "INFO:root:Validation, Epoch: 152, Loss: 0.466\n"
     ]
    },
    {
     "data": {
      "application/vnd.jupyter.widget-view+json": {
       "model_id": "be6e304dc43842e49fa15766d12a2cf2",
       "version_major": 2,
       "version_minor": 0
      },
      "text/plain": [
       "Training epoch 153:   0%|          | 0/307 [00:00<?, ?it/s]"
      ]
     },
     "metadata": {},
     "output_type": "display_data"
    },
    {
     "name": "stderr",
     "output_type": "stream",
     "text": [
      "INFO:root:Validation, Epoch: 153, Loss: 0.459\n"
     ]
    },
    {
     "data": {
      "application/vnd.jupyter.widget-view+json": {
       "model_id": "1d6246c59cf24392b323e7f8dd2d046f",
       "version_major": 2,
       "version_minor": 0
      },
      "text/plain": [
       "Training epoch 154:   0%|          | 0/307 [00:00<?, ?it/s]"
      ]
     },
     "metadata": {},
     "output_type": "display_data"
    },
    {
     "name": "stderr",
     "output_type": "stream",
     "text": [
      "INFO:root:Validation, Epoch: 154, Loss: 0.427\n"
     ]
    },
    {
     "data": {
      "application/vnd.jupyter.widget-view+json": {
       "model_id": "8c628304521c4adca93f1f5858082739",
       "version_major": 2,
       "version_minor": 0
      },
      "text/plain": [
       "Training epoch 155:   0%|          | 0/307 [00:00<?, ?it/s]"
      ]
     },
     "metadata": {},
     "output_type": "display_data"
    },
    {
     "name": "stderr",
     "output_type": "stream",
     "text": [
      "INFO:root:Validation, Epoch: 155, Loss: 0.441\n"
     ]
    },
    {
     "data": {
      "application/vnd.jupyter.widget-view+json": {
       "model_id": "6611b842ebc8462e93e35a10fb020cbd",
       "version_major": 2,
       "version_minor": 0
      },
      "text/plain": [
       "Training epoch 156:   0%|          | 0/307 [00:00<?, ?it/s]"
      ]
     },
     "metadata": {},
     "output_type": "display_data"
    },
    {
     "name": "stderr",
     "output_type": "stream",
     "text": [
      "INFO:root:Validation, Epoch: 156, Loss: 0.422\n"
     ]
    },
    {
     "data": {
      "application/vnd.jupyter.widget-view+json": {
       "model_id": "2f5c45114d81414991fe36cfb4616b4f",
       "version_major": 2,
       "version_minor": 0
      },
      "text/plain": [
       "Training epoch 157:   0%|          | 0/307 [00:00<?, ?it/s]"
      ]
     },
     "metadata": {},
     "output_type": "display_data"
    },
    {
     "name": "stderr",
     "output_type": "stream",
     "text": [
      "INFO:root:Validation, Epoch: 157, Loss: 0.438\n"
     ]
    },
    {
     "data": {
      "application/vnd.jupyter.widget-view+json": {
       "model_id": "dd6e52f7a9de4309bd4d775a471e9208",
       "version_major": 2,
       "version_minor": 0
      },
      "text/plain": [
       "Training epoch 158:   0%|          | 0/307 [00:00<?, ?it/s]"
      ]
     },
     "metadata": {},
     "output_type": "display_data"
    },
    {
     "name": "stderr",
     "output_type": "stream",
     "text": [
      "INFO:root:Validation, Epoch: 158, Loss: 0.420\n"
     ]
    },
    {
     "data": {
      "application/vnd.jupyter.widget-view+json": {
       "model_id": "ca9f75d276bc4900a5f708ee5bba2825",
       "version_major": 2,
       "version_minor": 0
      },
      "text/plain": [
       "Training epoch 159:   0%|          | 0/307 [00:00<?, ?it/s]"
      ]
     },
     "metadata": {},
     "output_type": "display_data"
    },
    {
     "name": "stderr",
     "output_type": "stream",
     "text": [
      "INFO:root:Validation, Epoch: 159, Loss: 0.423\n"
     ]
    },
    {
     "data": {
      "application/vnd.jupyter.widget-view+json": {
       "model_id": "f132e100a5224d7d9849635c1ec6cab9",
       "version_major": 2,
       "version_minor": 0
      },
      "text/plain": [
       "Training epoch 160:   0%|          | 0/307 [00:00<?, ?it/s]"
      ]
     },
     "metadata": {},
     "output_type": "display_data"
    },
    {
     "name": "stderr",
     "output_type": "stream",
     "text": [
      "INFO:root:Validation, Epoch: 160, Loss: 0.442\n"
     ]
    },
    {
     "data": {
      "application/vnd.jupyter.widget-view+json": {
       "model_id": "8e3631ee127b4b0881b354ef76f8a7d0",
       "version_major": 2,
       "version_minor": 0
      },
      "text/plain": [
       "Training epoch 161:   0%|          | 0/307 [00:00<?, ?it/s]"
      ]
     },
     "metadata": {},
     "output_type": "display_data"
    },
    {
     "name": "stderr",
     "output_type": "stream",
     "text": [
      "INFO:root:Validation, Epoch: 161, Loss: 0.453\n"
     ]
    },
    {
     "data": {
      "application/vnd.jupyter.widget-view+json": {
       "model_id": "267786b022a840689531c70f4f4f5b89",
       "version_major": 2,
       "version_minor": 0
      },
      "text/plain": [
       "Training epoch 162:   0%|          | 0/307 [00:00<?, ?it/s]"
      ]
     },
     "metadata": {},
     "output_type": "display_data"
    },
    {
     "name": "stderr",
     "output_type": "stream",
     "text": [
      "INFO:root:Validation, Epoch: 162, Loss: 0.438\n"
     ]
    },
    {
     "data": {
      "application/vnd.jupyter.widget-view+json": {
       "model_id": "b45ab309e0c34f169f545ab0761ddb1e",
       "version_major": 2,
       "version_minor": 0
      },
      "text/plain": [
       "Training epoch 163:   0%|          | 0/307 [00:00<?, ?it/s]"
      ]
     },
     "metadata": {},
     "output_type": "display_data"
    },
    {
     "name": "stderr",
     "output_type": "stream",
     "text": [
      "INFO:root:Validation, Epoch: 163, Loss: 0.443\n"
     ]
    },
    {
     "data": {
      "application/vnd.jupyter.widget-view+json": {
       "model_id": "e7021bc04e314122bf7659278ce4b746",
       "version_major": 2,
       "version_minor": 0
      },
      "text/plain": [
       "Training epoch 164:   0%|          | 0/307 [00:00<?, ?it/s]"
      ]
     },
     "metadata": {},
     "output_type": "display_data"
    },
    {
     "name": "stderr",
     "output_type": "stream",
     "text": [
      "INFO:root:Validation, Epoch: 164, Loss: 0.457\n"
     ]
    },
    {
     "data": {
      "application/vnd.jupyter.widget-view+json": {
       "model_id": "ee016d75d4b0472b82c0f1a52f21f44b",
       "version_major": 2,
       "version_minor": 0
      },
      "text/plain": [
       "Training epoch 165:   0%|          | 0/307 [00:00<?, ?it/s]"
      ]
     },
     "metadata": {},
     "output_type": "display_data"
    },
    {
     "name": "stderr",
     "output_type": "stream",
     "text": [
      "INFO:root:Validation, Epoch: 165, Loss: 0.432\n"
     ]
    },
    {
     "data": {
      "application/vnd.jupyter.widget-view+json": {
       "model_id": "23e3c2fd8c1046fb8826621e3aad5ee7",
       "version_major": 2,
       "version_minor": 0
      },
      "text/plain": [
       "Training epoch 166:   0%|          | 0/307 [00:00<?, ?it/s]"
      ]
     },
     "metadata": {},
     "output_type": "display_data"
    },
    {
     "name": "stderr",
     "output_type": "stream",
     "text": [
      "INFO:root:Validation, Epoch: 166, Loss: 0.442\n"
     ]
    },
    {
     "data": {
      "application/vnd.jupyter.widget-view+json": {
       "model_id": "b9840597f2f14b07b5e182114f6cff42",
       "version_major": 2,
       "version_minor": 0
      },
      "text/plain": [
       "Training epoch 167:   0%|          | 0/307 [00:00<?, ?it/s]"
      ]
     },
     "metadata": {},
     "output_type": "display_data"
    },
    {
     "name": "stderr",
     "output_type": "stream",
     "text": [
      "INFO:root:Validation, Epoch: 167, Loss: 0.430\n"
     ]
    },
    {
     "data": {
      "application/vnd.jupyter.widget-view+json": {
       "model_id": "a9333ab216c94017b933726a17f71c0c",
       "version_major": 2,
       "version_minor": 0
      },
      "text/plain": [
       "Training epoch 168:   0%|          | 0/307 [00:00<?, ?it/s]"
      ]
     },
     "metadata": {},
     "output_type": "display_data"
    },
    {
     "name": "stderr",
     "output_type": "stream",
     "text": [
      "INFO:root:Validation, Epoch: 168, Loss: 0.466\n"
     ]
    },
    {
     "data": {
      "application/vnd.jupyter.widget-view+json": {
       "model_id": "7f3cec457aa240499e82304fdf2b048d",
       "version_major": 2,
       "version_minor": 0
      },
      "text/plain": [
       "Training epoch 169:   0%|          | 0/307 [00:00<?, ?it/s]"
      ]
     },
     "metadata": {},
     "output_type": "display_data"
    },
    {
     "name": "stderr",
     "output_type": "stream",
     "text": [
      "INFO:root:Validation, Epoch: 169, Loss: 0.430\n"
     ]
    },
    {
     "data": {
      "application/vnd.jupyter.widget-view+json": {
       "model_id": "2402730571fa4f4c8822de042f4b41ef",
       "version_major": 2,
       "version_minor": 0
      },
      "text/plain": [
       "Training epoch 170:   0%|          | 0/307 [00:00<?, ?it/s]"
      ]
     },
     "metadata": {},
     "output_type": "display_data"
    },
    {
     "name": "stderr",
     "output_type": "stream",
     "text": [
      "INFO:root:Validation, Epoch: 170, Loss: 0.434\n"
     ]
    },
    {
     "data": {
      "application/vnd.jupyter.widget-view+json": {
       "model_id": "e3521a5b37c849b08a2c703752136036",
       "version_major": 2,
       "version_minor": 0
      },
      "text/plain": [
       "Training epoch 171:   0%|          | 0/307 [00:00<?, ?it/s]"
      ]
     },
     "metadata": {},
     "output_type": "display_data"
    },
    {
     "name": "stderr",
     "output_type": "stream",
     "text": [
      "INFO:root:Validation, Epoch: 171, Loss: 0.445\n"
     ]
    },
    {
     "data": {
      "application/vnd.jupyter.widget-view+json": {
       "model_id": "cedbf02b860b44c4ba187b4822881519",
       "version_major": 2,
       "version_minor": 0
      },
      "text/plain": [
       "Training epoch 172:   0%|          | 0/307 [00:00<?, ?it/s]"
      ]
     },
     "metadata": {},
     "output_type": "display_data"
    },
    {
     "name": "stderr",
     "output_type": "stream",
     "text": [
      "INFO:root:Validation, Epoch: 172, Loss: 0.463\n"
     ]
    },
    {
     "data": {
      "application/vnd.jupyter.widget-view+json": {
       "model_id": "dbd78824b4254045a4a2fb4f08238cc2",
       "version_major": 2,
       "version_minor": 0
      },
      "text/plain": [
       "Training epoch 173:   0%|          | 0/307 [00:00<?, ?it/s]"
      ]
     },
     "metadata": {},
     "output_type": "display_data"
    },
    {
     "name": "stderr",
     "output_type": "stream",
     "text": [
      "INFO:root:Validation, Epoch: 173, Loss: 0.411\n"
     ]
    },
    {
     "data": {
      "application/vnd.jupyter.widget-view+json": {
       "model_id": "bbfb93c597ba426b866de3108aba3d3d",
       "version_major": 2,
       "version_minor": 0
      },
      "text/plain": [
       "Training epoch 174:   0%|          | 0/307 [00:00<?, ?it/s]"
      ]
     },
     "metadata": {},
     "output_type": "display_data"
    },
    {
     "name": "stderr",
     "output_type": "stream",
     "text": [
      "INFO:root:Validation, Epoch: 174, Loss: 0.422\n"
     ]
    },
    {
     "data": {
      "application/vnd.jupyter.widget-view+json": {
       "model_id": "cd2a9a1c179f4845b274669df745d5b9",
       "version_major": 2,
       "version_minor": 0
      },
      "text/plain": [
       "Training epoch 175:   0%|          | 0/307 [00:00<?, ?it/s]"
      ]
     },
     "metadata": {},
     "output_type": "display_data"
    },
    {
     "name": "stderr",
     "output_type": "stream",
     "text": [
      "INFO:root:Validation, Epoch: 175, Loss: 0.444\n"
     ]
    },
    {
     "data": {
      "application/vnd.jupyter.widget-view+json": {
       "model_id": "df76f59d8862476abb649991ceeceef9",
       "version_major": 2,
       "version_minor": 0
      },
      "text/plain": [
       "Training epoch 176:   0%|          | 0/307 [00:00<?, ?it/s]"
      ]
     },
     "metadata": {},
     "output_type": "display_data"
    },
    {
     "name": "stderr",
     "output_type": "stream",
     "text": [
      "INFO:root:Validation, Epoch: 176, Loss: 0.452\n"
     ]
    },
    {
     "data": {
      "application/vnd.jupyter.widget-view+json": {
       "model_id": "0c4a977b1237486e9d350a18f2b33a6d",
       "version_major": 2,
       "version_minor": 0
      },
      "text/plain": [
       "Training epoch 177:   0%|          | 0/307 [00:00<?, ?it/s]"
      ]
     },
     "metadata": {},
     "output_type": "display_data"
    },
    {
     "name": "stderr",
     "output_type": "stream",
     "text": [
      "INFO:root:Validation, Epoch: 177, Loss: 0.432\n"
     ]
    },
    {
     "data": {
      "application/vnd.jupyter.widget-view+json": {
       "model_id": "29652b351d72440d8f184f7d85966a79",
       "version_major": 2,
       "version_minor": 0
      },
      "text/plain": [
       "Training epoch 178:   0%|          | 0/307 [00:00<?, ?it/s]"
      ]
     },
     "metadata": {},
     "output_type": "display_data"
    },
    {
     "name": "stderr",
     "output_type": "stream",
     "text": [
      "INFO:root:Validation, Epoch: 178, Loss: 0.430\n"
     ]
    },
    {
     "data": {
      "application/vnd.jupyter.widget-view+json": {
       "model_id": "2b38a4ab72134104bc6b740380dcab11",
       "version_major": 2,
       "version_minor": 0
      },
      "text/plain": [
       "Training epoch 179:   0%|          | 0/307 [00:00<?, ?it/s]"
      ]
     },
     "metadata": {},
     "output_type": "display_data"
    },
    {
     "name": "stderr",
     "output_type": "stream",
     "text": [
      "INFO:root:Validation, Epoch: 179, Loss: 0.434\n"
     ]
    },
    {
     "data": {
      "application/vnd.jupyter.widget-view+json": {
       "model_id": "42d4c3e1b898454fadbf761e753b8c5d",
       "version_major": 2,
       "version_minor": 0
      },
      "text/plain": [
       "Training epoch 180:   0%|          | 0/307 [00:00<?, ?it/s]"
      ]
     },
     "metadata": {},
     "output_type": "display_data"
    },
    {
     "name": "stderr",
     "output_type": "stream",
     "text": [
      "INFO:root:Validation, Epoch: 180, Loss: 0.438\n"
     ]
    },
    {
     "data": {
      "application/vnd.jupyter.widget-view+json": {
       "model_id": "08009bb5e7ae46d09ae22c61865ca3d1",
       "version_major": 2,
       "version_minor": 0
      },
      "text/plain": [
       "Training epoch 181:   0%|          | 0/307 [00:00<?, ?it/s]"
      ]
     },
     "metadata": {},
     "output_type": "display_data"
    },
    {
     "name": "stderr",
     "output_type": "stream",
     "text": [
      "INFO:root:Validation, Epoch: 181, Loss: 0.418\n"
     ]
    },
    {
     "data": {
      "application/vnd.jupyter.widget-view+json": {
       "model_id": "079152c00e304228af8cc4cd77b1f95c",
       "version_major": 2,
       "version_minor": 0
      },
      "text/plain": [
       "Training epoch 182:   0%|          | 0/307 [00:00<?, ?it/s]"
      ]
     },
     "metadata": {},
     "output_type": "display_data"
    },
    {
     "name": "stderr",
     "output_type": "stream",
     "text": [
      "INFO:root:Validation, Epoch: 182, Loss: 0.421\n"
     ]
    },
    {
     "data": {
      "application/vnd.jupyter.widget-view+json": {
       "model_id": "fb2b973f6ef043fca92122c65582e1ce",
       "version_major": 2,
       "version_minor": 0
      },
      "text/plain": [
       "Training epoch 183:   0%|          | 0/307 [00:00<?, ?it/s]"
      ]
     },
     "metadata": {},
     "output_type": "display_data"
    },
    {
     "name": "stderr",
     "output_type": "stream",
     "text": [
      "INFO:root:Validation, Epoch: 183, Loss: 0.452\n"
     ]
    },
    {
     "data": {
      "application/vnd.jupyter.widget-view+json": {
       "model_id": "fb09cfdf8717445a8e2c1d916611c347",
       "version_major": 2,
       "version_minor": 0
      },
      "text/plain": [
       "Training epoch 184:   0%|          | 0/307 [00:00<?, ?it/s]"
      ]
     },
     "metadata": {},
     "output_type": "display_data"
    },
    {
     "name": "stderr",
     "output_type": "stream",
     "text": [
      "INFO:root:Validation, Epoch: 184, Loss: 0.432\n"
     ]
    },
    {
     "data": {
      "application/vnd.jupyter.widget-view+json": {
       "model_id": "9b5a314529bb45cba729552fd0c68c2d",
       "version_major": 2,
       "version_minor": 0
      },
      "text/plain": [
       "Training epoch 185:   0%|          | 0/307 [00:00<?, ?it/s]"
      ]
     },
     "metadata": {},
     "output_type": "display_data"
    },
    {
     "name": "stderr",
     "output_type": "stream",
     "text": [
      "INFO:root:Validation, Epoch: 185, Loss: 0.444\n"
     ]
    },
    {
     "data": {
      "application/vnd.jupyter.widget-view+json": {
       "model_id": "4893a429db5c41368ea020f740dbee3e",
       "version_major": 2,
       "version_minor": 0
      },
      "text/plain": [
       "Training epoch 186:   0%|          | 0/307 [00:00<?, ?it/s]"
      ]
     },
     "metadata": {},
     "output_type": "display_data"
    },
    {
     "name": "stderr",
     "output_type": "stream",
     "text": [
      "INFO:root:Validation, Epoch: 186, Loss: 0.456\n"
     ]
    },
    {
     "data": {
      "application/vnd.jupyter.widget-view+json": {
       "model_id": "a073f214d55e44e199f1c6892861e4f0",
       "version_major": 2,
       "version_minor": 0
      },
      "text/plain": [
       "Training epoch 187:   0%|          | 0/307 [00:00<?, ?it/s]"
      ]
     },
     "metadata": {},
     "output_type": "display_data"
    },
    {
     "name": "stderr",
     "output_type": "stream",
     "text": [
      "INFO:root:Validation, Epoch: 187, Loss: 0.423\n"
     ]
    },
    {
     "data": {
      "application/vnd.jupyter.widget-view+json": {
       "model_id": "7e65a6f068be48769dee30f8d3e40af3",
       "version_major": 2,
       "version_minor": 0
      },
      "text/plain": [
       "Training epoch 188:   0%|          | 0/307 [00:00<?, ?it/s]"
      ]
     },
     "metadata": {},
     "output_type": "display_data"
    },
    {
     "name": "stderr",
     "output_type": "stream",
     "text": [
      "INFO:root:Validation, Epoch: 188, Loss: 0.428\n"
     ]
    },
    {
     "data": {
      "application/vnd.jupyter.widget-view+json": {
       "model_id": "46927f158896482a935003aff20f4f08",
       "version_major": 2,
       "version_minor": 0
      },
      "text/plain": [
       "Training epoch 189:   0%|          | 0/307 [00:00<?, ?it/s]"
      ]
     },
     "metadata": {},
     "output_type": "display_data"
    },
    {
     "name": "stderr",
     "output_type": "stream",
     "text": [
      "INFO:root:Validation, Epoch: 189, Loss: 0.410\n"
     ]
    },
    {
     "data": {
      "application/vnd.jupyter.widget-view+json": {
       "model_id": "0d9a9c006af84a5b94895dd946fe8cde",
       "version_major": 2,
       "version_minor": 0
      },
      "text/plain": [
       "Training epoch 190:   0%|          | 0/307 [00:00<?, ?it/s]"
      ]
     },
     "metadata": {},
     "output_type": "display_data"
    },
    {
     "name": "stderr",
     "output_type": "stream",
     "text": [
      "INFO:root:Validation, Epoch: 190, Loss: 0.432\n"
     ]
    },
    {
     "data": {
      "application/vnd.jupyter.widget-view+json": {
       "model_id": "ebb7c93c0a0e4ba2a47a559d4345a958",
       "version_major": 2,
       "version_minor": 0
      },
      "text/plain": [
       "Training epoch 191:   0%|          | 0/307 [00:00<?, ?it/s]"
      ]
     },
     "metadata": {},
     "output_type": "display_data"
    },
    {
     "name": "stderr",
     "output_type": "stream",
     "text": [
      "INFO:root:Validation, Epoch: 191, Loss: 0.432\n"
     ]
    },
    {
     "data": {
      "application/vnd.jupyter.widget-view+json": {
       "model_id": "5e5d8ebba332483f9d06c89da1bde01e",
       "version_major": 2,
       "version_minor": 0
      },
      "text/plain": [
       "Training epoch 192:   0%|          | 0/307 [00:00<?, ?it/s]"
      ]
     },
     "metadata": {},
     "output_type": "display_data"
    },
    {
     "name": "stderr",
     "output_type": "stream",
     "text": [
      "INFO:root:Validation, Epoch: 192, Loss: 0.448\n"
     ]
    },
    {
     "data": {
      "application/vnd.jupyter.widget-view+json": {
       "model_id": "9d9bc1226a93471188295b7cd5bcd1eb",
       "version_major": 2,
       "version_minor": 0
      },
      "text/plain": [
       "Training epoch 193:   0%|          | 0/307 [00:00<?, ?it/s]"
      ]
     },
     "metadata": {},
     "output_type": "display_data"
    },
    {
     "name": "stderr",
     "output_type": "stream",
     "text": [
      "INFO:root:Validation, Epoch: 193, Loss: 0.446\n"
     ]
    },
    {
     "data": {
      "application/vnd.jupyter.widget-view+json": {
       "model_id": "0220f09ab87940b59bfc64ab1c474e3b",
       "version_major": 2,
       "version_minor": 0
      },
      "text/plain": [
       "Training epoch 194:   0%|          | 0/307 [00:00<?, ?it/s]"
      ]
     },
     "metadata": {},
     "output_type": "display_data"
    },
    {
     "name": "stderr",
     "output_type": "stream",
     "text": [
      "INFO:root:Validation, Epoch: 194, Loss: 0.434\n"
     ]
    },
    {
     "data": {
      "application/vnd.jupyter.widget-view+json": {
       "model_id": "f96aea1e39034a11a75e3dfa3ba05c77",
       "version_major": 2,
       "version_minor": 0
      },
      "text/plain": [
       "Training epoch 195:   0%|          | 0/307 [00:00<?, ?it/s]"
      ]
     },
     "metadata": {},
     "output_type": "display_data"
    },
    {
     "name": "stderr",
     "output_type": "stream",
     "text": [
      "INFO:root:Validation, Epoch: 195, Loss: 0.425\n"
     ]
    },
    {
     "data": {
      "application/vnd.jupyter.widget-view+json": {
       "model_id": "9e8255e1172e47f780348b9e2bb65f5d",
       "version_major": 2,
       "version_minor": 0
      },
      "text/plain": [
       "Training epoch 196:   0%|          | 0/307 [00:00<?, ?it/s]"
      ]
     },
     "metadata": {},
     "output_type": "display_data"
    },
    {
     "name": "stderr",
     "output_type": "stream",
     "text": [
      "INFO:root:Validation, Epoch: 196, Loss: 0.438\n"
     ]
    },
    {
     "data": {
      "application/vnd.jupyter.widget-view+json": {
       "model_id": "46148c157d414d40b298db376eaaca33",
       "version_major": 2,
       "version_minor": 0
      },
      "text/plain": [
       "Training epoch 197:   0%|          | 0/307 [00:00<?, ?it/s]"
      ]
     },
     "metadata": {},
     "output_type": "display_data"
    },
    {
     "name": "stderr",
     "output_type": "stream",
     "text": [
      "INFO:root:Validation, Epoch: 197, Loss: 0.452\n"
     ]
    },
    {
     "data": {
      "application/vnd.jupyter.widget-view+json": {
       "model_id": "6e7abf9ef2374ade839ec899bc651d72",
       "version_major": 2,
       "version_minor": 0
      },
      "text/plain": [
       "Training epoch 198:   0%|          | 0/307 [00:00<?, ?it/s]"
      ]
     },
     "metadata": {},
     "output_type": "display_data"
    },
    {
     "name": "stderr",
     "output_type": "stream",
     "text": [
      "INFO:root:Validation, Epoch: 198, Loss: 0.431\n"
     ]
    },
    {
     "data": {
      "application/vnd.jupyter.widget-view+json": {
       "model_id": "ddb86ecc985741d1851bdc04fcea392b",
       "version_major": 2,
       "version_minor": 0
      },
      "text/plain": [
       "Training epoch 199:   0%|          | 0/307 [00:00<?, ?it/s]"
      ]
     },
     "metadata": {},
     "output_type": "display_data"
    },
    {
     "name": "stderr",
     "output_type": "stream",
     "text": [
      "INFO:root:Validation, Epoch: 199, Loss: 0.439\n"
     ]
    },
    {
     "data": {
      "application/vnd.jupyter.widget-view+json": {
       "model_id": "59f4e5bdc15c49caae753fae4666f75e",
       "version_major": 2,
       "version_minor": 0
      },
      "text/plain": [
       "Training epoch 200:   0%|          | 0/307 [00:00<?, ?it/s]"
      ]
     },
     "metadata": {},
     "output_type": "display_data"
    },
    {
     "name": "stderr",
     "output_type": "stream",
     "text": [
      "INFO:root:Validation, Epoch: 200, Loss: 0.438\n"
     ]
    },
    {
     "data": {
      "application/vnd.jupyter.widget-view+json": {
       "model_id": "30cffca481ba416abbdc3492f28e34d7",
       "version_major": 2,
       "version_minor": 0
      },
      "text/plain": [
       "Training epoch 201:   0%|          | 0/307 [00:00<?, ?it/s]"
      ]
     },
     "metadata": {},
     "output_type": "display_data"
    },
    {
     "name": "stderr",
     "output_type": "stream",
     "text": [
      "INFO:root:Validation, Epoch: 201, Loss: 0.442\n"
     ]
    },
    {
     "data": {
      "application/vnd.jupyter.widget-view+json": {
       "model_id": "16bf4ab312624952bef8de2cc8c31d80",
       "version_major": 2,
       "version_minor": 0
      },
      "text/plain": [
       "Training epoch 202:   0%|          | 0/307 [00:00<?, ?it/s]"
      ]
     },
     "metadata": {},
     "output_type": "display_data"
    },
    {
     "name": "stderr",
     "output_type": "stream",
     "text": [
      "INFO:root:Validation, Epoch: 202, Loss: 0.423\n"
     ]
    },
    {
     "data": {
      "application/vnd.jupyter.widget-view+json": {
       "model_id": "87bf98d4591d486e910ac82d172fb1ea",
       "version_major": 2,
       "version_minor": 0
      },
      "text/plain": [
       "Training epoch 203:   0%|          | 0/307 [00:00<?, ?it/s]"
      ]
     },
     "metadata": {},
     "output_type": "display_data"
    },
    {
     "name": "stderr",
     "output_type": "stream",
     "text": [
      "INFO:root:Validation, Epoch: 203, Loss: 0.444\n"
     ]
    },
    {
     "data": {
      "application/vnd.jupyter.widget-view+json": {
       "model_id": "ea152f1c849b4d68a252137a684de451",
       "version_major": 2,
       "version_minor": 0
      },
      "text/plain": [
       "Training epoch 204:   0%|          | 0/307 [00:00<?, ?it/s]"
      ]
     },
     "metadata": {},
     "output_type": "display_data"
    },
    {
     "name": "stderr",
     "output_type": "stream",
     "text": [
      "INFO:root:Validation, Epoch: 204, Loss: 0.430\n"
     ]
    },
    {
     "data": {
      "application/vnd.jupyter.widget-view+json": {
       "model_id": "0e2ae7c07fa2454986f7d5f9f73e9009",
       "version_major": 2,
       "version_minor": 0
      },
      "text/plain": [
       "Training epoch 205:   0%|          | 0/307 [00:00<?, ?it/s]"
      ]
     },
     "metadata": {},
     "output_type": "display_data"
    },
    {
     "name": "stderr",
     "output_type": "stream",
     "text": [
      "INFO:root:Validation, Epoch: 205, Loss: 0.446\n"
     ]
    },
    {
     "data": {
      "application/vnd.jupyter.widget-view+json": {
       "model_id": "b30c9fc6bfab4a4984be1b3eaa76c1cf",
       "version_major": 2,
       "version_minor": 0
      },
      "text/plain": [
       "Training epoch 206:   0%|          | 0/307 [00:00<?, ?it/s]"
      ]
     },
     "metadata": {},
     "output_type": "display_data"
    },
    {
     "name": "stderr",
     "output_type": "stream",
     "text": [
      "INFO:root:Validation, Epoch: 206, Loss: 0.444\n"
     ]
    },
    {
     "data": {
      "application/vnd.jupyter.widget-view+json": {
       "model_id": "1027231f12944f2baefb2875ef59e8d5",
       "version_major": 2,
       "version_minor": 0
      },
      "text/plain": [
       "Training epoch 207:   0%|          | 0/307 [00:00<?, ?it/s]"
      ]
     },
     "metadata": {},
     "output_type": "display_data"
    },
    {
     "name": "stderr",
     "output_type": "stream",
     "text": [
      "INFO:root:Validation, Epoch: 207, Loss: 0.435\n"
     ]
    },
    {
     "data": {
      "application/vnd.jupyter.widget-view+json": {
       "model_id": "c27b9800037941a69e960cce5f662705",
       "version_major": 2,
       "version_minor": 0
      },
      "text/plain": [
       "Training epoch 208:   0%|          | 0/307 [00:00<?, ?it/s]"
      ]
     },
     "metadata": {},
     "output_type": "display_data"
    },
    {
     "name": "stderr",
     "output_type": "stream",
     "text": [
      "INFO:root:Validation, Epoch: 208, Loss: 0.453\n"
     ]
    },
    {
     "data": {
      "application/vnd.jupyter.widget-view+json": {
       "model_id": "bbd630506357488aae954f796731cb3f",
       "version_major": 2,
       "version_minor": 0
      },
      "text/plain": [
       "Training epoch 209:   0%|          | 0/307 [00:00<?, ?it/s]"
      ]
     },
     "metadata": {},
     "output_type": "display_data"
    },
    {
     "name": "stderr",
     "output_type": "stream",
     "text": [
      "INFO:root:Validation, Epoch: 209, Loss: 0.438\n"
     ]
    },
    {
     "data": {
      "application/vnd.jupyter.widget-view+json": {
       "model_id": "a89442e4f28b44ee95f54bbb9162e7fc",
       "version_major": 2,
       "version_minor": 0
      },
      "text/plain": [
       "Training epoch 210:   0%|          | 0/307 [00:00<?, ?it/s]"
      ]
     },
     "metadata": {},
     "output_type": "display_data"
    },
    {
     "name": "stderr",
     "output_type": "stream",
     "text": [
      "INFO:root:Validation, Epoch: 210, Loss: 0.434\n"
     ]
    },
    {
     "data": {
      "application/vnd.jupyter.widget-view+json": {
       "model_id": "a5e7aa33783240929476c812f69a2bf8",
       "version_major": 2,
       "version_minor": 0
      },
      "text/plain": [
       "Training epoch 211:   0%|          | 0/307 [00:00<?, ?it/s]"
      ]
     },
     "metadata": {},
     "output_type": "display_data"
    },
    {
     "name": "stderr",
     "output_type": "stream",
     "text": [
      "INFO:root:Validation, Epoch: 211, Loss: 0.419\n"
     ]
    },
    {
     "data": {
      "application/vnd.jupyter.widget-view+json": {
       "model_id": "ebeb843bcbd543058a8b0bb30a043033",
       "version_major": 2,
       "version_minor": 0
      },
      "text/plain": [
       "Training epoch 212:   0%|          | 0/307 [00:00<?, ?it/s]"
      ]
     },
     "metadata": {},
     "output_type": "display_data"
    },
    {
     "name": "stderr",
     "output_type": "stream",
     "text": [
      "INFO:root:Validation, Epoch: 212, Loss: 0.425\n"
     ]
    },
    {
     "data": {
      "application/vnd.jupyter.widget-view+json": {
       "model_id": "28630e7f101d47e0a37112de0d5b21c7",
       "version_major": 2,
       "version_minor": 0
      },
      "text/plain": [
       "Training epoch 213:   0%|          | 0/307 [00:00<?, ?it/s]"
      ]
     },
     "metadata": {},
     "output_type": "display_data"
    },
    {
     "name": "stderr",
     "output_type": "stream",
     "text": [
      "INFO:root:Validation, Epoch: 213, Loss: 0.404\n"
     ]
    },
    {
     "data": {
      "application/vnd.jupyter.widget-view+json": {
       "model_id": "d2929a2eb5e14b02a762c1c8680f0a35",
       "version_major": 2,
       "version_minor": 0
      },
      "text/plain": [
       "Training epoch 214:   0%|          | 0/307 [00:00<?, ?it/s]"
      ]
     },
     "metadata": {},
     "output_type": "display_data"
    },
    {
     "name": "stderr",
     "output_type": "stream",
     "text": [
      "INFO:root:Validation, Epoch: 214, Loss: 0.446\n"
     ]
    },
    {
     "data": {
      "application/vnd.jupyter.widget-view+json": {
       "model_id": "72385c821b354af79947df5bdec09656",
       "version_major": 2,
       "version_minor": 0
      },
      "text/plain": [
       "Training epoch 215:   0%|          | 0/307 [00:00<?, ?it/s]"
      ]
     },
     "metadata": {},
     "output_type": "display_data"
    },
    {
     "name": "stderr",
     "output_type": "stream",
     "text": [
      "INFO:root:Validation, Epoch: 215, Loss: 0.409\n"
     ]
    },
    {
     "data": {
      "application/vnd.jupyter.widget-view+json": {
       "model_id": "f59952d464454c558bb5b99361c84d39",
       "version_major": 2,
       "version_minor": 0
      },
      "text/plain": [
       "Training epoch 216:   0%|          | 0/307 [00:00<?, ?it/s]"
      ]
     },
     "metadata": {},
     "output_type": "display_data"
    },
    {
     "name": "stderr",
     "output_type": "stream",
     "text": [
      "INFO:root:Validation, Epoch: 216, Loss: 0.419\n"
     ]
    },
    {
     "data": {
      "application/vnd.jupyter.widget-view+json": {
       "model_id": "12d239ca682f40858a96f7670bed6a61",
       "version_major": 2,
       "version_minor": 0
      },
      "text/plain": [
       "Training epoch 217:   0%|          | 0/307 [00:00<?, ?it/s]"
      ]
     },
     "metadata": {},
     "output_type": "display_data"
    },
    {
     "name": "stderr",
     "output_type": "stream",
     "text": [
      "INFO:root:Validation, Epoch: 217, Loss: 0.432\n"
     ]
    },
    {
     "data": {
      "application/vnd.jupyter.widget-view+json": {
       "model_id": "4e261694e37246bca38cd8c970427f89",
       "version_major": 2,
       "version_minor": 0
      },
      "text/plain": [
       "Training epoch 218:   0%|          | 0/307 [00:00<?, ?it/s]"
      ]
     },
     "metadata": {},
     "output_type": "display_data"
    },
    {
     "name": "stderr",
     "output_type": "stream",
     "text": [
      "INFO:root:Validation, Epoch: 218, Loss: 0.423\n"
     ]
    },
    {
     "data": {
      "application/vnd.jupyter.widget-view+json": {
       "model_id": "01af3d13637d4928a7117a42b40a8ff5",
       "version_major": 2,
       "version_minor": 0
      },
      "text/plain": [
       "Training epoch 219:   0%|          | 0/307 [00:00<?, ?it/s]"
      ]
     },
     "metadata": {},
     "output_type": "display_data"
    },
    {
     "name": "stderr",
     "output_type": "stream",
     "text": [
      "INFO:root:Validation, Epoch: 219, Loss: 0.425\n"
     ]
    },
    {
     "data": {
      "application/vnd.jupyter.widget-view+json": {
       "model_id": "b25ec4f88c254188afc6632ffc0ce2b0",
       "version_major": 2,
       "version_minor": 0
      },
      "text/plain": [
       "Training epoch 220:   0%|          | 0/307 [00:00<?, ?it/s]"
      ]
     },
     "metadata": {},
     "output_type": "display_data"
    },
    {
     "name": "stderr",
     "output_type": "stream",
     "text": [
      "INFO:root:Validation, Epoch: 220, Loss: 0.423\n"
     ]
    },
    {
     "data": {
      "application/vnd.jupyter.widget-view+json": {
       "model_id": "66a9ae3a11184db4ad7262bcdadca4c7",
       "version_major": 2,
       "version_minor": 0
      },
      "text/plain": [
       "Training epoch 221:   0%|          | 0/307 [00:00<?, ?it/s]"
      ]
     },
     "metadata": {},
     "output_type": "display_data"
    },
    {
     "name": "stderr",
     "output_type": "stream",
     "text": [
      "INFO:root:Validation, Epoch: 221, Loss: 0.444\n"
     ]
    },
    {
     "data": {
      "application/vnd.jupyter.widget-view+json": {
       "model_id": "5b9aea2045d748bf9f3c11df48788762",
       "version_major": 2,
       "version_minor": 0
      },
      "text/plain": [
       "Training epoch 222:   0%|          | 0/307 [00:00<?, ?it/s]"
      ]
     },
     "metadata": {},
     "output_type": "display_data"
    },
    {
     "name": "stderr",
     "output_type": "stream",
     "text": [
      "INFO:root:Validation, Epoch: 222, Loss: 0.426\n"
     ]
    },
    {
     "data": {
      "application/vnd.jupyter.widget-view+json": {
       "model_id": "1c0225c5e83d47a49d1c38c2fa0de0fb",
       "version_major": 2,
       "version_minor": 0
      },
      "text/plain": [
       "Training epoch 223:   0%|          | 0/307 [00:00<?, ?it/s]"
      ]
     },
     "metadata": {},
     "output_type": "display_data"
    },
    {
     "name": "stderr",
     "output_type": "stream",
     "text": [
      "INFO:root:Validation, Epoch: 223, Loss: 0.439\n"
     ]
    },
    {
     "data": {
      "application/vnd.jupyter.widget-view+json": {
       "model_id": "b3e0fb90fd2741828c4b316307c03786",
       "version_major": 2,
       "version_minor": 0
      },
      "text/plain": [
       "Training epoch 224:   0%|          | 0/307 [00:00<?, ?it/s]"
      ]
     },
     "metadata": {},
     "output_type": "display_data"
    },
    {
     "name": "stderr",
     "output_type": "stream",
     "text": [
      "INFO:root:Validation, Epoch: 224, Loss: 0.424\n"
     ]
    },
    {
     "data": {
      "application/vnd.jupyter.widget-view+json": {
       "model_id": "5de13e7d49db49be85723e1f585136e9",
       "version_major": 2,
       "version_minor": 0
      },
      "text/plain": [
       "Training epoch 225:   0%|          | 0/307 [00:00<?, ?it/s]"
      ]
     },
     "metadata": {},
     "output_type": "display_data"
    },
    {
     "name": "stderr",
     "output_type": "stream",
     "text": [
      "INFO:root:Validation, Epoch: 225, Loss: 0.423\n"
     ]
    },
    {
     "data": {
      "application/vnd.jupyter.widget-view+json": {
       "model_id": "a1ce53eb736e4c90b3b68ca22a7d98c9",
       "version_major": 2,
       "version_minor": 0
      },
      "text/plain": [
       "Training epoch 226:   0%|          | 0/307 [00:00<?, ?it/s]"
      ]
     },
     "metadata": {},
     "output_type": "display_data"
    },
    {
     "name": "stderr",
     "output_type": "stream",
     "text": [
      "INFO:root:Validation, Epoch: 226, Loss: 0.434\n"
     ]
    },
    {
     "data": {
      "application/vnd.jupyter.widget-view+json": {
       "model_id": "d88ff08d055e421686fd32b6b101d2bb",
       "version_major": 2,
       "version_minor": 0
      },
      "text/plain": [
       "Training epoch 227:   0%|          | 0/307 [00:00<?, ?it/s]"
      ]
     },
     "metadata": {},
     "output_type": "display_data"
    },
    {
     "name": "stderr",
     "output_type": "stream",
     "text": [
      "INFO:root:Validation, Epoch: 227, Loss: 0.436\n"
     ]
    },
    {
     "data": {
      "application/vnd.jupyter.widget-view+json": {
       "model_id": "d97d0c28bbe84707b19984b05115c98f",
       "version_major": 2,
       "version_minor": 0
      },
      "text/plain": [
       "Training epoch 228:   0%|          | 0/307 [00:00<?, ?it/s]"
      ]
     },
     "metadata": {},
     "output_type": "display_data"
    },
    {
     "name": "stderr",
     "output_type": "stream",
     "text": [
      "INFO:root:Validation, Epoch: 228, Loss: 0.449\n"
     ]
    },
    {
     "data": {
      "application/vnd.jupyter.widget-view+json": {
       "model_id": "c84a17be0c1548aea863ddf8e09c2f47",
       "version_major": 2,
       "version_minor": 0
      },
      "text/plain": [
       "Training epoch 229:   0%|          | 0/307 [00:00<?, ?it/s]"
      ]
     },
     "metadata": {},
     "output_type": "display_data"
    },
    {
     "name": "stderr",
     "output_type": "stream",
     "text": [
      "INFO:root:Validation, Epoch: 229, Loss: 0.441\n"
     ]
    },
    {
     "data": {
      "application/vnd.jupyter.widget-view+json": {
       "model_id": "5c6b32e970e3448688b78aa7fd629a01",
       "version_major": 2,
       "version_minor": 0
      },
      "text/plain": [
       "Training epoch 230:   0%|          | 0/307 [00:00<?, ?it/s]"
      ]
     },
     "metadata": {},
     "output_type": "display_data"
    },
    {
     "name": "stderr",
     "output_type": "stream",
     "text": [
      "INFO:root:Validation, Epoch: 230, Loss: 0.446\n"
     ]
    },
    {
     "data": {
      "application/vnd.jupyter.widget-view+json": {
       "model_id": "225f423cc2b64f21983317673aa0dc3e",
       "version_major": 2,
       "version_minor": 0
      },
      "text/plain": [
       "Training epoch 231:   0%|          | 0/307 [00:00<?, ?it/s]"
      ]
     },
     "metadata": {},
     "output_type": "display_data"
    },
    {
     "name": "stderr",
     "output_type": "stream",
     "text": [
      "INFO:root:Validation, Epoch: 231, Loss: 0.424\n"
     ]
    },
    {
     "data": {
      "application/vnd.jupyter.widget-view+json": {
       "model_id": "21b1bf1091de495193b4f325d86a5ce0",
       "version_major": 2,
       "version_minor": 0
      },
      "text/plain": [
       "Training epoch 232:   0%|          | 0/307 [00:00<?, ?it/s]"
      ]
     },
     "metadata": {},
     "output_type": "display_data"
    },
    {
     "name": "stderr",
     "output_type": "stream",
     "text": [
      "INFO:root:Validation, Epoch: 232, Loss: 0.451\n"
     ]
    },
    {
     "data": {
      "application/vnd.jupyter.widget-view+json": {
       "model_id": "d426cfdfa48d4c33b6078c4ae06f2650",
       "version_major": 2,
       "version_minor": 0
      },
      "text/plain": [
       "Training epoch 233:   0%|          | 0/307 [00:00<?, ?it/s]"
      ]
     },
     "metadata": {},
     "output_type": "display_data"
    },
    {
     "name": "stderr",
     "output_type": "stream",
     "text": [
      "INFO:root:Validation, Epoch: 233, Loss: 0.443\n"
     ]
    },
    {
     "data": {
      "application/vnd.jupyter.widget-view+json": {
       "model_id": "993994e6734b4aaa90bf34fb63cd8d3e",
       "version_major": 2,
       "version_minor": 0
      },
      "text/plain": [
       "Training epoch 234:   0%|          | 0/307 [00:00<?, ?it/s]"
      ]
     },
     "metadata": {},
     "output_type": "display_data"
    },
    {
     "name": "stderr",
     "output_type": "stream",
     "text": [
      "INFO:root:Validation, Epoch: 234, Loss: 0.453\n"
     ]
    },
    {
     "data": {
      "application/vnd.jupyter.widget-view+json": {
       "model_id": "485a91618563451997a556bc258dc468",
       "version_major": 2,
       "version_minor": 0
      },
      "text/plain": [
       "Training epoch 235:   0%|          | 0/307 [00:00<?, ?it/s]"
      ]
     },
     "metadata": {},
     "output_type": "display_data"
    },
    {
     "name": "stderr",
     "output_type": "stream",
     "text": [
      "INFO:root:Validation, Epoch: 235, Loss: 0.439\n"
     ]
    },
    {
     "data": {
      "application/vnd.jupyter.widget-view+json": {
       "model_id": "6ee451062479428488a25c31adbae1c3",
       "version_major": 2,
       "version_minor": 0
      },
      "text/plain": [
       "Training epoch 236:   0%|          | 0/307 [00:00<?, ?it/s]"
      ]
     },
     "metadata": {},
     "output_type": "display_data"
    },
    {
     "name": "stderr",
     "output_type": "stream",
     "text": [
      "INFO:root:Validation, Epoch: 236, Loss: 0.440\n"
     ]
    },
    {
     "data": {
      "application/vnd.jupyter.widget-view+json": {
       "model_id": "2514857148464a6bb8cc46876dbad6a5",
       "version_major": 2,
       "version_minor": 0
      },
      "text/plain": [
       "Training epoch 237:   0%|          | 0/307 [00:00<?, ?it/s]"
      ]
     },
     "metadata": {},
     "output_type": "display_data"
    },
    {
     "name": "stderr",
     "output_type": "stream",
     "text": [
      "INFO:root:Validation, Epoch: 237, Loss: 0.422\n"
     ]
    },
    {
     "data": {
      "application/vnd.jupyter.widget-view+json": {
       "model_id": "fdad67baf44b4bd591fc6baebc6decab",
       "version_major": 2,
       "version_minor": 0
      },
      "text/plain": [
       "Training epoch 238:   0%|          | 0/307 [00:00<?, ?it/s]"
      ]
     },
     "metadata": {},
     "output_type": "display_data"
    },
    {
     "name": "stderr",
     "output_type": "stream",
     "text": [
      "INFO:root:Validation, Epoch: 238, Loss: 0.436\n"
     ]
    },
    {
     "data": {
      "application/vnd.jupyter.widget-view+json": {
       "model_id": "fd2454356d284a988735c5e8de9868a3",
       "version_major": 2,
       "version_minor": 0
      },
      "text/plain": [
       "Training epoch 239:   0%|          | 0/307 [00:00<?, ?it/s]"
      ]
     },
     "metadata": {},
     "output_type": "display_data"
    },
    {
     "name": "stderr",
     "output_type": "stream",
     "text": [
      "INFO:root:Validation, Epoch: 239, Loss: 0.426\n"
     ]
    },
    {
     "data": {
      "application/vnd.jupyter.widget-view+json": {
       "model_id": "264e92515e94439590964007b31e8989",
       "version_major": 2,
       "version_minor": 0
      },
      "text/plain": [
       "Training epoch 240:   0%|          | 0/307 [00:00<?, ?it/s]"
      ]
     },
     "metadata": {},
     "output_type": "display_data"
    },
    {
     "name": "stderr",
     "output_type": "stream",
     "text": [
      "INFO:root:Validation, Epoch: 240, Loss: 0.428\n"
     ]
    },
    {
     "data": {
      "application/vnd.jupyter.widget-view+json": {
       "model_id": "da4598b800e54ac389f80d7397f12ecf",
       "version_major": 2,
       "version_minor": 0
      },
      "text/plain": [
       "Training epoch 241:   0%|          | 0/307 [00:00<?, ?it/s]"
      ]
     },
     "metadata": {},
     "output_type": "display_data"
    },
    {
     "name": "stderr",
     "output_type": "stream",
     "text": [
      "INFO:root:Validation, Epoch: 241, Loss: 0.447\n"
     ]
    },
    {
     "data": {
      "application/vnd.jupyter.widget-view+json": {
       "model_id": "3edf37a05d7443acbba3c3acaa8fae96",
       "version_major": 2,
       "version_minor": 0
      },
      "text/plain": [
       "Training epoch 242:   0%|          | 0/307 [00:00<?, ?it/s]"
      ]
     },
     "metadata": {},
     "output_type": "display_data"
    },
    {
     "name": "stderr",
     "output_type": "stream",
     "text": [
      "INFO:root:Validation, Epoch: 242, Loss: 0.419\n"
     ]
    },
    {
     "data": {
      "application/vnd.jupyter.widget-view+json": {
       "model_id": "b2ba416a92b64b95a8d59347adb6af6c",
       "version_major": 2,
       "version_minor": 0
      },
      "text/plain": [
       "Training epoch 243:   0%|          | 0/307 [00:00<?, ?it/s]"
      ]
     },
     "metadata": {},
     "output_type": "display_data"
    },
    {
     "name": "stderr",
     "output_type": "stream",
     "text": [
      "INFO:root:Validation, Epoch: 243, Loss: 0.454\n"
     ]
    },
    {
     "data": {
      "application/vnd.jupyter.widget-view+json": {
       "model_id": "e468f5e6c4d84460804eb2adf04d6921",
       "version_major": 2,
       "version_minor": 0
      },
      "text/plain": [
       "Training epoch 244:   0%|          | 0/307 [00:00<?, ?it/s]"
      ]
     },
     "metadata": {},
     "output_type": "display_data"
    },
    {
     "name": "stderr",
     "output_type": "stream",
     "text": [
      "INFO:root:Validation, Epoch: 244, Loss: 0.424\n"
     ]
    },
    {
     "data": {
      "application/vnd.jupyter.widget-view+json": {
       "model_id": "3e103ebffe4e4dd6b28500db862b6346",
       "version_major": 2,
       "version_minor": 0
      },
      "text/plain": [
       "Training epoch 245:   0%|          | 0/307 [00:00<?, ?it/s]"
      ]
     },
     "metadata": {},
     "output_type": "display_data"
    },
    {
     "name": "stderr",
     "output_type": "stream",
     "text": [
      "INFO:root:Validation, Epoch: 245, Loss: 0.446\n"
     ]
    },
    {
     "data": {
      "application/vnd.jupyter.widget-view+json": {
       "model_id": "b3f6bc66ced14e72ae58f98ff382ffd9",
       "version_major": 2,
       "version_minor": 0
      },
      "text/plain": [
       "Training epoch 246:   0%|          | 0/307 [00:00<?, ?it/s]"
      ]
     },
     "metadata": {},
     "output_type": "display_data"
    },
    {
     "name": "stderr",
     "output_type": "stream",
     "text": [
      "INFO:root:Validation, Epoch: 246, Loss: 0.425\n"
     ]
    },
    {
     "data": {
      "application/vnd.jupyter.widget-view+json": {
       "model_id": "2b6220a6823c4bc6a1a4ce18010c7670",
       "version_major": 2,
       "version_minor": 0
      },
      "text/plain": [
       "Training epoch 247:   0%|          | 0/307 [00:00<?, ?it/s]"
      ]
     },
     "metadata": {},
     "output_type": "display_data"
    },
    {
     "name": "stderr",
     "output_type": "stream",
     "text": [
      "INFO:root:Validation, Epoch: 247, Loss: 0.428\n"
     ]
    },
    {
     "data": {
      "application/vnd.jupyter.widget-view+json": {
       "model_id": "88eeaa27b3834b3683ba27f5e67a5d3b",
       "version_major": 2,
       "version_minor": 0
      },
      "text/plain": [
       "Training epoch 248:   0%|          | 0/307 [00:00<?, ?it/s]"
      ]
     },
     "metadata": {},
     "output_type": "display_data"
    },
    {
     "name": "stderr",
     "output_type": "stream",
     "text": [
      "INFO:root:Validation, Epoch: 248, Loss: 0.426\n"
     ]
    },
    {
     "data": {
      "application/vnd.jupyter.widget-view+json": {
       "model_id": "2cc59011cbfc4c638ca88d45215a9732",
       "version_major": 2,
       "version_minor": 0
      },
      "text/plain": [
       "Training epoch 249:   0%|          | 0/307 [00:00<?, ?it/s]"
      ]
     },
     "metadata": {},
     "output_type": "display_data"
    },
    {
     "name": "stderr",
     "output_type": "stream",
     "text": [
      "INFO:root:Validation, Epoch: 249, Loss: 0.425\n"
     ]
    },
    {
     "data": {
      "application/vnd.jupyter.widget-view+json": {
       "model_id": "cfb88cc8d50147269152ba3950db6915",
       "version_major": 2,
       "version_minor": 0
      },
      "text/plain": [
       "Training epoch 250:   0%|          | 0/307 [00:00<?, ?it/s]"
      ]
     },
     "metadata": {},
     "output_type": "display_data"
    },
    {
     "name": "stderr",
     "output_type": "stream",
     "text": [
      "INFO:root:Validation, Epoch: 250, Loss: 0.429\n"
     ]
    },
    {
     "data": {
      "application/vnd.jupyter.widget-view+json": {
       "model_id": "9d4ae995774b424ca554c7d578f87f1f",
       "version_major": 2,
       "version_minor": 0
      },
      "text/plain": [
       "Training epoch 251:   0%|          | 0/307 [00:00<?, ?it/s]"
      ]
     },
     "metadata": {},
     "output_type": "display_data"
    },
    {
     "name": "stderr",
     "output_type": "stream",
     "text": [
      "INFO:root:Validation, Epoch: 251, Loss: 0.429\n"
     ]
    },
    {
     "data": {
      "application/vnd.jupyter.widget-view+json": {
       "model_id": "8bb60a6af2bc4b1cb208eea06687c717",
       "version_major": 2,
       "version_minor": 0
      },
      "text/plain": [
       "Training epoch 252:   0%|          | 0/307 [00:00<?, ?it/s]"
      ]
     },
     "metadata": {},
     "output_type": "display_data"
    },
    {
     "name": "stderr",
     "output_type": "stream",
     "text": [
      "INFO:root:Validation, Epoch: 252, Loss: 0.439\n"
     ]
    },
    {
     "data": {
      "application/vnd.jupyter.widget-view+json": {
       "model_id": "4ebeacfbeaac42678c8813fc80302336",
       "version_major": 2,
       "version_minor": 0
      },
      "text/plain": [
       "Training epoch 253:   0%|          | 0/307 [00:00<?, ?it/s]"
      ]
     },
     "metadata": {},
     "output_type": "display_data"
    },
    {
     "name": "stderr",
     "output_type": "stream",
     "text": [
      "INFO:root:Validation, Epoch: 253, Loss: 0.421\n"
     ]
    },
    {
     "data": {
      "application/vnd.jupyter.widget-view+json": {
       "model_id": "7ef1267cc0fe4b7fad794d9f4ca05ef3",
       "version_major": 2,
       "version_minor": 0
      },
      "text/plain": [
       "Training epoch 254:   0%|          | 0/307 [00:00<?, ?it/s]"
      ]
     },
     "metadata": {},
     "output_type": "display_data"
    },
    {
     "name": "stderr",
     "output_type": "stream",
     "text": [
      "INFO:root:Validation, Epoch: 254, Loss: 0.444\n"
     ]
    },
    {
     "data": {
      "application/vnd.jupyter.widget-view+json": {
       "model_id": "bea68801138b4cc48d4384cee528f39a",
       "version_major": 2,
       "version_minor": 0
      },
      "text/plain": [
       "Training epoch 255:   0%|          | 0/307 [00:00<?, ?it/s]"
      ]
     },
     "metadata": {},
     "output_type": "display_data"
    },
    {
     "name": "stderr",
     "output_type": "stream",
     "text": [
      "INFO:root:Validation, Epoch: 255, Loss: 0.427\n"
     ]
    },
    {
     "data": {
      "application/vnd.jupyter.widget-view+json": {
       "model_id": "9cec62a247d54a9bbfc7548456b3e4d2",
       "version_major": 2,
       "version_minor": 0
      },
      "text/plain": [
       "Training epoch 256:   0%|          | 0/307 [00:00<?, ?it/s]"
      ]
     },
     "metadata": {},
     "output_type": "display_data"
    },
    {
     "name": "stderr",
     "output_type": "stream",
     "text": [
      "INFO:root:Validation, Epoch: 256, Loss: 0.413\n"
     ]
    },
    {
     "data": {
      "application/vnd.jupyter.widget-view+json": {
       "model_id": "3a0bdf33865e41dd9861fe13b5a96371",
       "version_major": 2,
       "version_minor": 0
      },
      "text/plain": [
       "Training epoch 257:   0%|          | 0/307 [00:00<?, ?it/s]"
      ]
     },
     "metadata": {},
     "output_type": "display_data"
    },
    {
     "name": "stderr",
     "output_type": "stream",
     "text": [
      "INFO:root:Validation, Epoch: 257, Loss: 0.420\n"
     ]
    },
    {
     "data": {
      "application/vnd.jupyter.widget-view+json": {
       "model_id": "8af1e624b8cb4334a1a6be95a6abe672",
       "version_major": 2,
       "version_minor": 0
      },
      "text/plain": [
       "Training epoch 258:   0%|          | 0/307 [00:00<?, ?it/s]"
      ]
     },
     "metadata": {},
     "output_type": "display_data"
    },
    {
     "name": "stderr",
     "output_type": "stream",
     "text": [
      "INFO:root:Validation, Epoch: 258, Loss: 0.440\n"
     ]
    },
    {
     "data": {
      "application/vnd.jupyter.widget-view+json": {
       "model_id": "f791452500c7411e8d7704d2996dc587",
       "version_major": 2,
       "version_minor": 0
      },
      "text/plain": [
       "Training epoch 259:   0%|          | 0/307 [00:00<?, ?it/s]"
      ]
     },
     "metadata": {},
     "output_type": "display_data"
    },
    {
     "name": "stderr",
     "output_type": "stream",
     "text": [
      "INFO:root:Validation, Epoch: 259, Loss: 0.423\n"
     ]
    },
    {
     "data": {
      "application/vnd.jupyter.widget-view+json": {
       "model_id": "3b270a7cfc3e4ee987a7eed4e77d3672",
       "version_major": 2,
       "version_minor": 0
      },
      "text/plain": [
       "Training epoch 260:   0%|          | 0/307 [00:00<?, ?it/s]"
      ]
     },
     "metadata": {},
     "output_type": "display_data"
    },
    {
     "name": "stderr",
     "output_type": "stream",
     "text": [
      "INFO:root:Validation, Epoch: 260, Loss: 0.425\n"
     ]
    },
    {
     "data": {
      "application/vnd.jupyter.widget-view+json": {
       "model_id": "83f269f610b442a987861585ded8e739",
       "version_major": 2,
       "version_minor": 0
      },
      "text/plain": [
       "Training epoch 261:   0%|          | 0/307 [00:00<?, ?it/s]"
      ]
     },
     "metadata": {},
     "output_type": "display_data"
    },
    {
     "name": "stderr",
     "output_type": "stream",
     "text": [
      "INFO:root:Validation, Epoch: 261, Loss: 0.431\n"
     ]
    },
    {
     "data": {
      "application/vnd.jupyter.widget-view+json": {
       "model_id": "b5472ed3708148858bf791a757ab4045",
       "version_major": 2,
       "version_minor": 0
      },
      "text/plain": [
       "Training epoch 262:   0%|          | 0/307 [00:00<?, ?it/s]"
      ]
     },
     "metadata": {},
     "output_type": "display_data"
    },
    {
     "name": "stderr",
     "output_type": "stream",
     "text": [
      "INFO:root:Validation, Epoch: 262, Loss: 0.416\n"
     ]
    },
    {
     "data": {
      "application/vnd.jupyter.widget-view+json": {
       "model_id": "a1af54080d184a6399edac1ecb8572d8",
       "version_major": 2,
       "version_minor": 0
      },
      "text/plain": [
       "Training epoch 263:   0%|          | 0/307 [00:00<?, ?it/s]"
      ]
     },
     "metadata": {},
     "output_type": "display_data"
    },
    {
     "name": "stderr",
     "output_type": "stream",
     "text": [
      "INFO:root:Validation, Epoch: 263, Loss: 0.428\n"
     ]
    },
    {
     "data": {
      "application/vnd.jupyter.widget-view+json": {
       "model_id": "aac44a5b74fb4420861329b01eef2c9a",
       "version_major": 2,
       "version_minor": 0
      },
      "text/plain": [
       "Training epoch 264:   0%|          | 0/307 [00:00<?, ?it/s]"
      ]
     },
     "metadata": {},
     "output_type": "display_data"
    },
    {
     "name": "stderr",
     "output_type": "stream",
     "text": [
      "INFO:root:Validation, Epoch: 264, Loss: 0.429\n"
     ]
    },
    {
     "data": {
      "application/vnd.jupyter.widget-view+json": {
       "model_id": "6698d57e0a0945bfa8b276757f03ca12",
       "version_major": 2,
       "version_minor": 0
      },
      "text/plain": [
       "Training epoch 265:   0%|          | 0/307 [00:00<?, ?it/s]"
      ]
     },
     "metadata": {},
     "output_type": "display_data"
    },
    {
     "name": "stderr",
     "output_type": "stream",
     "text": [
      "INFO:root:Validation, Epoch: 265, Loss: 0.408\n"
     ]
    },
    {
     "data": {
      "application/vnd.jupyter.widget-view+json": {
       "model_id": "9b62ae1e9886424eb6904026f5a54d86",
       "version_major": 2,
       "version_minor": 0
      },
      "text/plain": [
       "Training epoch 266:   0%|          | 0/307 [00:00<?, ?it/s]"
      ]
     },
     "metadata": {},
     "output_type": "display_data"
    },
    {
     "name": "stderr",
     "output_type": "stream",
     "text": [
      "INFO:root:Validation, Epoch: 266, Loss: 0.410\n"
     ]
    },
    {
     "data": {
      "application/vnd.jupyter.widget-view+json": {
       "model_id": "1c5ef5bf271744249af682b5491f52f3",
       "version_major": 2,
       "version_minor": 0
      },
      "text/plain": [
       "Training epoch 267:   0%|          | 0/307 [00:00<?, ?it/s]"
      ]
     },
     "metadata": {},
     "output_type": "display_data"
    },
    {
     "name": "stderr",
     "output_type": "stream",
     "text": [
      "INFO:root:Validation, Epoch: 267, Loss: 0.419\n"
     ]
    },
    {
     "data": {
      "application/vnd.jupyter.widget-view+json": {
       "model_id": "26d614d006614aa88dc6e527365bad11",
       "version_major": 2,
       "version_minor": 0
      },
      "text/plain": [
       "Training epoch 268:   0%|          | 0/307 [00:00<?, ?it/s]"
      ]
     },
     "metadata": {},
     "output_type": "display_data"
    },
    {
     "name": "stderr",
     "output_type": "stream",
     "text": [
      "INFO:root:Validation, Epoch: 268, Loss: 0.454\n"
     ]
    },
    {
     "data": {
      "application/vnd.jupyter.widget-view+json": {
       "model_id": "377895d0b93c4fa69b047d1fd934a2ab",
       "version_major": 2,
       "version_minor": 0
      },
      "text/plain": [
       "Training epoch 269:   0%|          | 0/307 [00:00<?, ?it/s]"
      ]
     },
     "metadata": {},
     "output_type": "display_data"
    },
    {
     "name": "stderr",
     "output_type": "stream",
     "text": [
      "INFO:root:Validation, Epoch: 269, Loss: 0.428\n"
     ]
    },
    {
     "data": {
      "application/vnd.jupyter.widget-view+json": {
       "model_id": "21058c734fce47a1be3d7fd0a5f3255f",
       "version_major": 2,
       "version_minor": 0
      },
      "text/plain": [
       "Training epoch 270:   0%|          | 0/307 [00:00<?, ?it/s]"
      ]
     },
     "metadata": {},
     "output_type": "display_data"
    },
    {
     "name": "stderr",
     "output_type": "stream",
     "text": [
      "INFO:root:Validation, Epoch: 270, Loss: 0.431\n"
     ]
    },
    {
     "data": {
      "application/vnd.jupyter.widget-view+json": {
       "model_id": "cd62515bda394e3c92a7359a3481edac",
       "version_major": 2,
       "version_minor": 0
      },
      "text/plain": [
       "Training epoch 271:   0%|          | 0/307 [00:00<?, ?it/s]"
      ]
     },
     "metadata": {},
     "output_type": "display_data"
    },
    {
     "name": "stderr",
     "output_type": "stream",
     "text": [
      "INFO:root:Validation, Epoch: 271, Loss: 0.419\n"
     ]
    },
    {
     "data": {
      "application/vnd.jupyter.widget-view+json": {
       "model_id": "0a4344ba82c6484f9654f8296e373c83",
       "version_major": 2,
       "version_minor": 0
      },
      "text/plain": [
       "Training epoch 272:   0%|          | 0/307 [00:00<?, ?it/s]"
      ]
     },
     "metadata": {},
     "output_type": "display_data"
    },
    {
     "name": "stderr",
     "output_type": "stream",
     "text": [
      "INFO:root:Validation, Epoch: 272, Loss: 0.419\n"
     ]
    },
    {
     "data": {
      "application/vnd.jupyter.widget-view+json": {
       "model_id": "1d21b3fa46e84d59b7b37eee265320c2",
       "version_major": 2,
       "version_minor": 0
      },
      "text/plain": [
       "Training epoch 273:   0%|          | 0/307 [00:00<?, ?it/s]"
      ]
     },
     "metadata": {},
     "output_type": "display_data"
    },
    {
     "name": "stderr",
     "output_type": "stream",
     "text": [
      "INFO:root:Validation, Epoch: 273, Loss: 0.431\n"
     ]
    },
    {
     "data": {
      "application/vnd.jupyter.widget-view+json": {
       "model_id": "e3cc4efe090945f5b44239400694c7bb",
       "version_major": 2,
       "version_minor": 0
      },
      "text/plain": [
       "Training epoch 274:   0%|          | 0/307 [00:00<?, ?it/s]"
      ]
     },
     "metadata": {},
     "output_type": "display_data"
    },
    {
     "name": "stderr",
     "output_type": "stream",
     "text": [
      "INFO:root:Validation, Epoch: 274, Loss: 0.430\n"
     ]
    },
    {
     "data": {
      "application/vnd.jupyter.widget-view+json": {
       "model_id": "25a3024d3da54209ace4bdbebc4df300",
       "version_major": 2,
       "version_minor": 0
      },
      "text/plain": [
       "Training epoch 275:   0%|          | 0/307 [00:00<?, ?it/s]"
      ]
     },
     "metadata": {},
     "output_type": "display_data"
    },
    {
     "name": "stderr",
     "output_type": "stream",
     "text": [
      "INFO:root:Validation, Epoch: 275, Loss: 0.420\n"
     ]
    },
    {
     "data": {
      "application/vnd.jupyter.widget-view+json": {
       "model_id": "b1072c6847ea443486227f300958b207",
       "version_major": 2,
       "version_minor": 0
      },
      "text/plain": [
       "Training epoch 276:   0%|          | 0/307 [00:00<?, ?it/s]"
      ]
     },
     "metadata": {},
     "output_type": "display_data"
    },
    {
     "name": "stderr",
     "output_type": "stream",
     "text": [
      "INFO:root:Validation, Epoch: 276, Loss: 0.412\n"
     ]
    },
    {
     "data": {
      "application/vnd.jupyter.widget-view+json": {
       "model_id": "78f7e008dde049f7905d1c5f0e63be3f",
       "version_major": 2,
       "version_minor": 0
      },
      "text/plain": [
       "Training epoch 277:   0%|          | 0/307 [00:00<?, ?it/s]"
      ]
     },
     "metadata": {},
     "output_type": "display_data"
    },
    {
     "name": "stderr",
     "output_type": "stream",
     "text": [
      "INFO:root:Validation, Epoch: 277, Loss: 0.421\n"
     ]
    },
    {
     "data": {
      "application/vnd.jupyter.widget-view+json": {
       "model_id": "40a4e161bd1d4f428798d0853d7219f9",
       "version_major": 2,
       "version_minor": 0
      },
      "text/plain": [
       "Training epoch 278:   0%|          | 0/307 [00:00<?, ?it/s]"
      ]
     },
     "metadata": {},
     "output_type": "display_data"
    },
    {
     "name": "stderr",
     "output_type": "stream",
     "text": [
      "INFO:root:Validation, Epoch: 278, Loss: 0.429\n"
     ]
    },
    {
     "data": {
      "application/vnd.jupyter.widget-view+json": {
       "model_id": "0b582ca7cee141b1a5585ba6f3302b00",
       "version_major": 2,
       "version_minor": 0
      },
      "text/plain": [
       "Training epoch 279:   0%|          | 0/307 [00:00<?, ?it/s]"
      ]
     },
     "metadata": {},
     "output_type": "display_data"
    },
    {
     "name": "stderr",
     "output_type": "stream",
     "text": [
      "INFO:root:Validation, Epoch: 279, Loss: 0.433\n"
     ]
    },
    {
     "data": {
      "application/vnd.jupyter.widget-view+json": {
       "model_id": "51b4d2f0a4444fcd82570a31a1dd9824",
       "version_major": 2,
       "version_minor": 0
      },
      "text/plain": [
       "Training epoch 280:   0%|          | 0/307 [00:00<?, ?it/s]"
      ]
     },
     "metadata": {},
     "output_type": "display_data"
    },
    {
     "name": "stderr",
     "output_type": "stream",
     "text": [
      "INFO:root:Validation, Epoch: 280, Loss: 0.440\n"
     ]
    },
    {
     "data": {
      "application/vnd.jupyter.widget-view+json": {
       "model_id": "6c80c77ae1574e37a7897d986737ec96",
       "version_major": 2,
       "version_minor": 0
      },
      "text/plain": [
       "Training epoch 281:   0%|          | 0/307 [00:00<?, ?it/s]"
      ]
     },
     "metadata": {},
     "output_type": "display_data"
    },
    {
     "name": "stderr",
     "output_type": "stream",
     "text": [
      "INFO:root:Validation, Epoch: 281, Loss: 0.420\n"
     ]
    },
    {
     "data": {
      "application/vnd.jupyter.widget-view+json": {
       "model_id": "b99b22efef6a48f9bec3d6c5105e28e2",
       "version_major": 2,
       "version_minor": 0
      },
      "text/plain": [
       "Training epoch 282:   0%|          | 0/307 [00:00<?, ?it/s]"
      ]
     },
     "metadata": {},
     "output_type": "display_data"
    },
    {
     "name": "stderr",
     "output_type": "stream",
     "text": [
      "INFO:root:Validation, Epoch: 282, Loss: 0.415\n"
     ]
    },
    {
     "data": {
      "application/vnd.jupyter.widget-view+json": {
       "model_id": "30c0155b3dce4f6ba4db07bbc7d2aa70",
       "version_major": 2,
       "version_minor": 0
      },
      "text/plain": [
       "Training epoch 283:   0%|          | 0/307 [00:00<?, ?it/s]"
      ]
     },
     "metadata": {},
     "output_type": "display_data"
    },
    {
     "name": "stderr",
     "output_type": "stream",
     "text": [
      "INFO:root:Validation, Epoch: 283, Loss: 0.463\n"
     ]
    },
    {
     "data": {
      "application/vnd.jupyter.widget-view+json": {
       "model_id": "06877ac13a5e457c93097a085d97fc1b",
       "version_major": 2,
       "version_minor": 0
      },
      "text/plain": [
       "Training epoch 284:   0%|          | 0/307 [00:00<?, ?it/s]"
      ]
     },
     "metadata": {},
     "output_type": "display_data"
    },
    {
     "name": "stderr",
     "output_type": "stream",
     "text": [
      "INFO:root:Validation, Epoch: 284, Loss: 0.415\n"
     ]
    },
    {
     "data": {
      "application/vnd.jupyter.widget-view+json": {
       "model_id": "7b7e5c49e69d444597c0f2e9f769d4ce",
       "version_major": 2,
       "version_minor": 0
      },
      "text/plain": [
       "Training epoch 285:   0%|          | 0/307 [00:00<?, ?it/s]"
      ]
     },
     "metadata": {},
     "output_type": "display_data"
    },
    {
     "name": "stderr",
     "output_type": "stream",
     "text": [
      "INFO:root:Validation, Epoch: 285, Loss: 0.419\n"
     ]
    },
    {
     "data": {
      "application/vnd.jupyter.widget-view+json": {
       "model_id": "bf048694b25046559e51c736fd55c3b5",
       "version_major": 2,
       "version_minor": 0
      },
      "text/plain": [
       "Training epoch 286:   0%|          | 0/307 [00:00<?, ?it/s]"
      ]
     },
     "metadata": {},
     "output_type": "display_data"
    },
    {
     "name": "stderr",
     "output_type": "stream",
     "text": [
      "INFO:root:Validation, Epoch: 286, Loss: 0.428\n"
     ]
    },
    {
     "data": {
      "application/vnd.jupyter.widget-view+json": {
       "model_id": "d96f70315eed433c84e559890fba7f27",
       "version_major": 2,
       "version_minor": 0
      },
      "text/plain": [
       "Training epoch 287:   0%|          | 0/307 [00:00<?, ?it/s]"
      ]
     },
     "metadata": {},
     "output_type": "display_data"
    },
    {
     "name": "stderr",
     "output_type": "stream",
     "text": [
      "INFO:root:Validation, Epoch: 287, Loss: 0.441\n"
     ]
    },
    {
     "data": {
      "application/vnd.jupyter.widget-view+json": {
       "model_id": "a79ecc4223e248f3ae88b6c6c513f11b",
       "version_major": 2,
       "version_minor": 0
      },
      "text/plain": [
       "Training epoch 288:   0%|          | 0/307 [00:00<?, ?it/s]"
      ]
     },
     "metadata": {},
     "output_type": "display_data"
    },
    {
     "name": "stderr",
     "output_type": "stream",
     "text": [
      "INFO:root:Validation, Epoch: 288, Loss: 0.432\n"
     ]
    },
    {
     "data": {
      "application/vnd.jupyter.widget-view+json": {
       "model_id": "7049514f4b4b47e68449ac5fa3e07d41",
       "version_major": 2,
       "version_minor": 0
      },
      "text/plain": [
       "Training epoch 289:   0%|          | 0/307 [00:00<?, ?it/s]"
      ]
     },
     "metadata": {},
     "output_type": "display_data"
    },
    {
     "name": "stderr",
     "output_type": "stream",
     "text": [
      "INFO:root:Validation, Epoch: 289, Loss: 0.442\n"
     ]
    },
    {
     "data": {
      "application/vnd.jupyter.widget-view+json": {
       "model_id": "247f4d1146f746649131382cb9f8844e",
       "version_major": 2,
       "version_minor": 0
      },
      "text/plain": [
       "Training epoch 290:   0%|          | 0/307 [00:00<?, ?it/s]"
      ]
     },
     "metadata": {},
     "output_type": "display_data"
    },
    {
     "name": "stderr",
     "output_type": "stream",
     "text": [
      "INFO:root:Validation, Epoch: 290, Loss: 0.443\n"
     ]
    },
    {
     "data": {
      "application/vnd.jupyter.widget-view+json": {
       "model_id": "fc2920955a6a49bd84bdaf6305c2ebf8",
       "version_major": 2,
       "version_minor": 0
      },
      "text/plain": [
       "Training epoch 291:   0%|          | 0/307 [00:00<?, ?it/s]"
      ]
     },
     "metadata": {},
     "output_type": "display_data"
    },
    {
     "name": "stderr",
     "output_type": "stream",
     "text": [
      "INFO:root:Validation, Epoch: 291, Loss: 0.454\n"
     ]
    },
    {
     "data": {
      "application/vnd.jupyter.widget-view+json": {
       "model_id": "8559589e07ac4093994f914bab00584a",
       "version_major": 2,
       "version_minor": 0
      },
      "text/plain": [
       "Training epoch 292:   0%|          | 0/307 [00:00<?, ?it/s]"
      ]
     },
     "metadata": {},
     "output_type": "display_data"
    },
    {
     "name": "stderr",
     "output_type": "stream",
     "text": [
      "INFO:root:Validation, Epoch: 292, Loss: 0.423\n"
     ]
    },
    {
     "data": {
      "application/vnd.jupyter.widget-view+json": {
       "model_id": "b82484ce8f424f95bee76a78c5acc569",
       "version_major": 2,
       "version_minor": 0
      },
      "text/plain": [
       "Training epoch 293:   0%|          | 0/307 [00:00<?, ?it/s]"
      ]
     },
     "metadata": {},
     "output_type": "display_data"
    },
    {
     "name": "stderr",
     "output_type": "stream",
     "text": [
      "INFO:root:Validation, Epoch: 293, Loss: 0.426\n"
     ]
    },
    {
     "data": {
      "application/vnd.jupyter.widget-view+json": {
       "model_id": "12cbae93f9384a00b2791cb589cb620e",
       "version_major": 2,
       "version_minor": 0
      },
      "text/plain": [
       "Training epoch 294:   0%|          | 0/307 [00:00<?, ?it/s]"
      ]
     },
     "metadata": {},
     "output_type": "display_data"
    },
    {
     "name": "stderr",
     "output_type": "stream",
     "text": [
      "INFO:root:Validation, Epoch: 294, Loss: 0.422\n"
     ]
    },
    {
     "data": {
      "application/vnd.jupyter.widget-view+json": {
       "model_id": "dedee16b117143d684da03e873fcb214",
       "version_major": 2,
       "version_minor": 0
      },
      "text/plain": [
       "Training epoch 295:   0%|          | 0/307 [00:00<?, ?it/s]"
      ]
     },
     "metadata": {},
     "output_type": "display_data"
    },
    {
     "name": "stderr",
     "output_type": "stream",
     "text": [
      "INFO:root:Validation, Epoch: 295, Loss: 0.409\n"
     ]
    },
    {
     "data": {
      "application/vnd.jupyter.widget-view+json": {
       "model_id": "2304b81f38c74614b8c3bf64d2913fd1",
       "version_major": 2,
       "version_minor": 0
      },
      "text/plain": [
       "Training epoch 296:   0%|          | 0/307 [00:00<?, ?it/s]"
      ]
     },
     "metadata": {},
     "output_type": "display_data"
    },
    {
     "name": "stderr",
     "output_type": "stream",
     "text": [
      "INFO:root:Validation, Epoch: 296, Loss: 0.412\n"
     ]
    },
    {
     "data": {
      "application/vnd.jupyter.widget-view+json": {
       "model_id": "847e469ee00147ac963e5e5aed2e90e0",
       "version_major": 2,
       "version_minor": 0
      },
      "text/plain": [
       "Training epoch 297:   0%|          | 0/307 [00:00<?, ?it/s]"
      ]
     },
     "metadata": {},
     "output_type": "display_data"
    },
    {
     "name": "stderr",
     "output_type": "stream",
     "text": [
      "INFO:root:Validation, Epoch: 297, Loss: 0.426\n"
     ]
    },
    {
     "data": {
      "application/vnd.jupyter.widget-view+json": {
       "model_id": "fc4cc4479ea54017a6915cdb3b9b2efb",
       "version_major": 2,
       "version_minor": 0
      },
      "text/plain": [
       "Training epoch 298:   0%|          | 0/307 [00:00<?, ?it/s]"
      ]
     },
     "metadata": {},
     "output_type": "display_data"
    },
    {
     "name": "stderr",
     "output_type": "stream",
     "text": [
      "INFO:root:Validation, Epoch: 298, Loss: 0.446\n"
     ]
    },
    {
     "data": {
      "application/vnd.jupyter.widget-view+json": {
       "model_id": "a60c0175578c4a73a1b11e41854d3d2f",
       "version_major": 2,
       "version_minor": 0
      },
      "text/plain": [
       "Training epoch 299:   0%|          | 0/307 [00:00<?, ?it/s]"
      ]
     },
     "metadata": {},
     "output_type": "display_data"
    },
    {
     "name": "stderr",
     "output_type": "stream",
     "text": [
      "INFO:root:Validation, Epoch: 299, Loss: 0.405\n"
     ]
    },
    {
     "data": {
      "application/vnd.jupyter.widget-view+json": {
       "model_id": "d331d2781c4d45f698b1520ab1d3cca4",
       "version_major": 2,
       "version_minor": 0
      },
      "text/plain": [
       "Training epoch 300:   0%|          | 0/307 [00:00<?, ?it/s]"
      ]
     },
     "metadata": {},
     "output_type": "display_data"
    },
    {
     "name": "stderr",
     "output_type": "stream",
     "text": [
      "INFO:root:Validation, Epoch: 300, Loss: 0.436\n"
     ]
    },
    {
     "data": {
      "application/vnd.jupyter.widget-view+json": {
       "model_id": "996f6f537a01416996481b5962368db1",
       "version_major": 2,
       "version_minor": 0
      },
      "text/plain": [
       "Training epoch 301:   0%|          | 0/307 [00:00<?, ?it/s]"
      ]
     },
     "metadata": {},
     "output_type": "display_data"
    },
    {
     "name": "stderr",
     "output_type": "stream",
     "text": [
      "INFO:root:Validation, Epoch: 301, Loss: 0.472\n"
     ]
    },
    {
     "data": {
      "application/vnd.jupyter.widget-view+json": {
       "model_id": "836ef5690aa642619501fe6e45463943",
       "version_major": 2,
       "version_minor": 0
      },
      "text/plain": [
       "Training epoch 302:   0%|          | 0/307 [00:00<?, ?it/s]"
      ]
     },
     "metadata": {},
     "output_type": "display_data"
    },
    {
     "name": "stderr",
     "output_type": "stream",
     "text": [
      "INFO:root:Validation, Epoch: 302, Loss: 0.459\n"
     ]
    },
    {
     "data": {
      "application/vnd.jupyter.widget-view+json": {
       "model_id": "64e402b7035b4a0bae0e2f819b0c21b7",
       "version_major": 2,
       "version_minor": 0
      },
      "text/plain": [
       "Training epoch 303:   0%|          | 0/307 [00:00<?, ?it/s]"
      ]
     },
     "metadata": {},
     "output_type": "display_data"
    },
    {
     "name": "stderr",
     "output_type": "stream",
     "text": [
      "INFO:root:Validation, Epoch: 303, Loss: 0.468\n"
     ]
    },
    {
     "data": {
      "application/vnd.jupyter.widget-view+json": {
       "model_id": "39ea64185126420eb9212a57dd36069a",
       "version_major": 2,
       "version_minor": 0
      },
      "text/plain": [
       "Training epoch 304:   0%|          | 0/307 [00:00<?, ?it/s]"
      ]
     },
     "metadata": {},
     "output_type": "display_data"
    },
    {
     "name": "stderr",
     "output_type": "stream",
     "text": [
      "INFO:root:Validation, Epoch: 304, Loss: 0.459\n"
     ]
    },
    {
     "data": {
      "application/vnd.jupyter.widget-view+json": {
       "model_id": "9a86c3a171554cb083f8db0af0807fcd",
       "version_major": 2,
       "version_minor": 0
      },
      "text/plain": [
       "Training epoch 305:   0%|          | 0/307 [00:00<?, ?it/s]"
      ]
     },
     "metadata": {},
     "output_type": "display_data"
    },
    {
     "name": "stderr",
     "output_type": "stream",
     "text": [
      "INFO:root:Validation, Epoch: 305, Loss: 0.481\n"
     ]
    },
    {
     "data": {
      "application/vnd.jupyter.widget-view+json": {
       "model_id": "be6cb650f81d4f439c48e7877bfc6781",
       "version_major": 2,
       "version_minor": 0
      },
      "text/plain": [
       "Training epoch 306:   0%|          | 0/307 [00:00<?, ?it/s]"
      ]
     },
     "metadata": {},
     "output_type": "display_data"
    },
    {
     "name": "stderr",
     "output_type": "stream",
     "text": [
      "INFO:root:Validation, Epoch: 306, Loss: 0.458\n"
     ]
    },
    {
     "data": {
      "application/vnd.jupyter.widget-view+json": {
       "model_id": "8ce3997f791647c490c9fde10977816d",
       "version_major": 2,
       "version_minor": 0
      },
      "text/plain": [
       "Training epoch 307:   0%|          | 0/307 [00:00<?, ?it/s]"
      ]
     },
     "metadata": {},
     "output_type": "display_data"
    },
    {
     "name": "stderr",
     "output_type": "stream",
     "text": [
      "INFO:root:Validation, Epoch: 307, Loss: 0.450\n"
     ]
    },
    {
     "data": {
      "application/vnd.jupyter.widget-view+json": {
       "model_id": "eb5d156dbcb64558a3e636d1b903852f",
       "version_major": 2,
       "version_minor": 0
      },
      "text/plain": [
       "Training epoch 308:   0%|          | 0/307 [00:00<?, ?it/s]"
      ]
     },
     "metadata": {},
     "output_type": "display_data"
    },
    {
     "name": "stderr",
     "output_type": "stream",
     "text": [
      "INFO:root:Validation, Epoch: 308, Loss: 0.460\n"
     ]
    },
    {
     "data": {
      "application/vnd.jupyter.widget-view+json": {
       "model_id": "c1e761b0d1c7439faa406d9498f2b80f",
       "version_major": 2,
       "version_minor": 0
      },
      "text/plain": [
       "Training epoch 309:   0%|          | 0/307 [00:00<?, ?it/s]"
      ]
     },
     "metadata": {},
     "output_type": "display_data"
    },
    {
     "name": "stderr",
     "output_type": "stream",
     "text": [
      "INFO:root:Validation, Epoch: 309, Loss: 0.461\n"
     ]
    },
    {
     "data": {
      "application/vnd.jupyter.widget-view+json": {
       "model_id": "97d0344e44e7463dac29287941642c5f",
       "version_major": 2,
       "version_minor": 0
      },
      "text/plain": [
       "Training epoch 310:   0%|          | 0/307 [00:00<?, ?it/s]"
      ]
     },
     "metadata": {},
     "output_type": "display_data"
    },
    {
     "name": "stderr",
     "output_type": "stream",
     "text": [
      "INFO:root:Validation, Epoch: 310, Loss: 0.479\n"
     ]
    },
    {
     "data": {
      "application/vnd.jupyter.widget-view+json": {
       "model_id": "32f70bacaec04c6d8676a7106c3517f1",
       "version_major": 2,
       "version_minor": 0
      },
      "text/plain": [
       "Training epoch 311:   0%|          | 0/307 [00:00<?, ?it/s]"
      ]
     },
     "metadata": {},
     "output_type": "display_data"
    },
    {
     "name": "stderr",
     "output_type": "stream",
     "text": [
      "INFO:root:Validation, Epoch: 311, Loss: 0.447\n"
     ]
    },
    {
     "data": {
      "application/vnd.jupyter.widget-view+json": {
       "model_id": "8abb7c8abca7425a8bc496a0bc6da0ea",
       "version_major": 2,
       "version_minor": 0
      },
      "text/plain": [
       "Training epoch 312:   0%|          | 0/307 [00:00<?, ?it/s]"
      ]
     },
     "metadata": {},
     "output_type": "display_data"
    },
    {
     "name": "stderr",
     "output_type": "stream",
     "text": [
      "INFO:root:Validation, Epoch: 312, Loss: 0.473\n"
     ]
    },
    {
     "data": {
      "application/vnd.jupyter.widget-view+json": {
       "model_id": "5f3b5ddb00b544faaff8ea1b32a9b9dc",
       "version_major": 2,
       "version_minor": 0
      },
      "text/plain": [
       "Training epoch 313:   0%|          | 0/307 [00:00<?, ?it/s]"
      ]
     },
     "metadata": {},
     "output_type": "display_data"
    },
    {
     "name": "stderr",
     "output_type": "stream",
     "text": [
      "INFO:root:Validation, Epoch: 313, Loss: 0.459\n"
     ]
    },
    {
     "data": {
      "application/vnd.jupyter.widget-view+json": {
       "model_id": "523874c5deda46dda8e7e7f5fd29e2d9",
       "version_major": 2,
       "version_minor": 0
      },
      "text/plain": [
       "Training epoch 314:   0%|          | 0/307 [00:00<?, ?it/s]"
      ]
     },
     "metadata": {},
     "output_type": "display_data"
    },
    {
     "name": "stderr",
     "output_type": "stream",
     "text": [
      "INFO:root:Validation, Epoch: 314, Loss: 0.448\n"
     ]
    },
    {
     "data": {
      "application/vnd.jupyter.widget-view+json": {
       "model_id": "3ad25d755015451ba6a6bf06791d1999",
       "version_major": 2,
       "version_minor": 0
      },
      "text/plain": [
       "Training epoch 315:   0%|          | 0/307 [00:00<?, ?it/s]"
      ]
     },
     "metadata": {},
     "output_type": "display_data"
    },
    {
     "name": "stderr",
     "output_type": "stream",
     "text": [
      "INFO:root:Validation, Epoch: 315, Loss: 0.445\n"
     ]
    },
    {
     "data": {
      "application/vnd.jupyter.widget-view+json": {
       "model_id": "d84aa3dd3e4d45b08933de7a7b194d81",
       "version_major": 2,
       "version_minor": 0
      },
      "text/plain": [
       "Training epoch 316:   0%|          | 0/307 [00:00<?, ?it/s]"
      ]
     },
     "metadata": {},
     "output_type": "display_data"
    },
    {
     "name": "stderr",
     "output_type": "stream",
     "text": [
      "INFO:root:Validation, Epoch: 316, Loss: 0.479\n"
     ]
    },
    {
     "data": {
      "application/vnd.jupyter.widget-view+json": {
       "model_id": "626a8570e0f640d7a78c309d30bc4a05",
       "version_major": 2,
       "version_minor": 0
      },
      "text/plain": [
       "Training epoch 317:   0%|          | 0/307 [00:00<?, ?it/s]"
      ]
     },
     "metadata": {},
     "output_type": "display_data"
    },
    {
     "name": "stderr",
     "output_type": "stream",
     "text": [
      "INFO:root:Validation, Epoch: 317, Loss: 0.447\n"
     ]
    },
    {
     "data": {
      "application/vnd.jupyter.widget-view+json": {
       "model_id": "4dcdf38c9d1446fabb87cc1b4e1ed098",
       "version_major": 2,
       "version_minor": 0
      },
      "text/plain": [
       "Training epoch 318:   0%|          | 0/307 [00:00<?, ?it/s]"
      ]
     },
     "metadata": {},
     "output_type": "display_data"
    },
    {
     "name": "stderr",
     "output_type": "stream",
     "text": [
      "INFO:root:Validation, Epoch: 318, Loss: 0.459\n"
     ]
    },
    {
     "data": {
      "application/vnd.jupyter.widget-view+json": {
       "model_id": "bdd80b7cf9af482c91f0783a0a4dd41b",
       "version_major": 2,
       "version_minor": 0
      },
      "text/plain": [
       "Training epoch 319:   0%|          | 0/307 [00:00<?, ?it/s]"
      ]
     },
     "metadata": {},
     "output_type": "display_data"
    },
    {
     "name": "stderr",
     "output_type": "stream",
     "text": [
      "INFO:root:Validation, Epoch: 319, Loss: 0.450\n"
     ]
    },
    {
     "data": {
      "application/vnd.jupyter.widget-view+json": {
       "model_id": "54fdfe16e54746f8bfd25008b2d68b3d",
       "version_major": 2,
       "version_minor": 0
      },
      "text/plain": [
       "Training epoch 320:   0%|          | 0/307 [00:00<?, ?it/s]"
      ]
     },
     "metadata": {},
     "output_type": "display_data"
    },
    {
     "name": "stderr",
     "output_type": "stream",
     "text": [
      "INFO:root:Validation, Epoch: 320, Loss: 0.461\n"
     ]
    },
    {
     "data": {
      "application/vnd.jupyter.widget-view+json": {
       "model_id": "8ee681e3e7d144108c5c15a0975ace51",
       "version_major": 2,
       "version_minor": 0
      },
      "text/plain": [
       "Training epoch 321:   0%|          | 0/307 [00:00<?, ?it/s]"
      ]
     },
     "metadata": {},
     "output_type": "display_data"
    },
    {
     "name": "stderr",
     "output_type": "stream",
     "text": [
      "INFO:root:Validation, Epoch: 321, Loss: 0.451\n"
     ]
    },
    {
     "data": {
      "application/vnd.jupyter.widget-view+json": {
       "model_id": "099b9b264d4a414ea5a954e7b233dae8",
       "version_major": 2,
       "version_minor": 0
      },
      "text/plain": [
       "Training epoch 322:   0%|          | 0/307 [00:00<?, ?it/s]"
      ]
     },
     "metadata": {},
     "output_type": "display_data"
    },
    {
     "name": "stderr",
     "output_type": "stream",
     "text": [
      "INFO:root:Validation, Epoch: 322, Loss: 0.458\n"
     ]
    },
    {
     "data": {
      "application/vnd.jupyter.widget-view+json": {
       "model_id": "89a479f5f48a4a3997f04a85d0d7dda6",
       "version_major": 2,
       "version_minor": 0
      },
      "text/plain": [
       "Training epoch 323:   0%|          | 0/307 [00:00<?, ?it/s]"
      ]
     },
     "metadata": {},
     "output_type": "display_data"
    },
    {
     "name": "stderr",
     "output_type": "stream",
     "text": [
      "INFO:root:Validation, Epoch: 323, Loss: 0.441\n"
     ]
    },
    {
     "data": {
      "application/vnd.jupyter.widget-view+json": {
       "model_id": "97f3a80315494a1d8263ef15446d48d0",
       "version_major": 2,
       "version_minor": 0
      },
      "text/plain": [
       "Training epoch 324:   0%|          | 0/307 [00:00<?, ?it/s]"
      ]
     },
     "metadata": {},
     "output_type": "display_data"
    },
    {
     "name": "stderr",
     "output_type": "stream",
     "text": [
      "INFO:root:Validation, Epoch: 324, Loss: 0.455\n"
     ]
    },
    {
     "data": {
      "application/vnd.jupyter.widget-view+json": {
       "model_id": "c02da79a709a434e8925887e35c1d6cb",
       "version_major": 2,
       "version_minor": 0
      },
      "text/plain": [
       "Training epoch 325:   0%|          | 0/307 [00:00<?, ?it/s]"
      ]
     },
     "metadata": {},
     "output_type": "display_data"
    },
    {
     "name": "stderr",
     "output_type": "stream",
     "text": [
      "INFO:root:Validation, Epoch: 325, Loss: 0.465\n"
     ]
    },
    {
     "data": {
      "application/vnd.jupyter.widget-view+json": {
       "model_id": "b58dec35100f4e20a20cd074f949804f",
       "version_major": 2,
       "version_minor": 0
      },
      "text/plain": [
       "Training epoch 326:   0%|          | 0/307 [00:00<?, ?it/s]"
      ]
     },
     "metadata": {},
     "output_type": "display_data"
    },
    {
     "name": "stderr",
     "output_type": "stream",
     "text": [
      "INFO:root:Validation, Epoch: 326, Loss: 0.452\n"
     ]
    },
    {
     "data": {
      "application/vnd.jupyter.widget-view+json": {
       "model_id": "56a5548ddd714745a054c293ecea4647",
       "version_major": 2,
       "version_minor": 0
      },
      "text/plain": [
       "Training epoch 327:   0%|          | 0/307 [00:00<?, ?it/s]"
      ]
     },
     "metadata": {},
     "output_type": "display_data"
    },
    {
     "name": "stderr",
     "output_type": "stream",
     "text": [
      "INFO:root:Validation, Epoch: 327, Loss: 0.459\n"
     ]
    },
    {
     "data": {
      "application/vnd.jupyter.widget-view+json": {
       "model_id": "ef816b7e251844969030a95f52c2d016",
       "version_major": 2,
       "version_minor": 0
      },
      "text/plain": [
       "Training epoch 328:   0%|          | 0/307 [00:00<?, ?it/s]"
      ]
     },
     "metadata": {},
     "output_type": "display_data"
    },
    {
     "name": "stderr",
     "output_type": "stream",
     "text": [
      "INFO:root:Validation, Epoch: 328, Loss: 0.457\n"
     ]
    },
    {
     "data": {
      "application/vnd.jupyter.widget-view+json": {
       "model_id": "5c56b416406e42539b681e4e4c6c3841",
       "version_major": 2,
       "version_minor": 0
      },
      "text/plain": [
       "Training epoch 329:   0%|          | 0/307 [00:00<?, ?it/s]"
      ]
     },
     "metadata": {},
     "output_type": "display_data"
    },
    {
     "name": "stderr",
     "output_type": "stream",
     "text": [
      "INFO:root:Validation, Epoch: 329, Loss: 0.467\n"
     ]
    },
    {
     "data": {
      "application/vnd.jupyter.widget-view+json": {
       "model_id": "f33f69215b584cfeb8fb902b044ce922",
       "version_major": 2,
       "version_minor": 0
      },
      "text/plain": [
       "Training epoch 330:   0%|          | 0/307 [00:00<?, ?it/s]"
      ]
     },
     "metadata": {},
     "output_type": "display_data"
    },
    {
     "name": "stderr",
     "output_type": "stream",
     "text": [
      "INFO:root:Validation, Epoch: 330, Loss: 0.464\n"
     ]
    },
    {
     "data": {
      "application/vnd.jupyter.widget-view+json": {
       "model_id": "5e9b28a482ed41d2aa1b216a43a8d8a9",
       "version_major": 2,
       "version_minor": 0
      },
      "text/plain": [
       "Training epoch 331:   0%|          | 0/307 [00:00<?, ?it/s]"
      ]
     },
     "metadata": {},
     "output_type": "display_data"
    },
    {
     "name": "stderr",
     "output_type": "stream",
     "text": [
      "INFO:root:Validation, Epoch: 331, Loss: 0.480\n"
     ]
    },
    {
     "data": {
      "application/vnd.jupyter.widget-view+json": {
       "model_id": "ce5ffedf72e54b19906f89d57de4533a",
       "version_major": 2,
       "version_minor": 0
      },
      "text/plain": [
       "Training epoch 332:   0%|          | 0/307 [00:00<?, ?it/s]"
      ]
     },
     "metadata": {},
     "output_type": "display_data"
    },
    {
     "name": "stderr",
     "output_type": "stream",
     "text": [
      "INFO:root:Validation, Epoch: 332, Loss: 0.464\n"
     ]
    },
    {
     "data": {
      "application/vnd.jupyter.widget-view+json": {
       "model_id": "22d9adeb11e345979d3de63f4ab8019d",
       "version_major": 2,
       "version_minor": 0
      },
      "text/plain": [
       "Training epoch 333:   0%|          | 0/307 [00:00<?, ?it/s]"
      ]
     },
     "metadata": {},
     "output_type": "display_data"
    },
    {
     "name": "stderr",
     "output_type": "stream",
     "text": [
      "INFO:root:Validation, Epoch: 333, Loss: 0.464\n"
     ]
    },
    {
     "data": {
      "application/vnd.jupyter.widget-view+json": {
       "model_id": "6e331552c7fa4f00ae694c4cb6358192",
       "version_major": 2,
       "version_minor": 0
      },
      "text/plain": [
       "Training epoch 334:   0%|          | 0/307 [00:00<?, ?it/s]"
      ]
     },
     "metadata": {},
     "output_type": "display_data"
    },
    {
     "name": "stderr",
     "output_type": "stream",
     "text": [
      "INFO:root:Validation, Epoch: 334, Loss: 0.444\n"
     ]
    },
    {
     "data": {
      "application/vnd.jupyter.widget-view+json": {
       "model_id": "eadae055fe11419ea29c157eac9052a6",
       "version_major": 2,
       "version_minor": 0
      },
      "text/plain": [
       "Training epoch 335:   0%|          | 0/307 [00:00<?, ?it/s]"
      ]
     },
     "metadata": {},
     "output_type": "display_data"
    },
    {
     "name": "stderr",
     "output_type": "stream",
     "text": [
      "INFO:root:Validation, Epoch: 335, Loss: 0.443\n"
     ]
    },
    {
     "data": {
      "application/vnd.jupyter.widget-view+json": {
       "model_id": "80f6f73bad99488898782da55d7dc7cb",
       "version_major": 2,
       "version_minor": 0
      },
      "text/plain": [
       "Training epoch 336:   0%|          | 0/307 [00:00<?, ?it/s]"
      ]
     },
     "metadata": {},
     "output_type": "display_data"
    },
    {
     "name": "stderr",
     "output_type": "stream",
     "text": [
      "INFO:root:Validation, Epoch: 336, Loss: 0.451\n"
     ]
    },
    {
     "data": {
      "application/vnd.jupyter.widget-view+json": {
       "model_id": "b4329c6591cb48538c6f6fc69b2b827f",
       "version_major": 2,
       "version_minor": 0
      },
      "text/plain": [
       "Training epoch 337:   0%|          | 0/307 [00:00<?, ?it/s]"
      ]
     },
     "metadata": {},
     "output_type": "display_data"
    },
    {
     "name": "stderr",
     "output_type": "stream",
     "text": [
      "INFO:root:Validation, Epoch: 337, Loss: 0.451\n"
     ]
    },
    {
     "data": {
      "application/vnd.jupyter.widget-view+json": {
       "model_id": "1fa6903708e1495194e7161cfbcbba7c",
       "version_major": 2,
       "version_minor": 0
      },
      "text/plain": [
       "Training epoch 338:   0%|          | 0/307 [00:00<?, ?it/s]"
      ]
     },
     "metadata": {},
     "output_type": "display_data"
    },
    {
     "name": "stderr",
     "output_type": "stream",
     "text": [
      "INFO:root:Validation, Epoch: 338, Loss: 0.448\n"
     ]
    },
    {
     "data": {
      "application/vnd.jupyter.widget-view+json": {
       "model_id": "7f5d858fe2664758bc497ae3c16c46f3",
       "version_major": 2,
       "version_minor": 0
      },
      "text/plain": [
       "Training epoch 339:   0%|          | 0/307 [00:00<?, ?it/s]"
      ]
     },
     "metadata": {},
     "output_type": "display_data"
    },
    {
     "name": "stderr",
     "output_type": "stream",
     "text": [
      "INFO:root:Validation, Epoch: 339, Loss: 0.446\n"
     ]
    },
    {
     "data": {
      "application/vnd.jupyter.widget-view+json": {
       "model_id": "f39d0d3bae7c40038c87f5c5a21581e0",
       "version_major": 2,
       "version_minor": 0
      },
      "text/plain": [
       "Training epoch 340:   0%|          | 0/307 [00:00<?, ?it/s]"
      ]
     },
     "metadata": {},
     "output_type": "display_data"
    },
    {
     "name": "stderr",
     "output_type": "stream",
     "text": [
      "INFO:root:Validation, Epoch: 340, Loss: 0.449\n"
     ]
    },
    {
     "data": {
      "application/vnd.jupyter.widget-view+json": {
       "model_id": "a3eca99e7a5e4692adf9f61a2402a6de",
       "version_major": 2,
       "version_minor": 0
      },
      "text/plain": [
       "Training epoch 341:   0%|          | 0/307 [00:00<?, ?it/s]"
      ]
     },
     "metadata": {},
     "output_type": "display_data"
    },
    {
     "name": "stderr",
     "output_type": "stream",
     "text": [
      "INFO:root:Validation, Epoch: 341, Loss: 0.461\n"
     ]
    },
    {
     "data": {
      "application/vnd.jupyter.widget-view+json": {
       "model_id": "7c240ed00b284cd59592cbc0554d6b11",
       "version_major": 2,
       "version_minor": 0
      },
      "text/plain": [
       "Training epoch 342:   0%|          | 0/307 [00:00<?, ?it/s]"
      ]
     },
     "metadata": {},
     "output_type": "display_data"
    },
    {
     "name": "stderr",
     "output_type": "stream",
     "text": [
      "INFO:root:Validation, Epoch: 342, Loss: 0.469\n"
     ]
    },
    {
     "data": {
      "application/vnd.jupyter.widget-view+json": {
       "model_id": "b40d42f2629a47579e56f55d945d9557",
       "version_major": 2,
       "version_minor": 0
      },
      "text/plain": [
       "Training epoch 343:   0%|          | 0/307 [00:00<?, ?it/s]"
      ]
     },
     "metadata": {},
     "output_type": "display_data"
    },
    {
     "name": "stderr",
     "output_type": "stream",
     "text": [
      "INFO:root:Validation, Epoch: 343, Loss: 0.450\n"
     ]
    },
    {
     "data": {
      "application/vnd.jupyter.widget-view+json": {
       "model_id": "0e813dfcde0742d08d3f32e795c7fca6",
       "version_major": 2,
       "version_minor": 0
      },
      "text/plain": [
       "Training epoch 344:   0%|          | 0/307 [00:00<?, ?it/s]"
      ]
     },
     "metadata": {},
     "output_type": "display_data"
    },
    {
     "name": "stderr",
     "output_type": "stream",
     "text": [
      "INFO:root:Validation, Epoch: 344, Loss: 0.482\n"
     ]
    },
    {
     "data": {
      "application/vnd.jupyter.widget-view+json": {
       "model_id": "3373004186a2400c9023c323c099438f",
       "version_major": 2,
       "version_minor": 0
      },
      "text/plain": [
       "Training epoch 345:   0%|          | 0/307 [00:00<?, ?it/s]"
      ]
     },
     "metadata": {},
     "output_type": "display_data"
    },
    {
     "name": "stderr",
     "output_type": "stream",
     "text": [
      "INFO:root:Validation, Epoch: 345, Loss: 0.448\n"
     ]
    },
    {
     "data": {
      "application/vnd.jupyter.widget-view+json": {
       "model_id": "08fe5ce26aae428b8792853b8299df68",
       "version_major": 2,
       "version_minor": 0
      },
      "text/plain": [
       "Training epoch 346:   0%|          | 0/307 [00:00<?, ?it/s]"
      ]
     },
     "metadata": {},
     "output_type": "display_data"
    },
    {
     "name": "stderr",
     "output_type": "stream",
     "text": [
      "INFO:root:Validation, Epoch: 346, Loss: 0.458\n"
     ]
    },
    {
     "data": {
      "application/vnd.jupyter.widget-view+json": {
       "model_id": "e836c0f0deb64977b1d91cac9bee89ff",
       "version_major": 2,
       "version_minor": 0
      },
      "text/plain": [
       "Training epoch 347:   0%|          | 0/307 [00:00<?, ?it/s]"
      ]
     },
     "metadata": {},
     "output_type": "display_data"
    },
    {
     "name": "stderr",
     "output_type": "stream",
     "text": [
      "INFO:root:Validation, Epoch: 347, Loss: 0.448\n"
     ]
    },
    {
     "data": {
      "application/vnd.jupyter.widget-view+json": {
       "model_id": "abe1f0c8037444039ec08970494efa47",
       "version_major": 2,
       "version_minor": 0
      },
      "text/plain": [
       "Training epoch 348:   0%|          | 0/307 [00:00<?, ?it/s]"
      ]
     },
     "metadata": {},
     "output_type": "display_data"
    },
    {
     "name": "stderr",
     "output_type": "stream",
     "text": [
      "INFO:root:Validation, Epoch: 348, Loss: 0.460\n"
     ]
    },
    {
     "data": {
      "application/vnd.jupyter.widget-view+json": {
       "model_id": "d9bd1af8936f4286a2399481fc2ce87d",
       "version_major": 2,
       "version_minor": 0
      },
      "text/plain": [
       "Training epoch 349:   0%|          | 0/307 [00:00<?, ?it/s]"
      ]
     },
     "metadata": {},
     "output_type": "display_data"
    },
    {
     "name": "stderr",
     "output_type": "stream",
     "text": [
      "INFO:root:Validation, Epoch: 349, Loss: 0.462\n"
     ]
    },
    {
     "data": {
      "application/vnd.jupyter.widget-view+json": {
       "model_id": "43c16d5bb1ca4d5194776590d8c58688",
       "version_major": 2,
       "version_minor": 0
      },
      "text/plain": [
       "Training epoch 350:   0%|          | 0/307 [00:00<?, ?it/s]"
      ]
     },
     "metadata": {},
     "output_type": "display_data"
    },
    {
     "name": "stderr",
     "output_type": "stream",
     "text": [
      "INFO:root:Validation, Epoch: 350, Loss: 0.462\n"
     ]
    },
    {
     "data": {
      "application/vnd.jupyter.widget-view+json": {
       "model_id": "4be6b05e146547bcbd819fe65bf34c9a",
       "version_major": 2,
       "version_minor": 0
      },
      "text/plain": [
       "Training epoch 351:   0%|          | 0/307 [00:00<?, ?it/s]"
      ]
     },
     "metadata": {},
     "output_type": "display_data"
    },
    {
     "name": "stderr",
     "output_type": "stream",
     "text": [
      "INFO:root:Validation, Epoch: 351, Loss: 0.454\n"
     ]
    },
    {
     "data": {
      "application/vnd.jupyter.widget-view+json": {
       "model_id": "a7474f07f187424ab776a1325fa344aa",
       "version_major": 2,
       "version_minor": 0
      },
      "text/plain": [
       "Training epoch 352:   0%|          | 0/307 [00:00<?, ?it/s]"
      ]
     },
     "metadata": {},
     "output_type": "display_data"
    },
    {
     "name": "stderr",
     "output_type": "stream",
     "text": [
      "INFO:root:Validation, Epoch: 352, Loss: 0.473\n"
     ]
    },
    {
     "data": {
      "application/vnd.jupyter.widget-view+json": {
       "model_id": "01409acc86534f01b6e2bacf5c296af2",
       "version_major": 2,
       "version_minor": 0
      },
      "text/plain": [
       "Training epoch 353:   0%|          | 0/307 [00:00<?, ?it/s]"
      ]
     },
     "metadata": {},
     "output_type": "display_data"
    },
    {
     "name": "stderr",
     "output_type": "stream",
     "text": [
      "INFO:root:Validation, Epoch: 353, Loss: 0.427\n"
     ]
    },
    {
     "data": {
      "application/vnd.jupyter.widget-view+json": {
       "model_id": "8cedb252cbb1439b8e955d6bc01bacd0",
       "version_major": 2,
       "version_minor": 0
      },
      "text/plain": [
       "Training epoch 354:   0%|          | 0/307 [00:00<?, ?it/s]"
      ]
     },
     "metadata": {},
     "output_type": "display_data"
    },
    {
     "name": "stderr",
     "output_type": "stream",
     "text": [
      "INFO:root:Validation, Epoch: 354, Loss: 0.465\n"
     ]
    },
    {
     "data": {
      "application/vnd.jupyter.widget-view+json": {
       "model_id": "2dfe997956fe4a6a9f67055eb2ff51f2",
       "version_major": 2,
       "version_minor": 0
      },
      "text/plain": [
       "Training epoch 355:   0%|          | 0/307 [00:00<?, ?it/s]"
      ]
     },
     "metadata": {},
     "output_type": "display_data"
    },
    {
     "name": "stderr",
     "output_type": "stream",
     "text": [
      "INFO:root:Validation, Epoch: 355, Loss: 0.468\n"
     ]
    },
    {
     "data": {
      "application/vnd.jupyter.widget-view+json": {
       "model_id": "83ff761bea764e6ba2b0c497d038f08d",
       "version_major": 2,
       "version_minor": 0
      },
      "text/plain": [
       "Training epoch 356:   0%|          | 0/307 [00:00<?, ?it/s]"
      ]
     },
     "metadata": {},
     "output_type": "display_data"
    },
    {
     "name": "stderr",
     "output_type": "stream",
     "text": [
      "INFO:root:Validation, Epoch: 356, Loss: 0.441\n"
     ]
    },
    {
     "data": {
      "application/vnd.jupyter.widget-view+json": {
       "model_id": "f2dba51b49264252a51ad33d1f3df66a",
       "version_major": 2,
       "version_minor": 0
      },
      "text/plain": [
       "Training epoch 357:   0%|          | 0/307 [00:00<?, ?it/s]"
      ]
     },
     "metadata": {},
     "output_type": "display_data"
    },
    {
     "name": "stderr",
     "output_type": "stream",
     "text": [
      "INFO:root:Validation, Epoch: 357, Loss: 0.450\n"
     ]
    },
    {
     "data": {
      "application/vnd.jupyter.widget-view+json": {
       "model_id": "7fa3252eb6e84322b0df3a885bc46511",
       "version_major": 2,
       "version_minor": 0
      },
      "text/plain": [
       "Training epoch 358:   0%|          | 0/307 [00:00<?, ?it/s]"
      ]
     },
     "metadata": {},
     "output_type": "display_data"
    },
    {
     "name": "stderr",
     "output_type": "stream",
     "text": [
      "INFO:root:Validation, Epoch: 358, Loss: 0.452\n"
     ]
    },
    {
     "data": {
      "application/vnd.jupyter.widget-view+json": {
       "model_id": "5fa5566883954e969c47f9db037cc2fa",
       "version_major": 2,
       "version_minor": 0
      },
      "text/plain": [
       "Training epoch 359:   0%|          | 0/307 [00:00<?, ?it/s]"
      ]
     },
     "metadata": {},
     "output_type": "display_data"
    },
    {
     "name": "stderr",
     "output_type": "stream",
     "text": [
      "INFO:root:Validation, Epoch: 359, Loss: 0.433\n"
     ]
    },
    {
     "data": {
      "application/vnd.jupyter.widget-view+json": {
       "model_id": "4e35ad4dd8b74553be37922c4a8a68e4",
       "version_major": 2,
       "version_minor": 0
      },
      "text/plain": [
       "Training epoch 360:   0%|          | 0/307 [00:00<?, ?it/s]"
      ]
     },
     "metadata": {},
     "output_type": "display_data"
    },
    {
     "name": "stderr",
     "output_type": "stream",
     "text": [
      "INFO:root:Validation, Epoch: 360, Loss: 0.464\n"
     ]
    },
    {
     "data": {
      "application/vnd.jupyter.widget-view+json": {
       "model_id": "87624526bfea4fbcabb5b47c5d3d269f",
       "version_major": 2,
       "version_minor": 0
      },
      "text/plain": [
       "Training epoch 361:   0%|          | 0/307 [00:00<?, ?it/s]"
      ]
     },
     "metadata": {},
     "output_type": "display_data"
    },
    {
     "name": "stderr",
     "output_type": "stream",
     "text": [
      "INFO:root:Validation, Epoch: 361, Loss: 0.465\n"
     ]
    },
    {
     "data": {
      "application/vnd.jupyter.widget-view+json": {
       "model_id": "915a0e7ce8d64093902406ac5ea7537c",
       "version_major": 2,
       "version_minor": 0
      },
      "text/plain": [
       "Training epoch 362:   0%|          | 0/307 [00:00<?, ?it/s]"
      ]
     },
     "metadata": {},
     "output_type": "display_data"
    },
    {
     "name": "stderr",
     "output_type": "stream",
     "text": [
      "INFO:root:Validation, Epoch: 362, Loss: 0.465\n"
     ]
    },
    {
     "data": {
      "application/vnd.jupyter.widget-view+json": {
       "model_id": "158d6dc6e1d745da80735e5771a80df0",
       "version_major": 2,
       "version_minor": 0
      },
      "text/plain": [
       "Training epoch 363:   0%|          | 0/307 [00:00<?, ?it/s]"
      ]
     },
     "metadata": {},
     "output_type": "display_data"
    },
    {
     "name": "stderr",
     "output_type": "stream",
     "text": [
      "INFO:root:Validation, Epoch: 363, Loss: 0.443\n"
     ]
    },
    {
     "data": {
      "application/vnd.jupyter.widget-view+json": {
       "model_id": "a19d572f9624490c9af20aa2e96e9209",
       "version_major": 2,
       "version_minor": 0
      },
      "text/plain": [
       "Training epoch 364:   0%|          | 0/307 [00:00<?, ?it/s]"
      ]
     },
     "metadata": {},
     "output_type": "display_data"
    },
    {
     "name": "stderr",
     "output_type": "stream",
     "text": [
      "INFO:root:Validation, Epoch: 364, Loss: 0.438\n"
     ]
    },
    {
     "data": {
      "application/vnd.jupyter.widget-view+json": {
       "model_id": "c32d1c5e824d4f2db9f826744f00efa3",
       "version_major": 2,
       "version_minor": 0
      },
      "text/plain": [
       "Training epoch 365:   0%|          | 0/307 [00:00<?, ?it/s]"
      ]
     },
     "metadata": {},
     "output_type": "display_data"
    },
    {
     "name": "stderr",
     "output_type": "stream",
     "text": [
      "INFO:root:Validation, Epoch: 365, Loss: 0.453\n"
     ]
    },
    {
     "data": {
      "application/vnd.jupyter.widget-view+json": {
       "model_id": "783c16eb3be144c49a7578070258fe5a",
       "version_major": 2,
       "version_minor": 0
      },
      "text/plain": [
       "Training epoch 366:   0%|          | 0/307 [00:00<?, ?it/s]"
      ]
     },
     "metadata": {},
     "output_type": "display_data"
    },
    {
     "name": "stderr",
     "output_type": "stream",
     "text": [
      "INFO:root:Validation, Epoch: 366, Loss: 0.449\n"
     ]
    },
    {
     "data": {
      "application/vnd.jupyter.widget-view+json": {
       "model_id": "2d9fde186745493aa8889193dd13c3f8",
       "version_major": 2,
       "version_minor": 0
      },
      "text/plain": [
       "Training epoch 367:   0%|          | 0/307 [00:00<?, ?it/s]"
      ]
     },
     "metadata": {},
     "output_type": "display_data"
    },
    {
     "name": "stderr",
     "output_type": "stream",
     "text": [
      "INFO:root:Validation, Epoch: 367, Loss: 0.436\n"
     ]
    },
    {
     "data": {
      "application/vnd.jupyter.widget-view+json": {
       "model_id": "dbf556c538d84fbc98ae52821f555690",
       "version_major": 2,
       "version_minor": 0
      },
      "text/plain": [
       "Training epoch 368:   0%|          | 0/307 [00:00<?, ?it/s]"
      ]
     },
     "metadata": {},
     "output_type": "display_data"
    },
    {
     "name": "stderr",
     "output_type": "stream",
     "text": [
      "INFO:root:Validation, Epoch: 368, Loss: 0.440\n"
     ]
    },
    {
     "data": {
      "application/vnd.jupyter.widget-view+json": {
       "model_id": "f1f0b934dcc9431b9427e82cc9e6dff8",
       "version_major": 2,
       "version_minor": 0
      },
      "text/plain": [
       "Training epoch 369:   0%|          | 0/307 [00:00<?, ?it/s]"
      ]
     },
     "metadata": {},
     "output_type": "display_data"
    },
    {
     "name": "stderr",
     "output_type": "stream",
     "text": [
      "INFO:root:Validation, Epoch: 369, Loss: 0.467\n"
     ]
    },
    {
     "data": {
      "application/vnd.jupyter.widget-view+json": {
       "model_id": "277376e3ad464f5ea6f526da9f91ebc8",
       "version_major": 2,
       "version_minor": 0
      },
      "text/plain": [
       "Training epoch 370:   0%|          | 0/307 [00:00<?, ?it/s]"
      ]
     },
     "metadata": {},
     "output_type": "display_data"
    },
    {
     "name": "stderr",
     "output_type": "stream",
     "text": [
      "INFO:root:Validation, Epoch: 370, Loss: 0.454\n"
     ]
    },
    {
     "data": {
      "application/vnd.jupyter.widget-view+json": {
       "model_id": "aacc2aa1e26946338a10dd7950b4b6e9",
       "version_major": 2,
       "version_minor": 0
      },
      "text/plain": [
       "Training epoch 371:   0%|          | 0/307 [00:00<?, ?it/s]"
      ]
     },
     "metadata": {},
     "output_type": "display_data"
    },
    {
     "name": "stderr",
     "output_type": "stream",
     "text": [
      "INFO:root:Validation, Epoch: 371, Loss: 0.469\n"
     ]
    },
    {
     "data": {
      "application/vnd.jupyter.widget-view+json": {
       "model_id": "695acdf6a3664064a0d06270806fddbc",
       "version_major": 2,
       "version_minor": 0
      },
      "text/plain": [
       "Training epoch 372:   0%|          | 0/307 [00:00<?, ?it/s]"
      ]
     },
     "metadata": {},
     "output_type": "display_data"
    },
    {
     "name": "stderr",
     "output_type": "stream",
     "text": [
      "INFO:root:Validation, Epoch: 372, Loss: 0.454\n"
     ]
    },
    {
     "data": {
      "application/vnd.jupyter.widget-view+json": {
       "model_id": "15a63b1bc5eb49e59c28f1da79795ac2",
       "version_major": 2,
       "version_minor": 0
      },
      "text/plain": [
       "Training epoch 373:   0%|          | 0/307 [00:00<?, ?it/s]"
      ]
     },
     "metadata": {},
     "output_type": "display_data"
    },
    {
     "name": "stderr",
     "output_type": "stream",
     "text": [
      "INFO:root:Validation, Epoch: 373, Loss: 0.463\n"
     ]
    },
    {
     "data": {
      "application/vnd.jupyter.widget-view+json": {
       "model_id": "38642c8c94c247d0b09bdd16ca15c588",
       "version_major": 2,
       "version_minor": 0
      },
      "text/plain": [
       "Training epoch 374:   0%|          | 0/307 [00:00<?, ?it/s]"
      ]
     },
     "metadata": {},
     "output_type": "display_data"
    },
    {
     "name": "stderr",
     "output_type": "stream",
     "text": [
      "INFO:root:Validation, Epoch: 374, Loss: 0.453\n"
     ]
    },
    {
     "data": {
      "application/vnd.jupyter.widget-view+json": {
       "model_id": "e6e4e4b7600b4878abf52f3d9415fb79",
       "version_major": 2,
       "version_minor": 0
      },
      "text/plain": [
       "Training epoch 375:   0%|          | 0/307 [00:00<?, ?it/s]"
      ]
     },
     "metadata": {},
     "output_type": "display_data"
    },
    {
     "name": "stderr",
     "output_type": "stream",
     "text": [
      "INFO:root:Validation, Epoch: 375, Loss: 0.451\n"
     ]
    },
    {
     "data": {
      "application/vnd.jupyter.widget-view+json": {
       "model_id": "6a3c355045e142f39c2cd70a4ec6f1e1",
       "version_major": 2,
       "version_minor": 0
      },
      "text/plain": [
       "Training epoch 376:   0%|          | 0/307 [00:00<?, ?it/s]"
      ]
     },
     "metadata": {},
     "output_type": "display_data"
    },
    {
     "name": "stderr",
     "output_type": "stream",
     "text": [
      "INFO:root:Validation, Epoch: 376, Loss: 0.430\n"
     ]
    },
    {
     "data": {
      "application/vnd.jupyter.widget-view+json": {
       "model_id": "dd3661f4e7fe44fb9c0cc8d8c8a90bdb",
       "version_major": 2,
       "version_minor": 0
      },
      "text/plain": [
       "Training epoch 377:   0%|          | 0/307 [00:00<?, ?it/s]"
      ]
     },
     "metadata": {},
     "output_type": "display_data"
    },
    {
     "name": "stderr",
     "output_type": "stream",
     "text": [
      "INFO:root:Validation, Epoch: 377, Loss: 0.449\n"
     ]
    },
    {
     "data": {
      "application/vnd.jupyter.widget-view+json": {
       "model_id": "ada1597997e0466097f3135f47219b59",
       "version_major": 2,
       "version_minor": 0
      },
      "text/plain": [
       "Training epoch 378:   0%|          | 0/307 [00:00<?, ?it/s]"
      ]
     },
     "metadata": {},
     "output_type": "display_data"
    },
    {
     "name": "stderr",
     "output_type": "stream",
     "text": [
      "INFO:root:Validation, Epoch: 378, Loss: 0.453\n"
     ]
    },
    {
     "data": {
      "application/vnd.jupyter.widget-view+json": {
       "model_id": "9a0884d5eacc45809174808a93f3f2a9",
       "version_major": 2,
       "version_minor": 0
      },
      "text/plain": [
       "Training epoch 379:   0%|          | 0/307 [00:00<?, ?it/s]"
      ]
     },
     "metadata": {},
     "output_type": "display_data"
    },
    {
     "name": "stderr",
     "output_type": "stream",
     "text": [
      "INFO:root:Validation, Epoch: 379, Loss: 0.433\n"
     ]
    },
    {
     "data": {
      "application/vnd.jupyter.widget-view+json": {
       "model_id": "46fc4ff6baea4c69b314b6e5e45dc80b",
       "version_major": 2,
       "version_minor": 0
      },
      "text/plain": [
       "Training epoch 380:   0%|          | 0/307 [00:00<?, ?it/s]"
      ]
     },
     "metadata": {},
     "output_type": "display_data"
    },
    {
     "name": "stderr",
     "output_type": "stream",
     "text": [
      "INFO:root:Validation, Epoch: 380, Loss: 0.471\n"
     ]
    },
    {
     "data": {
      "application/vnd.jupyter.widget-view+json": {
       "model_id": "ac31abe0c13a42d7a8a60d138f8013ca",
       "version_major": 2,
       "version_minor": 0
      },
      "text/plain": [
       "Training epoch 381:   0%|          | 0/307 [00:00<?, ?it/s]"
      ]
     },
     "metadata": {},
     "output_type": "display_data"
    },
    {
     "name": "stderr",
     "output_type": "stream",
     "text": [
      "INFO:root:Validation, Epoch: 381, Loss: 0.441\n"
     ]
    },
    {
     "data": {
      "application/vnd.jupyter.widget-view+json": {
       "model_id": "2e41957972a448a686e65f4365f79100",
       "version_major": 2,
       "version_minor": 0
      },
      "text/plain": [
       "Training epoch 382:   0%|          | 0/307 [00:00<?, ?it/s]"
      ]
     },
     "metadata": {},
     "output_type": "display_data"
    },
    {
     "name": "stderr",
     "output_type": "stream",
     "text": [
      "INFO:root:Validation, Epoch: 382, Loss: 0.451\n"
     ]
    },
    {
     "data": {
      "application/vnd.jupyter.widget-view+json": {
       "model_id": "8f2f0b38ebd64ba9b32f1d71feea9d0d",
       "version_major": 2,
       "version_minor": 0
      },
      "text/plain": [
       "Training epoch 383:   0%|          | 0/307 [00:00<?, ?it/s]"
      ]
     },
     "metadata": {},
     "output_type": "display_data"
    },
    {
     "name": "stderr",
     "output_type": "stream",
     "text": [
      "INFO:root:Validation, Epoch: 383, Loss: 0.451\n"
     ]
    },
    {
     "data": {
      "application/vnd.jupyter.widget-view+json": {
       "model_id": "0c7e99593f6a4f8a8d0c593543f4a20a",
       "version_major": 2,
       "version_minor": 0
      },
      "text/plain": [
       "Training epoch 384:   0%|          | 0/307 [00:00<?, ?it/s]"
      ]
     },
     "metadata": {},
     "output_type": "display_data"
    },
    {
     "name": "stderr",
     "output_type": "stream",
     "text": [
      "INFO:root:Validation, Epoch: 384, Loss: 0.467\n"
     ]
    },
    {
     "data": {
      "application/vnd.jupyter.widget-view+json": {
       "model_id": "4e4067b227b043f4b80ed756bf5116b8",
       "version_major": 2,
       "version_minor": 0
      },
      "text/plain": [
       "Training epoch 385:   0%|          | 0/307 [00:00<?, ?it/s]"
      ]
     },
     "metadata": {},
     "output_type": "display_data"
    },
    {
     "name": "stderr",
     "output_type": "stream",
     "text": [
      "INFO:root:Validation, Epoch: 385, Loss: 0.455\n"
     ]
    },
    {
     "data": {
      "application/vnd.jupyter.widget-view+json": {
       "model_id": "a2cb17b6aa364371b94c9325bce68ccf",
       "version_major": 2,
       "version_minor": 0
      },
      "text/plain": [
       "Training epoch 386:   0%|          | 0/307 [00:00<?, ?it/s]"
      ]
     },
     "metadata": {},
     "output_type": "display_data"
    },
    {
     "name": "stderr",
     "output_type": "stream",
     "text": [
      "INFO:root:Validation, Epoch: 386, Loss: 0.443\n"
     ]
    },
    {
     "data": {
      "application/vnd.jupyter.widget-view+json": {
       "model_id": "522417d866294feb9df7a4cd64b234eb",
       "version_major": 2,
       "version_minor": 0
      },
      "text/plain": [
       "Training epoch 387:   0%|          | 0/307 [00:00<?, ?it/s]"
      ]
     },
     "metadata": {},
     "output_type": "display_data"
    },
    {
     "name": "stderr",
     "output_type": "stream",
     "text": [
      "INFO:root:Validation, Epoch: 387, Loss: 0.444\n"
     ]
    },
    {
     "data": {
      "application/vnd.jupyter.widget-view+json": {
       "model_id": "0ee3a82b6ab242d5852ed9dc5ac44355",
       "version_major": 2,
       "version_minor": 0
      },
      "text/plain": [
       "Training epoch 388:   0%|          | 0/307 [00:00<?, ?it/s]"
      ]
     },
     "metadata": {},
     "output_type": "display_data"
    },
    {
     "name": "stderr",
     "output_type": "stream",
     "text": [
      "INFO:root:Validation, Epoch: 388, Loss: 0.457\n"
     ]
    },
    {
     "data": {
      "application/vnd.jupyter.widget-view+json": {
       "model_id": "59f322b21e94420e8f08afc644f93fac",
       "version_major": 2,
       "version_minor": 0
      },
      "text/plain": [
       "Training epoch 389:   0%|          | 0/307 [00:00<?, ?it/s]"
      ]
     },
     "metadata": {},
     "output_type": "display_data"
    },
    {
     "name": "stderr",
     "output_type": "stream",
     "text": [
      "INFO:root:Validation, Epoch: 389, Loss: 0.448\n"
     ]
    },
    {
     "data": {
      "application/vnd.jupyter.widget-view+json": {
       "model_id": "64af27b676894bd7ae427749004eeceb",
       "version_major": 2,
       "version_minor": 0
      },
      "text/plain": [
       "Training epoch 390:   0%|          | 0/307 [00:00<?, ?it/s]"
      ]
     },
     "metadata": {},
     "output_type": "display_data"
    },
    {
     "name": "stderr",
     "output_type": "stream",
     "text": [
      "INFO:root:Validation, Epoch: 390, Loss: 0.453\n"
     ]
    },
    {
     "data": {
      "application/vnd.jupyter.widget-view+json": {
       "model_id": "0249d0ee64ca4524964d1b0aaef6c6a2",
       "version_major": 2,
       "version_minor": 0
      },
      "text/plain": [
       "Training epoch 391:   0%|          | 0/307 [00:00<?, ?it/s]"
      ]
     },
     "metadata": {},
     "output_type": "display_data"
    },
    {
     "name": "stderr",
     "output_type": "stream",
     "text": [
      "INFO:root:Validation, Epoch: 391, Loss: 0.472\n"
     ]
    },
    {
     "data": {
      "application/vnd.jupyter.widget-view+json": {
       "model_id": "efe097a290aa40198e987f2fe675e100",
       "version_major": 2,
       "version_minor": 0
      },
      "text/plain": [
       "Training epoch 392:   0%|          | 0/307 [00:00<?, ?it/s]"
      ]
     },
     "metadata": {},
     "output_type": "display_data"
    },
    {
     "name": "stderr",
     "output_type": "stream",
     "text": [
      "INFO:root:Validation, Epoch: 392, Loss: 0.431\n"
     ]
    },
    {
     "data": {
      "application/vnd.jupyter.widget-view+json": {
       "model_id": "12a4c5b7bc604d15b661c8eea95d0cdd",
       "version_major": 2,
       "version_minor": 0
      },
      "text/plain": [
       "Training epoch 393:   0%|          | 0/307 [00:00<?, ?it/s]"
      ]
     },
     "metadata": {},
     "output_type": "display_data"
    },
    {
     "name": "stderr",
     "output_type": "stream",
     "text": [
      "INFO:root:Validation, Epoch: 393, Loss: 0.454\n"
     ]
    },
    {
     "data": {
      "application/vnd.jupyter.widget-view+json": {
       "model_id": "71eb3932d6e940fbadcbe34a4b18c5ef",
       "version_major": 2,
       "version_minor": 0
      },
      "text/plain": [
       "Training epoch 394:   0%|          | 0/307 [00:00<?, ?it/s]"
      ]
     },
     "metadata": {},
     "output_type": "display_data"
    },
    {
     "name": "stderr",
     "output_type": "stream",
     "text": [
      "INFO:root:Validation, Epoch: 394, Loss: 0.458\n"
     ]
    },
    {
     "data": {
      "application/vnd.jupyter.widget-view+json": {
       "model_id": "c18864387c0143ffa01e29568f6627b5",
       "version_major": 2,
       "version_minor": 0
      },
      "text/plain": [
       "Training epoch 395:   0%|          | 0/307 [00:00<?, ?it/s]"
      ]
     },
     "metadata": {},
     "output_type": "display_data"
    },
    {
     "name": "stderr",
     "output_type": "stream",
     "text": [
      "INFO:root:Validation, Epoch: 395, Loss: 0.485\n"
     ]
    },
    {
     "data": {
      "application/vnd.jupyter.widget-view+json": {
       "model_id": "e4f0a0c24e724feaa72ac23f5f156936",
       "version_major": 2,
       "version_minor": 0
      },
      "text/plain": [
       "Training epoch 396:   0%|          | 0/307 [00:00<?, ?it/s]"
      ]
     },
     "metadata": {},
     "output_type": "display_data"
    },
    {
     "name": "stderr",
     "output_type": "stream",
     "text": [
      "INFO:root:Validation, Epoch: 396, Loss: 0.441\n"
     ]
    },
    {
     "data": {
      "application/vnd.jupyter.widget-view+json": {
       "model_id": "0e5320ff9a6d41069e9009242a2f7c99",
       "version_major": 2,
       "version_minor": 0
      },
      "text/plain": [
       "Training epoch 397:   0%|          | 0/307 [00:00<?, ?it/s]"
      ]
     },
     "metadata": {},
     "output_type": "display_data"
    },
    {
     "name": "stderr",
     "output_type": "stream",
     "text": [
      "INFO:root:Validation, Epoch: 397, Loss: 0.451\n"
     ]
    },
    {
     "data": {
      "application/vnd.jupyter.widget-view+json": {
       "model_id": "f9ef2a4a362e4113bb25c63c935d1b2a",
       "version_major": 2,
       "version_minor": 0
      },
      "text/plain": [
       "Training epoch 398:   0%|          | 0/307 [00:00<?, ?it/s]"
      ]
     },
     "metadata": {},
     "output_type": "display_data"
    },
    {
     "name": "stderr",
     "output_type": "stream",
     "text": [
      "INFO:root:Validation, Epoch: 398, Loss: 0.456\n"
     ]
    },
    {
     "data": {
      "application/vnd.jupyter.widget-view+json": {
       "model_id": "e0ddc8e6445047e49ce7e97e018e0793",
       "version_major": 2,
       "version_minor": 0
      },
      "text/plain": [
       "Training epoch 399:   0%|          | 0/307 [00:00<?, ?it/s]"
      ]
     },
     "metadata": {},
     "output_type": "display_data"
    },
    {
     "name": "stderr",
     "output_type": "stream",
     "text": [
      "INFO:root:Validation, Epoch: 399, Loss: 0.461\n"
     ]
    },
    {
     "data": {
      "application/vnd.jupyter.widget-view+json": {
       "model_id": "08d38674968047508378a7ad0ecc35f4",
       "version_major": 2,
       "version_minor": 0
      },
      "text/plain": [
       "Training epoch 400:   0%|          | 0/307 [00:00<?, ?it/s]"
      ]
     },
     "metadata": {},
     "output_type": "display_data"
    },
    {
     "name": "stderr",
     "output_type": "stream",
     "text": [
      "INFO:root:Validation, Epoch: 400, Loss: 0.473\n"
     ]
    },
    {
     "data": {
      "application/vnd.jupyter.widget-view+json": {
       "model_id": "b7a45d3e5c7243b2a90d5c074ba715e6",
       "version_major": 2,
       "version_minor": 0
      },
      "text/plain": [
       "Training epoch 401:   0%|          | 0/307 [00:00<?, ?it/s]"
      ]
     },
     "metadata": {},
     "output_type": "display_data"
    },
    {
     "name": "stderr",
     "output_type": "stream",
     "text": [
      "INFO:root:Validation, Epoch: 401, Loss: 0.435\n"
     ]
    },
    {
     "data": {
      "application/vnd.jupyter.widget-view+json": {
       "model_id": "b6b34273a777433489c77eb27c0195af",
       "version_major": 2,
       "version_minor": 0
      },
      "text/plain": [
       "Training epoch 402:   0%|          | 0/307 [00:00<?, ?it/s]"
      ]
     },
     "metadata": {},
     "output_type": "display_data"
    },
    {
     "name": "stderr",
     "output_type": "stream",
     "text": [
      "INFO:root:Validation, Epoch: 402, Loss: 0.463\n"
     ]
    },
    {
     "data": {
      "application/vnd.jupyter.widget-view+json": {
       "model_id": "31ab8645e4ce422f91348bd3530d0481",
       "version_major": 2,
       "version_minor": 0
      },
      "text/plain": [
       "Training epoch 403:   0%|          | 0/307 [00:00<?, ?it/s]"
      ]
     },
     "metadata": {},
     "output_type": "display_data"
    },
    {
     "name": "stderr",
     "output_type": "stream",
     "text": [
      "INFO:root:Validation, Epoch: 403, Loss: 0.455\n"
     ]
    },
    {
     "data": {
      "application/vnd.jupyter.widget-view+json": {
       "model_id": "51d1a5fd9ae24ab5ab12e2a7b9f94339",
       "version_major": 2,
       "version_minor": 0
      },
      "text/plain": [
       "Training epoch 404:   0%|          | 0/307 [00:00<?, ?it/s]"
      ]
     },
     "metadata": {},
     "output_type": "display_data"
    },
    {
     "name": "stderr",
     "output_type": "stream",
     "text": [
      "INFO:root:Validation, Epoch: 404, Loss: 0.438\n"
     ]
    },
    {
     "data": {
      "application/vnd.jupyter.widget-view+json": {
       "model_id": "59971ec42c16486c815526f7e13aceda",
       "version_major": 2,
       "version_minor": 0
      },
      "text/plain": [
       "Training epoch 405:   0%|          | 0/307 [00:00<?, ?it/s]"
      ]
     },
     "metadata": {},
     "output_type": "display_data"
    },
    {
     "name": "stderr",
     "output_type": "stream",
     "text": [
      "INFO:root:Validation, Epoch: 405, Loss: 0.463\n"
     ]
    },
    {
     "data": {
      "application/vnd.jupyter.widget-view+json": {
       "model_id": "89eb8a5023af4540b8d5f9649dc8d177",
       "version_major": 2,
       "version_minor": 0
      },
      "text/plain": [
       "Training epoch 406:   0%|          | 0/307 [00:00<?, ?it/s]"
      ]
     },
     "metadata": {},
     "output_type": "display_data"
    },
    {
     "name": "stderr",
     "output_type": "stream",
     "text": [
      "INFO:root:Validation, Epoch: 406, Loss: 0.452\n"
     ]
    },
    {
     "data": {
      "application/vnd.jupyter.widget-view+json": {
       "model_id": "998e636813ce4bab853bcbd80cef4f0a",
       "version_major": 2,
       "version_minor": 0
      },
      "text/plain": [
       "Training epoch 407:   0%|          | 0/307 [00:00<?, ?it/s]"
      ]
     },
     "metadata": {},
     "output_type": "display_data"
    },
    {
     "name": "stderr",
     "output_type": "stream",
     "text": [
      "INFO:root:Validation, Epoch: 407, Loss: 0.444\n"
     ]
    },
    {
     "data": {
      "application/vnd.jupyter.widget-view+json": {
       "model_id": "c69327e37e034361bdbcfa8c48063cc1",
       "version_major": 2,
       "version_minor": 0
      },
      "text/plain": [
       "Training epoch 408:   0%|          | 0/307 [00:00<?, ?it/s]"
      ]
     },
     "metadata": {},
     "output_type": "display_data"
    },
    {
     "name": "stderr",
     "output_type": "stream",
     "text": [
      "INFO:root:Validation, Epoch: 408, Loss: 0.448\n"
     ]
    },
    {
     "data": {
      "application/vnd.jupyter.widget-view+json": {
       "model_id": "70e9ae2aba014fdcafb7d57bcea26044",
       "version_major": 2,
       "version_minor": 0
      },
      "text/plain": [
       "Training epoch 409:   0%|          | 0/307 [00:00<?, ?it/s]"
      ]
     },
     "metadata": {},
     "output_type": "display_data"
    },
    {
     "name": "stderr",
     "output_type": "stream",
     "text": [
      "INFO:root:Validation, Epoch: 409, Loss: 0.444\n"
     ]
    },
    {
     "data": {
      "application/vnd.jupyter.widget-view+json": {
       "model_id": "ba095efd1e1e4a11b62029776c15d2ed",
       "version_major": 2,
       "version_minor": 0
      },
      "text/plain": [
       "Training epoch 410:   0%|          | 0/307 [00:00<?, ?it/s]"
      ]
     },
     "metadata": {},
     "output_type": "display_data"
    },
    {
     "name": "stderr",
     "output_type": "stream",
     "text": [
      "INFO:root:Validation, Epoch: 410, Loss: 0.462\n"
     ]
    },
    {
     "data": {
      "application/vnd.jupyter.widget-view+json": {
       "model_id": "ffc070c2341f48aa8957b8585be406a2",
       "version_major": 2,
       "version_minor": 0
      },
      "text/plain": [
       "Training epoch 411:   0%|          | 0/307 [00:00<?, ?it/s]"
      ]
     },
     "metadata": {},
     "output_type": "display_data"
    },
    {
     "name": "stderr",
     "output_type": "stream",
     "text": [
      "INFO:root:Validation, Epoch: 411, Loss: 0.463\n"
     ]
    },
    {
     "data": {
      "application/vnd.jupyter.widget-view+json": {
       "model_id": "394a2ab2941c4937bc29445d2b908884",
       "version_major": 2,
       "version_minor": 0
      },
      "text/plain": [
       "Training epoch 412:   0%|          | 0/307 [00:00<?, ?it/s]"
      ]
     },
     "metadata": {},
     "output_type": "display_data"
    },
    {
     "name": "stderr",
     "output_type": "stream",
     "text": [
      "INFO:root:Validation, Epoch: 412, Loss: 0.438\n"
     ]
    },
    {
     "data": {
      "application/vnd.jupyter.widget-view+json": {
       "model_id": "0f2549c40e604324baa08ff13d5b47cd",
       "version_major": 2,
       "version_minor": 0
      },
      "text/plain": [
       "Training epoch 413:   0%|          | 0/307 [00:00<?, ?it/s]"
      ]
     },
     "metadata": {},
     "output_type": "display_data"
    },
    {
     "name": "stderr",
     "output_type": "stream",
     "text": [
      "INFO:root:Validation, Epoch: 413, Loss: 0.465\n"
     ]
    },
    {
     "data": {
      "application/vnd.jupyter.widget-view+json": {
       "model_id": "89ce946184ff4878a8c0f55832af5e8f",
       "version_major": 2,
       "version_minor": 0
      },
      "text/plain": [
       "Training epoch 414:   0%|          | 0/307 [00:00<?, ?it/s]"
      ]
     },
     "metadata": {},
     "output_type": "display_data"
    },
    {
     "name": "stderr",
     "output_type": "stream",
     "text": [
      "INFO:root:Validation, Epoch: 414, Loss: 0.454\n"
     ]
    },
    {
     "data": {
      "application/vnd.jupyter.widget-view+json": {
       "model_id": "41392429f196466fa1010f5a018e054f",
       "version_major": 2,
       "version_minor": 0
      },
      "text/plain": [
       "Training epoch 415:   0%|          | 0/307 [00:00<?, ?it/s]"
      ]
     },
     "metadata": {},
     "output_type": "display_data"
    },
    {
     "name": "stderr",
     "output_type": "stream",
     "text": [
      "INFO:root:Validation, Epoch: 415, Loss: 0.444\n"
     ]
    },
    {
     "data": {
      "application/vnd.jupyter.widget-view+json": {
       "model_id": "c1ba19475b124d70904759b6ddd93216",
       "version_major": 2,
       "version_minor": 0
      },
      "text/plain": [
       "Training epoch 416:   0%|          | 0/307 [00:00<?, ?it/s]"
      ]
     },
     "metadata": {},
     "output_type": "display_data"
    },
    {
     "name": "stderr",
     "output_type": "stream",
     "text": [
      "INFO:root:Validation, Epoch: 416, Loss: 0.466\n"
     ]
    },
    {
     "data": {
      "application/vnd.jupyter.widget-view+json": {
       "model_id": "c0fdaf7c2da8438786ce999030e72b37",
       "version_major": 2,
       "version_minor": 0
      },
      "text/plain": [
       "Training epoch 417:   0%|          | 0/307 [00:00<?, ?it/s]"
      ]
     },
     "metadata": {},
     "output_type": "display_data"
    },
    {
     "name": "stderr",
     "output_type": "stream",
     "text": [
      "INFO:root:Validation, Epoch: 417, Loss: 0.447\n"
     ]
    },
    {
     "data": {
      "application/vnd.jupyter.widget-view+json": {
       "model_id": "76f53bff0d4b42d9b2f6c63199d6487e",
       "version_major": 2,
       "version_minor": 0
      },
      "text/plain": [
       "Training epoch 418:   0%|          | 0/307 [00:00<?, ?it/s]"
      ]
     },
     "metadata": {},
     "output_type": "display_data"
    },
    {
     "name": "stderr",
     "output_type": "stream",
     "text": [
      "INFO:root:Validation, Epoch: 418, Loss: 0.464\n"
     ]
    },
    {
     "data": {
      "application/vnd.jupyter.widget-view+json": {
       "model_id": "22d8120260b14d13aa40b1f1a5ddffeb",
       "version_major": 2,
       "version_minor": 0
      },
      "text/plain": [
       "Training epoch 419:   0%|          | 0/307 [00:00<?, ?it/s]"
      ]
     },
     "metadata": {},
     "output_type": "display_data"
    },
    {
     "name": "stderr",
     "output_type": "stream",
     "text": [
      "INFO:root:Validation, Epoch: 419, Loss: 0.449\n"
     ]
    },
    {
     "data": {
      "application/vnd.jupyter.widget-view+json": {
       "model_id": "301608d2ebcf45a8b2774de623f99641",
       "version_major": 2,
       "version_minor": 0
      },
      "text/plain": [
       "Training epoch 420:   0%|          | 0/307 [00:00<?, ?it/s]"
      ]
     },
     "metadata": {},
     "output_type": "display_data"
    },
    {
     "name": "stderr",
     "output_type": "stream",
     "text": [
      "INFO:root:Validation, Epoch: 420, Loss: 0.453\n"
     ]
    },
    {
     "data": {
      "application/vnd.jupyter.widget-view+json": {
       "model_id": "1cb1c74c763247d1a6ceb1720109f33c",
       "version_major": 2,
       "version_minor": 0
      },
      "text/plain": [
       "Training epoch 421:   0%|          | 0/307 [00:00<?, ?it/s]"
      ]
     },
     "metadata": {},
     "output_type": "display_data"
    },
    {
     "name": "stderr",
     "output_type": "stream",
     "text": [
      "INFO:root:Validation, Epoch: 421, Loss: 0.449\n"
     ]
    },
    {
     "data": {
      "application/vnd.jupyter.widget-view+json": {
       "model_id": "d0e385a0d89744f7ae83a32c4fa272ae",
       "version_major": 2,
       "version_minor": 0
      },
      "text/plain": [
       "Training epoch 422:   0%|          | 0/307 [00:00<?, ?it/s]"
      ]
     },
     "metadata": {},
     "output_type": "display_data"
    },
    {
     "name": "stderr",
     "output_type": "stream",
     "text": [
      "INFO:root:Validation, Epoch: 422, Loss: 0.466\n"
     ]
    },
    {
     "data": {
      "application/vnd.jupyter.widget-view+json": {
       "model_id": "f881fca489254cef98cbe99e78be8a6f",
       "version_major": 2,
       "version_minor": 0
      },
      "text/plain": [
       "Training epoch 423:   0%|          | 0/307 [00:00<?, ?it/s]"
      ]
     },
     "metadata": {},
     "output_type": "display_data"
    },
    {
     "name": "stderr",
     "output_type": "stream",
     "text": [
      "INFO:root:Validation, Epoch: 423, Loss: 0.452\n"
     ]
    },
    {
     "data": {
      "application/vnd.jupyter.widget-view+json": {
       "model_id": "c954a710a88c480abdaafae5562f5f95",
       "version_major": 2,
       "version_minor": 0
      },
      "text/plain": [
       "Training epoch 424:   0%|          | 0/307 [00:00<?, ?it/s]"
      ]
     },
     "metadata": {},
     "output_type": "display_data"
    },
    {
     "name": "stderr",
     "output_type": "stream",
     "text": [
      "INFO:root:Validation, Epoch: 424, Loss: 0.448\n"
     ]
    },
    {
     "data": {
      "application/vnd.jupyter.widget-view+json": {
       "model_id": "989623474a61440a81478141c842be6c",
       "version_major": 2,
       "version_minor": 0
      },
      "text/plain": [
       "Training epoch 425:   0%|          | 0/307 [00:00<?, ?it/s]"
      ]
     },
     "metadata": {},
     "output_type": "display_data"
    },
    {
     "name": "stderr",
     "output_type": "stream",
     "text": [
      "INFO:root:Validation, Epoch: 425, Loss: 0.459\n"
     ]
    },
    {
     "data": {
      "application/vnd.jupyter.widget-view+json": {
       "model_id": "1846bf91cfcf4def9b16c2f350a73f83",
       "version_major": 2,
       "version_minor": 0
      },
      "text/plain": [
       "Training epoch 426:   0%|          | 0/307 [00:00<?, ?it/s]"
      ]
     },
     "metadata": {},
     "output_type": "display_data"
    },
    {
     "name": "stderr",
     "output_type": "stream",
     "text": [
      "INFO:root:Validation, Epoch: 426, Loss: 0.443\n"
     ]
    },
    {
     "data": {
      "application/vnd.jupyter.widget-view+json": {
       "model_id": "bc0ae2b762504204acd5fc46790a38de",
       "version_major": 2,
       "version_minor": 0
      },
      "text/plain": [
       "Training epoch 427:   0%|          | 0/307 [00:00<?, ?it/s]"
      ]
     },
     "metadata": {},
     "output_type": "display_data"
    },
    {
     "name": "stderr",
     "output_type": "stream",
     "text": [
      "INFO:root:Validation, Epoch: 427, Loss: 0.447\n"
     ]
    },
    {
     "data": {
      "application/vnd.jupyter.widget-view+json": {
       "model_id": "fc89a32e7809457d8199cbf18e5eeab2",
       "version_major": 2,
       "version_minor": 0
      },
      "text/plain": [
       "Training epoch 428:   0%|          | 0/307 [00:00<?, ?it/s]"
      ]
     },
     "metadata": {},
     "output_type": "display_data"
    },
    {
     "name": "stderr",
     "output_type": "stream",
     "text": [
      "INFO:root:Validation, Epoch: 428, Loss: 0.444\n"
     ]
    },
    {
     "data": {
      "application/vnd.jupyter.widget-view+json": {
       "model_id": "9de359eb982f4509bbbf4fac22e4bf40",
       "version_major": 2,
       "version_minor": 0
      },
      "text/plain": [
       "Training epoch 429:   0%|          | 0/307 [00:00<?, ?it/s]"
      ]
     },
     "metadata": {},
     "output_type": "display_data"
    },
    {
     "name": "stderr",
     "output_type": "stream",
     "text": [
      "INFO:root:Validation, Epoch: 429, Loss: 0.454\n"
     ]
    },
    {
     "data": {
      "application/vnd.jupyter.widget-view+json": {
       "model_id": "7131e0747d134e6fb1dba26a77b9b0df",
       "version_major": 2,
       "version_minor": 0
      },
      "text/plain": [
       "Training epoch 430:   0%|          | 0/307 [00:00<?, ?it/s]"
      ]
     },
     "metadata": {},
     "output_type": "display_data"
    },
    {
     "name": "stderr",
     "output_type": "stream",
     "text": [
      "INFO:root:Validation, Epoch: 430, Loss: 0.466\n"
     ]
    },
    {
     "data": {
      "application/vnd.jupyter.widget-view+json": {
       "model_id": "80311be082904c9e8cb11b719de3d72d",
       "version_major": 2,
       "version_minor": 0
      },
      "text/plain": [
       "Training epoch 431:   0%|          | 0/307 [00:00<?, ?it/s]"
      ]
     },
     "metadata": {},
     "output_type": "display_data"
    },
    {
     "name": "stderr",
     "output_type": "stream",
     "text": [
      "INFO:root:Validation, Epoch: 431, Loss: 0.446\n"
     ]
    },
    {
     "data": {
      "application/vnd.jupyter.widget-view+json": {
       "model_id": "7afa621432e74be9877c584f52e9193b",
       "version_major": 2,
       "version_minor": 0
      },
      "text/plain": [
       "Training epoch 432:   0%|          | 0/307 [00:00<?, ?it/s]"
      ]
     },
     "metadata": {},
     "output_type": "display_data"
    },
    {
     "name": "stderr",
     "output_type": "stream",
     "text": [
      "INFO:root:Validation, Epoch: 432, Loss: 0.444\n"
     ]
    },
    {
     "data": {
      "application/vnd.jupyter.widget-view+json": {
       "model_id": "8e010d929a5f4f7cbb3ffe2de13ab74d",
       "version_major": 2,
       "version_minor": 0
      },
      "text/plain": [
       "Training epoch 433:   0%|          | 0/307 [00:00<?, ?it/s]"
      ]
     },
     "metadata": {},
     "output_type": "display_data"
    },
    {
     "name": "stderr",
     "output_type": "stream",
     "text": [
      "INFO:root:Validation, Epoch: 433, Loss: 0.447\n"
     ]
    },
    {
     "data": {
      "application/vnd.jupyter.widget-view+json": {
       "model_id": "7a940fb3c7f74c8592f9cc6849585e0b",
       "version_major": 2,
       "version_minor": 0
      },
      "text/plain": [
       "Training epoch 434:   0%|          | 0/307 [00:00<?, ?it/s]"
      ]
     },
     "metadata": {},
     "output_type": "display_data"
    },
    {
     "name": "stderr",
     "output_type": "stream",
     "text": [
      "INFO:root:Validation, Epoch: 434, Loss: 0.464\n"
     ]
    },
    {
     "data": {
      "application/vnd.jupyter.widget-view+json": {
       "model_id": "9adbbb45802f44a68839e19cb87698c1",
       "version_major": 2,
       "version_minor": 0
      },
      "text/plain": [
       "Training epoch 435:   0%|          | 0/307 [00:00<?, ?it/s]"
      ]
     },
     "metadata": {},
     "output_type": "display_data"
    },
    {
     "name": "stderr",
     "output_type": "stream",
     "text": [
      "INFO:root:Validation, Epoch: 435, Loss: 0.433\n"
     ]
    },
    {
     "data": {
      "application/vnd.jupyter.widget-view+json": {
       "model_id": "b67c07832dfc4452a929879d36a53538",
       "version_major": 2,
       "version_minor": 0
      },
      "text/plain": [
       "Training epoch 436:   0%|          | 0/307 [00:00<?, ?it/s]"
      ]
     },
     "metadata": {},
     "output_type": "display_data"
    },
    {
     "name": "stderr",
     "output_type": "stream",
     "text": [
      "INFO:root:Validation, Epoch: 436, Loss: 0.427\n"
     ]
    },
    {
     "data": {
      "application/vnd.jupyter.widget-view+json": {
       "model_id": "2d367f711feb46f2ab49f0eefa6b4800",
       "version_major": 2,
       "version_minor": 0
      },
      "text/plain": [
       "Training epoch 437:   0%|          | 0/307 [00:00<?, ?it/s]"
      ]
     },
     "metadata": {},
     "output_type": "display_data"
    },
    {
     "name": "stderr",
     "output_type": "stream",
     "text": [
      "INFO:root:Validation, Epoch: 437, Loss: 0.464\n"
     ]
    },
    {
     "data": {
      "application/vnd.jupyter.widget-view+json": {
       "model_id": "d07e0db1738e44e481ac9fcce039c97f",
       "version_major": 2,
       "version_minor": 0
      },
      "text/plain": [
       "Training epoch 438:   0%|          | 0/307 [00:00<?, ?it/s]"
      ]
     },
     "metadata": {},
     "output_type": "display_data"
    },
    {
     "name": "stderr",
     "output_type": "stream",
     "text": [
      "INFO:root:Validation, Epoch: 438, Loss: 0.454\n"
     ]
    },
    {
     "data": {
      "application/vnd.jupyter.widget-view+json": {
       "model_id": "cd5da4d4f12c415091299dc43ed14a05",
       "version_major": 2,
       "version_minor": 0
      },
      "text/plain": [
       "Training epoch 439:   0%|          | 0/307 [00:00<?, ?it/s]"
      ]
     },
     "metadata": {},
     "output_type": "display_data"
    },
    {
     "name": "stderr",
     "output_type": "stream",
     "text": [
      "INFO:root:Validation, Epoch: 439, Loss: 0.443\n"
     ]
    },
    {
     "data": {
      "application/vnd.jupyter.widget-view+json": {
       "model_id": "0cc7598013b64ce283f5f65a620b6bb7",
       "version_major": 2,
       "version_minor": 0
      },
      "text/plain": [
       "Training epoch 440:   0%|          | 0/307 [00:00<?, ?it/s]"
      ]
     },
     "metadata": {},
     "output_type": "display_data"
    },
    {
     "name": "stderr",
     "output_type": "stream",
     "text": [
      "INFO:root:Validation, Epoch: 440, Loss: 0.459\n"
     ]
    },
    {
     "data": {
      "application/vnd.jupyter.widget-view+json": {
       "model_id": "f514a8a4fa534fe1b0699f9df7380a46",
       "version_major": 2,
       "version_minor": 0
      },
      "text/plain": [
       "Training epoch 441:   0%|          | 0/307 [00:00<?, ?it/s]"
      ]
     },
     "metadata": {},
     "output_type": "display_data"
    },
    {
     "name": "stderr",
     "output_type": "stream",
     "text": [
      "INFO:root:Validation, Epoch: 441, Loss: 0.448\n"
     ]
    },
    {
     "data": {
      "application/vnd.jupyter.widget-view+json": {
       "model_id": "958e845e5f7541bfb02034de55c71356",
       "version_major": 2,
       "version_minor": 0
      },
      "text/plain": [
       "Training epoch 442:   0%|          | 0/307 [00:00<?, ?it/s]"
      ]
     },
     "metadata": {},
     "output_type": "display_data"
    },
    {
     "name": "stderr",
     "output_type": "stream",
     "text": [
      "INFO:root:Validation, Epoch: 442, Loss: 0.462\n"
     ]
    },
    {
     "data": {
      "application/vnd.jupyter.widget-view+json": {
       "model_id": "2f23b92fcab24696b8d2d77a1b69dc09",
       "version_major": 2,
       "version_minor": 0
      },
      "text/plain": [
       "Training epoch 443:   0%|          | 0/307 [00:00<?, ?it/s]"
      ]
     },
     "metadata": {},
     "output_type": "display_data"
    },
    {
     "name": "stderr",
     "output_type": "stream",
     "text": [
      "INFO:root:Validation, Epoch: 443, Loss: 0.458\n"
     ]
    },
    {
     "data": {
      "application/vnd.jupyter.widget-view+json": {
       "model_id": "63e729ec735c4cc68ef05c5ba93c608f",
       "version_major": 2,
       "version_minor": 0
      },
      "text/plain": [
       "Training epoch 444:   0%|          | 0/307 [00:00<?, ?it/s]"
      ]
     },
     "metadata": {},
     "output_type": "display_data"
    },
    {
     "name": "stderr",
     "output_type": "stream",
     "text": [
      "INFO:root:Validation, Epoch: 444, Loss: 0.469\n"
     ]
    },
    {
     "data": {
      "application/vnd.jupyter.widget-view+json": {
       "model_id": "1534750f5d11474384874b87909d2fc3",
       "version_major": 2,
       "version_minor": 0
      },
      "text/plain": [
       "Training epoch 445:   0%|          | 0/307 [00:00<?, ?it/s]"
      ]
     },
     "metadata": {},
     "output_type": "display_data"
    },
    {
     "name": "stderr",
     "output_type": "stream",
     "text": [
      "INFO:root:Validation, Epoch: 445, Loss: 0.450\n"
     ]
    },
    {
     "data": {
      "application/vnd.jupyter.widget-view+json": {
       "model_id": "06f9569144ab45f5a9a4f05d1436a2ba",
       "version_major": 2,
       "version_minor": 0
      },
      "text/plain": [
       "Training epoch 446:   0%|          | 0/307 [00:00<?, ?it/s]"
      ]
     },
     "metadata": {},
     "output_type": "display_data"
    },
    {
     "name": "stderr",
     "output_type": "stream",
     "text": [
      "INFO:root:Validation, Epoch: 446, Loss: 0.447\n"
     ]
    },
    {
     "data": {
      "application/vnd.jupyter.widget-view+json": {
       "model_id": "5afb25af2b424c33a428b2d5a3ef1286",
       "version_major": 2,
       "version_minor": 0
      },
      "text/plain": [
       "Training epoch 447:   0%|          | 0/307 [00:00<?, ?it/s]"
      ]
     },
     "metadata": {},
     "output_type": "display_data"
    },
    {
     "name": "stderr",
     "output_type": "stream",
     "text": [
      "INFO:root:Validation, Epoch: 447, Loss: 0.429\n"
     ]
    },
    {
     "data": {
      "application/vnd.jupyter.widget-view+json": {
       "model_id": "a20ab08ef5b24a66aa063e9cd725ee16",
       "version_major": 2,
       "version_minor": 0
      },
      "text/plain": [
       "Training epoch 448:   0%|          | 0/307 [00:00<?, ?it/s]"
      ]
     },
     "metadata": {},
     "output_type": "display_data"
    },
    {
     "name": "stderr",
     "output_type": "stream",
     "text": [
      "INFO:root:Validation, Epoch: 448, Loss: 0.460\n"
     ]
    },
    {
     "data": {
      "application/vnd.jupyter.widget-view+json": {
       "model_id": "2accedc882664f50aa74dab0e38fef8d",
       "version_major": 2,
       "version_minor": 0
      },
      "text/plain": [
       "Training epoch 449:   0%|          | 0/307 [00:00<?, ?it/s]"
      ]
     },
     "metadata": {},
     "output_type": "display_data"
    },
    {
     "name": "stderr",
     "output_type": "stream",
     "text": [
      "INFO:root:Validation, Epoch: 449, Loss: 0.455\n"
     ]
    },
    {
     "data": {
      "application/vnd.jupyter.widget-view+json": {
       "model_id": "8fa4fb2675ae411e87dd01d917d53047",
       "version_major": 2,
       "version_minor": 0
      },
      "text/plain": [
       "Training epoch 450:   0%|          | 0/307 [00:00<?, ?it/s]"
      ]
     },
     "metadata": {},
     "output_type": "display_data"
    },
    {
     "name": "stderr",
     "output_type": "stream",
     "text": [
      "INFO:root:Validation, Epoch: 450, Loss: 0.441\n"
     ]
    },
    {
     "data": {
      "application/vnd.jupyter.widget-view+json": {
       "model_id": "a3bdc5b5e2ca405aa708637849246172",
       "version_major": 2,
       "version_minor": 0
      },
      "text/plain": [
       "Training epoch 451:   0%|          | 0/307 [00:00<?, ?it/s]"
      ]
     },
     "metadata": {},
     "output_type": "display_data"
    },
    {
     "name": "stderr",
     "output_type": "stream",
     "text": [
      "INFO:root:Validation, Epoch: 451, Loss: 0.454\n"
     ]
    },
    {
     "data": {
      "application/vnd.jupyter.widget-view+json": {
       "model_id": "dd36f7f069c2406fa6d4269a25528999",
       "version_major": 2,
       "version_minor": 0
      },
      "text/plain": [
       "Training epoch 452:   0%|          | 0/307 [00:00<?, ?it/s]"
      ]
     },
     "metadata": {},
     "output_type": "display_data"
    },
    {
     "name": "stderr",
     "output_type": "stream",
     "text": [
      "INFO:root:Validation, Epoch: 452, Loss: 0.483\n"
     ]
    },
    {
     "data": {
      "application/vnd.jupyter.widget-view+json": {
       "model_id": "d1c60037a6844ea68570ab4e993f5151",
       "version_major": 2,
       "version_minor": 0
      },
      "text/plain": [
       "Training epoch 453:   0%|          | 0/307 [00:00<?, ?it/s]"
      ]
     },
     "metadata": {},
     "output_type": "display_data"
    },
    {
     "name": "stderr",
     "output_type": "stream",
     "text": [
      "INFO:root:Validation, Epoch: 453, Loss: 0.466\n"
     ]
    },
    {
     "data": {
      "application/vnd.jupyter.widget-view+json": {
       "model_id": "f9d9387b48064a108fd53421a858190b",
       "version_major": 2,
       "version_minor": 0
      },
      "text/plain": [
       "Training epoch 454:   0%|          | 0/307 [00:00<?, ?it/s]"
      ]
     },
     "metadata": {},
     "output_type": "display_data"
    },
    {
     "name": "stderr",
     "output_type": "stream",
     "text": [
      "INFO:root:Validation, Epoch: 454, Loss: 0.471\n"
     ]
    },
    {
     "data": {
      "application/vnd.jupyter.widget-view+json": {
       "model_id": "8f19648dcd3b47dc925dcc138fc25eab",
       "version_major": 2,
       "version_minor": 0
      },
      "text/plain": [
       "Training epoch 455:   0%|          | 0/307 [00:00<?, ?it/s]"
      ]
     },
     "metadata": {},
     "output_type": "display_data"
    },
    {
     "name": "stderr",
     "output_type": "stream",
     "text": [
      "INFO:root:Validation, Epoch: 455, Loss: 0.452\n"
     ]
    },
    {
     "data": {
      "application/vnd.jupyter.widget-view+json": {
       "model_id": "ef08b951d60741b0ac26881fee133e96",
       "version_major": 2,
       "version_minor": 0
      },
      "text/plain": [
       "Training epoch 456:   0%|          | 0/307 [00:00<?, ?it/s]"
      ]
     },
     "metadata": {},
     "output_type": "display_data"
    },
    {
     "name": "stderr",
     "output_type": "stream",
     "text": [
      "INFO:root:Validation, Epoch: 456, Loss: 0.459\n"
     ]
    },
    {
     "data": {
      "application/vnd.jupyter.widget-view+json": {
       "model_id": "d52f490ad9584f1da47bd0e00667ad82",
       "version_major": 2,
       "version_minor": 0
      },
      "text/plain": [
       "Training epoch 457:   0%|          | 0/307 [00:00<?, ?it/s]"
      ]
     },
     "metadata": {},
     "output_type": "display_data"
    },
    {
     "name": "stderr",
     "output_type": "stream",
     "text": [
      "INFO:root:Validation, Epoch: 457, Loss: 0.458\n"
     ]
    },
    {
     "data": {
      "application/vnd.jupyter.widget-view+json": {
       "model_id": "7d72f83bea5041a2878e23b2d82c37e2",
       "version_major": 2,
       "version_minor": 0
      },
      "text/plain": [
       "Training epoch 458:   0%|          | 0/307 [00:00<?, ?it/s]"
      ]
     },
     "metadata": {},
     "output_type": "display_data"
    },
    {
     "name": "stderr",
     "output_type": "stream",
     "text": [
      "INFO:root:Validation, Epoch: 458, Loss: 0.471\n"
     ]
    },
    {
     "data": {
      "application/vnd.jupyter.widget-view+json": {
       "model_id": "4d4c37bab5544744a949b9caa975b44e",
       "version_major": 2,
       "version_minor": 0
      },
      "text/plain": [
       "Training epoch 459:   0%|          | 0/307 [00:00<?, ?it/s]"
      ]
     },
     "metadata": {},
     "output_type": "display_data"
    },
    {
     "name": "stderr",
     "output_type": "stream",
     "text": [
      "INFO:root:Validation, Epoch: 459, Loss: 0.470\n"
     ]
    },
    {
     "data": {
      "application/vnd.jupyter.widget-view+json": {
       "model_id": "8edb3870c95d4f4ca354049f42aadfa3",
       "version_major": 2,
       "version_minor": 0
      },
      "text/plain": [
       "Training epoch 460:   0%|          | 0/307 [00:00<?, ?it/s]"
      ]
     },
     "metadata": {},
     "output_type": "display_data"
    },
    {
     "name": "stderr",
     "output_type": "stream",
     "text": [
      "INFO:root:Validation, Epoch: 460, Loss: 0.480\n"
     ]
    },
    {
     "data": {
      "application/vnd.jupyter.widget-view+json": {
       "model_id": "051b8269d25a4d628c2c9b92fae3494d",
       "version_major": 2,
       "version_minor": 0
      },
      "text/plain": [
       "Training epoch 461:   0%|          | 0/307 [00:00<?, ?it/s]"
      ]
     },
     "metadata": {},
     "output_type": "display_data"
    },
    {
     "name": "stderr",
     "output_type": "stream",
     "text": [
      "INFO:root:Validation, Epoch: 461, Loss: 0.459\n"
     ]
    },
    {
     "data": {
      "application/vnd.jupyter.widget-view+json": {
       "model_id": "8798623f2d2a490d8339ef41fc078302",
       "version_major": 2,
       "version_minor": 0
      },
      "text/plain": [
       "Training epoch 462:   0%|          | 0/307 [00:00<?, ?it/s]"
      ]
     },
     "metadata": {},
     "output_type": "display_data"
    },
    {
     "name": "stderr",
     "output_type": "stream",
     "text": [
      "INFO:root:Validation, Epoch: 462, Loss: 0.456\n"
     ]
    },
    {
     "data": {
      "application/vnd.jupyter.widget-view+json": {
       "model_id": "86dfe4af30a240a5a7cd0d4f771bd6f0",
       "version_major": 2,
       "version_minor": 0
      },
      "text/plain": [
       "Training epoch 463:   0%|          | 0/307 [00:00<?, ?it/s]"
      ]
     },
     "metadata": {},
     "output_type": "display_data"
    },
    {
     "name": "stderr",
     "output_type": "stream",
     "text": [
      "INFO:root:Validation, Epoch: 463, Loss: 0.474\n"
     ]
    },
    {
     "data": {
      "application/vnd.jupyter.widget-view+json": {
       "model_id": "ec675bc9c1964632b1418032a1df770e",
       "version_major": 2,
       "version_minor": 0
      },
      "text/plain": [
       "Training epoch 464:   0%|          | 0/307 [00:00<?, ?it/s]"
      ]
     },
     "metadata": {},
     "output_type": "display_data"
    },
    {
     "name": "stderr",
     "output_type": "stream",
     "text": [
      "INFO:root:Validation, Epoch: 464, Loss: 0.470\n"
     ]
    },
    {
     "data": {
      "application/vnd.jupyter.widget-view+json": {
       "model_id": "906cf601a576498a8f32b5a0707c8c1d",
       "version_major": 2,
       "version_minor": 0
      },
      "text/plain": [
       "Training epoch 465:   0%|          | 0/307 [00:00<?, ?it/s]"
      ]
     },
     "metadata": {},
     "output_type": "display_data"
    },
    {
     "name": "stderr",
     "output_type": "stream",
     "text": [
      "INFO:root:Validation, Epoch: 465, Loss: 0.459\n"
     ]
    },
    {
     "data": {
      "application/vnd.jupyter.widget-view+json": {
       "model_id": "7351bd47b02944ec8b1c93edf3683432",
       "version_major": 2,
       "version_minor": 0
      },
      "text/plain": [
       "Training epoch 466:   0%|          | 0/307 [00:00<?, ?it/s]"
      ]
     },
     "metadata": {},
     "output_type": "display_data"
    },
    {
     "name": "stderr",
     "output_type": "stream",
     "text": [
      "INFO:root:Validation, Epoch: 466, Loss: 0.459\n"
     ]
    },
    {
     "data": {
      "application/vnd.jupyter.widget-view+json": {
       "model_id": "c0743cd4cb0347b4b78a8bbb0cac9508",
       "version_major": 2,
       "version_minor": 0
      },
      "text/plain": [
       "Training epoch 467:   0%|          | 0/307 [00:00<?, ?it/s]"
      ]
     },
     "metadata": {},
     "output_type": "display_data"
    },
    {
     "name": "stderr",
     "output_type": "stream",
     "text": [
      "INFO:root:Validation, Epoch: 467, Loss: 0.445\n"
     ]
    },
    {
     "data": {
      "application/vnd.jupyter.widget-view+json": {
       "model_id": "a8d887f39bc4446e96b7e1af2a53c2d3",
       "version_major": 2,
       "version_minor": 0
      },
      "text/plain": [
       "Training epoch 468:   0%|          | 0/307 [00:00<?, ?it/s]"
      ]
     },
     "metadata": {},
     "output_type": "display_data"
    },
    {
     "name": "stderr",
     "output_type": "stream",
     "text": [
      "INFO:root:Validation, Epoch: 468, Loss: 0.461\n"
     ]
    },
    {
     "data": {
      "application/vnd.jupyter.widget-view+json": {
       "model_id": "8af8a92ccb134a93a15384c58ee1c4fb",
       "version_major": 2,
       "version_minor": 0
      },
      "text/plain": [
       "Training epoch 469:   0%|          | 0/307 [00:00<?, ?it/s]"
      ]
     },
     "metadata": {},
     "output_type": "display_data"
    },
    {
     "name": "stderr",
     "output_type": "stream",
     "text": [
      "INFO:root:Validation, Epoch: 469, Loss: 0.477\n"
     ]
    },
    {
     "data": {
      "application/vnd.jupyter.widget-view+json": {
       "model_id": "f0d46a69485045e4b1626c0c80b89abd",
       "version_major": 2,
       "version_minor": 0
      },
      "text/plain": [
       "Training epoch 470:   0%|          | 0/307 [00:00<?, ?it/s]"
      ]
     },
     "metadata": {},
     "output_type": "display_data"
    },
    {
     "name": "stderr",
     "output_type": "stream",
     "text": [
      "INFO:root:Validation, Epoch: 470, Loss: 0.459\n"
     ]
    },
    {
     "data": {
      "application/vnd.jupyter.widget-view+json": {
       "model_id": "adea122f446f4916a948f5905fd32033",
       "version_major": 2,
       "version_minor": 0
      },
      "text/plain": [
       "Training epoch 471:   0%|          | 0/307 [00:00<?, ?it/s]"
      ]
     },
     "metadata": {},
     "output_type": "display_data"
    },
    {
     "name": "stderr",
     "output_type": "stream",
     "text": [
      "INFO:root:Validation, Epoch: 471, Loss: 0.461\n"
     ]
    },
    {
     "data": {
      "application/vnd.jupyter.widget-view+json": {
       "model_id": "718e0fef86fc4e1ebfd7f6699a99b0ec",
       "version_major": 2,
       "version_minor": 0
      },
      "text/plain": [
       "Training epoch 472:   0%|          | 0/307 [00:00<?, ?it/s]"
      ]
     },
     "metadata": {},
     "output_type": "display_data"
    },
    {
     "name": "stderr",
     "output_type": "stream",
     "text": [
      "INFO:root:Validation, Epoch: 472, Loss: 0.475\n"
     ]
    },
    {
     "data": {
      "application/vnd.jupyter.widget-view+json": {
       "model_id": "6b2c4f1ef71e448dbbca4becdcd89607",
       "version_major": 2,
       "version_minor": 0
      },
      "text/plain": [
       "Training epoch 473:   0%|          | 0/307 [00:00<?, ?it/s]"
      ]
     },
     "metadata": {},
     "output_type": "display_data"
    },
    {
     "name": "stderr",
     "output_type": "stream",
     "text": [
      "INFO:root:Validation, Epoch: 473, Loss: 0.455\n"
     ]
    },
    {
     "data": {
      "application/vnd.jupyter.widget-view+json": {
       "model_id": "a1734b3f89c14f6abc5fdea84b32683d",
       "version_major": 2,
       "version_minor": 0
      },
      "text/plain": [
       "Training epoch 474:   0%|          | 0/307 [00:00<?, ?it/s]"
      ]
     },
     "metadata": {},
     "output_type": "display_data"
    },
    {
     "name": "stderr",
     "output_type": "stream",
     "text": [
      "INFO:root:Validation, Epoch: 474, Loss: 0.455\n"
     ]
    },
    {
     "data": {
      "application/vnd.jupyter.widget-view+json": {
       "model_id": "14f2ad9463094935a724ebce0eebfd72",
       "version_major": 2,
       "version_minor": 0
      },
      "text/plain": [
       "Training epoch 475:   0%|          | 0/307 [00:00<?, ?it/s]"
      ]
     },
     "metadata": {},
     "output_type": "display_data"
    },
    {
     "name": "stderr",
     "output_type": "stream",
     "text": [
      "INFO:root:Validation, Epoch: 475, Loss: 0.489\n"
     ]
    },
    {
     "data": {
      "application/vnd.jupyter.widget-view+json": {
       "model_id": "64efc8e6f7924bf28f52eecc9dd1a25e",
       "version_major": 2,
       "version_minor": 0
      },
      "text/plain": [
       "Training epoch 476:   0%|          | 0/307 [00:00<?, ?it/s]"
      ]
     },
     "metadata": {},
     "output_type": "display_data"
    },
    {
     "name": "stderr",
     "output_type": "stream",
     "text": [
      "INFO:root:Validation, Epoch: 476, Loss: 0.470\n"
     ]
    },
    {
     "data": {
      "application/vnd.jupyter.widget-view+json": {
       "model_id": "a0978e59651d4114a17cb0c46dce9e5e",
       "version_major": 2,
       "version_minor": 0
      },
      "text/plain": [
       "Training epoch 477:   0%|          | 0/307 [00:00<?, ?it/s]"
      ]
     },
     "metadata": {},
     "output_type": "display_data"
    },
    {
     "name": "stderr",
     "output_type": "stream",
     "text": [
      "INFO:root:Validation, Epoch: 477, Loss: 0.466\n"
     ]
    },
    {
     "data": {
      "application/vnd.jupyter.widget-view+json": {
       "model_id": "e41900ebc0f54a2faeb51f857d52e0c0",
       "version_major": 2,
       "version_minor": 0
      },
      "text/plain": [
       "Training epoch 478:   0%|          | 0/307 [00:00<?, ?it/s]"
      ]
     },
     "metadata": {},
     "output_type": "display_data"
    },
    {
     "name": "stderr",
     "output_type": "stream",
     "text": [
      "INFO:root:Validation, Epoch: 478, Loss: 0.454\n"
     ]
    },
    {
     "data": {
      "application/vnd.jupyter.widget-view+json": {
       "model_id": "5f300a8d565c439792988d5d21ef897e",
       "version_major": 2,
       "version_minor": 0
      },
      "text/plain": [
       "Training epoch 479:   0%|          | 0/307 [00:00<?, ?it/s]"
      ]
     },
     "metadata": {},
     "output_type": "display_data"
    },
    {
     "name": "stderr",
     "output_type": "stream",
     "text": [
      "INFO:root:Validation, Epoch: 479, Loss: 0.461\n"
     ]
    },
    {
     "data": {
      "application/vnd.jupyter.widget-view+json": {
       "model_id": "8237fc6b2fb34462a155f8668af69d33",
       "version_major": 2,
       "version_minor": 0
      },
      "text/plain": [
       "Training epoch 480:   0%|          | 0/307 [00:00<?, ?it/s]"
      ]
     },
     "metadata": {},
     "output_type": "display_data"
    },
    {
     "name": "stderr",
     "output_type": "stream",
     "text": [
      "INFO:root:Validation, Epoch: 480, Loss: 0.467\n"
     ]
    },
    {
     "data": {
      "application/vnd.jupyter.widget-view+json": {
       "model_id": "c43f22c0866c46b4ab47f20933281ca2",
       "version_major": 2,
       "version_minor": 0
      },
      "text/plain": [
       "Training epoch 481:   0%|          | 0/307 [00:00<?, ?it/s]"
      ]
     },
     "metadata": {},
     "output_type": "display_data"
    },
    {
     "name": "stderr",
     "output_type": "stream",
     "text": [
      "INFO:root:Validation, Epoch: 481, Loss: 0.463\n"
     ]
    },
    {
     "data": {
      "application/vnd.jupyter.widget-view+json": {
       "model_id": "1ba250b9a79c451c81f5ba1696f0686b",
       "version_major": 2,
       "version_minor": 0
      },
      "text/plain": [
       "Training epoch 482:   0%|          | 0/307 [00:00<?, ?it/s]"
      ]
     },
     "metadata": {},
     "output_type": "display_data"
    },
    {
     "name": "stderr",
     "output_type": "stream",
     "text": [
      "INFO:root:Validation, Epoch: 482, Loss: 0.467\n"
     ]
    },
    {
     "data": {
      "application/vnd.jupyter.widget-view+json": {
       "model_id": "a8505845dc1a4a80b0620379e0001887",
       "version_major": 2,
       "version_minor": 0
      },
      "text/plain": [
       "Training epoch 483:   0%|          | 0/307 [00:00<?, ?it/s]"
      ]
     },
     "metadata": {},
     "output_type": "display_data"
    },
    {
     "name": "stderr",
     "output_type": "stream",
     "text": [
      "INFO:root:Validation, Epoch: 483, Loss: 0.467\n"
     ]
    },
    {
     "data": {
      "application/vnd.jupyter.widget-view+json": {
       "model_id": "86ce72009f8849b693e9282035902d38",
       "version_major": 2,
       "version_minor": 0
      },
      "text/plain": [
       "Training epoch 484:   0%|          | 0/307 [00:00<?, ?it/s]"
      ]
     },
     "metadata": {},
     "output_type": "display_data"
    },
    {
     "name": "stderr",
     "output_type": "stream",
     "text": [
      "INFO:root:Validation, Epoch: 484, Loss: 0.445\n"
     ]
    },
    {
     "data": {
      "application/vnd.jupyter.widget-view+json": {
       "model_id": "e54ca0e332884b9f8fc7427b253c1187",
       "version_major": 2,
       "version_minor": 0
      },
      "text/plain": [
       "Training epoch 485:   0%|          | 0/307 [00:00<?, ?it/s]"
      ]
     },
     "metadata": {},
     "output_type": "display_data"
    },
    {
     "name": "stderr",
     "output_type": "stream",
     "text": [
      "INFO:root:Validation, Epoch: 485, Loss: 0.459\n"
     ]
    },
    {
     "data": {
      "application/vnd.jupyter.widget-view+json": {
       "model_id": "a75a022439794e829760f34e6557dc54",
       "version_major": 2,
       "version_minor": 0
      },
      "text/plain": [
       "Training epoch 486:   0%|          | 0/307 [00:00<?, ?it/s]"
      ]
     },
     "metadata": {},
     "output_type": "display_data"
    },
    {
     "name": "stderr",
     "output_type": "stream",
     "text": [
      "INFO:root:Validation, Epoch: 486, Loss: 0.471\n"
     ]
    },
    {
     "data": {
      "application/vnd.jupyter.widget-view+json": {
       "model_id": "76607eafb8024010a733ec59abcf8132",
       "version_major": 2,
       "version_minor": 0
      },
      "text/plain": [
       "Training epoch 487:   0%|          | 0/307 [00:00<?, ?it/s]"
      ]
     },
     "metadata": {},
     "output_type": "display_data"
    },
    {
     "name": "stderr",
     "output_type": "stream",
     "text": [
      "INFO:root:Validation, Epoch: 487, Loss: 0.468\n"
     ]
    },
    {
     "data": {
      "application/vnd.jupyter.widget-view+json": {
       "model_id": "6d124ccbbd8844c3b1847d8f2828c91c",
       "version_major": 2,
       "version_minor": 0
      },
      "text/plain": [
       "Training epoch 488:   0%|          | 0/307 [00:00<?, ?it/s]"
      ]
     },
     "metadata": {},
     "output_type": "display_data"
    },
    {
     "name": "stderr",
     "output_type": "stream",
     "text": [
      "INFO:root:Validation, Epoch: 488, Loss: 0.476\n"
     ]
    },
    {
     "data": {
      "application/vnd.jupyter.widget-view+json": {
       "model_id": "aef77dbaff954c32b2b459805bc6f628",
       "version_major": 2,
       "version_minor": 0
      },
      "text/plain": [
       "Training epoch 489:   0%|          | 0/307 [00:00<?, ?it/s]"
      ]
     },
     "metadata": {},
     "output_type": "display_data"
    },
    {
     "name": "stderr",
     "output_type": "stream",
     "text": [
      "INFO:root:Validation, Epoch: 489, Loss: 0.487\n"
     ]
    },
    {
     "data": {
      "application/vnd.jupyter.widget-view+json": {
       "model_id": "251b6cdfe534436db50f55ca9ddb678e",
       "version_major": 2,
       "version_minor": 0
      },
      "text/plain": [
       "Training epoch 490:   0%|          | 0/307 [00:00<?, ?it/s]"
      ]
     },
     "metadata": {},
     "output_type": "display_data"
    },
    {
     "name": "stderr",
     "output_type": "stream",
     "text": [
      "INFO:root:Validation, Epoch: 490, Loss: 0.484\n"
     ]
    },
    {
     "data": {
      "application/vnd.jupyter.widget-view+json": {
       "model_id": "654fd502f5534fef94d8b3b753509744",
       "version_major": 2,
       "version_minor": 0
      },
      "text/plain": [
       "Training epoch 491:   0%|          | 0/307 [00:00<?, ?it/s]"
      ]
     },
     "metadata": {},
     "output_type": "display_data"
    },
    {
     "name": "stderr",
     "output_type": "stream",
     "text": [
      "INFO:root:Validation, Epoch: 491, Loss: 0.476\n"
     ]
    },
    {
     "data": {
      "application/vnd.jupyter.widget-view+json": {
       "model_id": "739bb8f3d677403aa0924ded0d7b9fe6",
       "version_major": 2,
       "version_minor": 0
      },
      "text/plain": [
       "Training epoch 492:   0%|          | 0/307 [00:00<?, ?it/s]"
      ]
     },
     "metadata": {},
     "output_type": "display_data"
    },
    {
     "name": "stderr",
     "output_type": "stream",
     "text": [
      "INFO:root:Validation, Epoch: 492, Loss: 0.459\n"
     ]
    },
    {
     "data": {
      "application/vnd.jupyter.widget-view+json": {
       "model_id": "4b0f5b7fbe4445ce8be82ef74de49647",
       "version_major": 2,
       "version_minor": 0
      },
      "text/plain": [
       "Training epoch 493:   0%|          | 0/307 [00:00<?, ?it/s]"
      ]
     },
     "metadata": {},
     "output_type": "display_data"
    },
    {
     "name": "stderr",
     "output_type": "stream",
     "text": [
      "INFO:root:Validation, Epoch: 493, Loss: 0.481\n"
     ]
    },
    {
     "data": {
      "application/vnd.jupyter.widget-view+json": {
       "model_id": "ff114fb94db8475391bac8167c084c9a",
       "version_major": 2,
       "version_minor": 0
      },
      "text/plain": [
       "Training epoch 494:   0%|          | 0/307 [00:00<?, ?it/s]"
      ]
     },
     "metadata": {},
     "output_type": "display_data"
    },
    {
     "name": "stderr",
     "output_type": "stream",
     "text": [
      "INFO:root:Validation, Epoch: 494, Loss: 0.466\n"
     ]
    },
    {
     "data": {
      "application/vnd.jupyter.widget-view+json": {
       "model_id": "7d02f7c02072404e9ce7ae51a07b1c7e",
       "version_major": 2,
       "version_minor": 0
      },
      "text/plain": [
       "Training epoch 495:   0%|          | 0/307 [00:00<?, ?it/s]"
      ]
     },
     "metadata": {},
     "output_type": "display_data"
    },
    {
     "name": "stderr",
     "output_type": "stream",
     "text": [
      "INFO:root:Validation, Epoch: 495, Loss: 0.453\n"
     ]
    },
    {
     "data": {
      "application/vnd.jupyter.widget-view+json": {
       "model_id": "202dbef615c84cbba82bd117a75427eb",
       "version_major": 2,
       "version_minor": 0
      },
      "text/plain": [
       "Training epoch 496:   0%|          | 0/307 [00:00<?, ?it/s]"
      ]
     },
     "metadata": {},
     "output_type": "display_data"
    },
    {
     "name": "stderr",
     "output_type": "stream",
     "text": [
      "INFO:root:Validation, Epoch: 496, Loss: 0.467\n"
     ]
    },
    {
     "data": {
      "application/vnd.jupyter.widget-view+json": {
       "model_id": "f665f2338280448b95dfc0556d469078",
       "version_major": 2,
       "version_minor": 0
      },
      "text/plain": [
       "Training epoch 497:   0%|          | 0/307 [00:00<?, ?it/s]"
      ]
     },
     "metadata": {},
     "output_type": "display_data"
    },
    {
     "name": "stderr",
     "output_type": "stream",
     "text": [
      "INFO:root:Validation, Epoch: 497, Loss: 0.460\n"
     ]
    },
    {
     "data": {
      "application/vnd.jupyter.widget-view+json": {
       "model_id": "794aa077cf824722bfc87ee057387411",
       "version_major": 2,
       "version_minor": 0
      },
      "text/plain": [
       "Training epoch 498:   0%|          | 0/307 [00:00<?, ?it/s]"
      ]
     },
     "metadata": {},
     "output_type": "display_data"
    },
    {
     "name": "stderr",
     "output_type": "stream",
     "text": [
      "INFO:root:Validation, Epoch: 498, Loss: 0.462\n"
     ]
    },
    {
     "data": {
      "application/vnd.jupyter.widget-view+json": {
       "model_id": "f1b296ffd266488f9fddbc516c56c36b",
       "version_major": 2,
       "version_minor": 0
      },
      "text/plain": [
       "Training epoch 499:   0%|          | 0/307 [00:00<?, ?it/s]"
      ]
     },
     "metadata": {},
     "output_type": "display_data"
    },
    {
     "name": "stderr",
     "output_type": "stream",
     "text": [
      "INFO:root:Validation, Epoch: 499, Loss: 0.474\n"
     ]
    },
    {
     "data": {
      "application/vnd.jupyter.widget-view+json": {
       "model_id": "5233c9186cae49a3ae3d1cc177431745",
       "version_major": 2,
       "version_minor": 0
      },
      "text/plain": [
       "Training epoch 500:   0%|          | 0/307 [00:00<?, ?it/s]"
      ]
     },
     "metadata": {},
     "output_type": "display_data"
    },
    {
     "name": "stderr",
     "output_type": "stream",
     "text": [
      "INFO:root:Validation, Epoch: 500, Loss: 0.469\n"
     ]
    }
   ],
   "source": [
    "h = trainer.train_offline(\n",
    "    train_data, \n",
    "    epochs=EPOCHS,\n",
    "    batch_size=BATCH_SIZE, \n",
    "    validation_sims=val_data,\n",
    "    optimizer=optimizer\n",
    ")"
   ]
  },
  {
   "cell_type": "markdown",
   "id": "6f4d3a95",
   "metadata": {},
   "source": [
    "## Quick Validation"
   ]
  },
  {
   "cell_type": "code",
   "execution_count": 13,
   "id": "56a56671",
   "metadata": {},
   "outputs": [],
   "source": [
    "conf = configure_input(val_data)"
   ]
  },
  {
   "cell_type": "code",
   "execution_count": 17,
   "id": "96376bb7",
   "metadata": {},
   "outputs": [
    {
     "data": {
      "text/plain": [
       "(400, 300, 3)"
      ]
     },
     "execution_count": 17,
     "metadata": {},
     "output_type": "execute_result"
    }
   ],
   "source": [
    "conf['summary_conditions'][0].shape"
   ]
  },
  {
   "cell_type": "code",
   "execution_count": 19,
   "id": "eeca4482",
   "metadata": {},
   "outputs": [],
   "source": [
    "samples = amortizer.sample(conf, n_samples=500, n_steps=30, to_numpy=False)"
   ]
  },
  {
   "cell_type": "code",
   "execution_count": 22,
   "id": "44ef2243",
   "metadata": {},
   "outputs": [
    {
     "data": {
      "image/png": "[encoded data removed]",
      "text/plain": [
       "<Figure size 1600x800 with 7 Axes>"
      ]
     },
     "metadata": {},
     "output_type": "display_data"
    }
   ],
   "source": [
    "f = bf.diagnostics.plot_recovery(samples, conf['parameters'])"
   ]
  },
  {
   "cell_type": "code",
   "execution_count": null,
   "id": "da04e13c",
   "metadata": {},
   "outputs": [],
   "source": []
  }
 ],
 "metadata": {
  "kernelspec": {
   "display_name": "Python 3 (ipykernel)",
   "language": "python",
   "name": "python3"
  },
  "language_info": {
   "codemirror_mode": {
    "name": "ipython",
    "version": 3
   },
   "file_extension": ".py",
   "mimetype": "text/x-python",
   "name": "python",
   "nbconvert_exporter": "python",
   "pygments_lexer": "ipython3",
   "version": "3.10.12"
  }
 },
 "nbformat": 4,
 "nbformat_minor": 5
}
